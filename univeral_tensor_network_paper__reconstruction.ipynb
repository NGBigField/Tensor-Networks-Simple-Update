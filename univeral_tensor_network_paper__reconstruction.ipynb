{
  "nbformat": 4,
  "nbformat_minor": 0,
  "metadata": {
    "colab": {
      "name": "univeral_tensor_network_paper_ reconstruction.ipynb",
      "provenance": [],
      "collapsed_sections": [],
      "authorship_tag": "ABX9TyPhKkEuNk6f4a3A9psB3h+n",
      "include_colab_link": true
    },
    "kernelspec": {
      "name": "python3",
      "display_name": "Python 3"
    },
    "language_info": {
      "name": "python"
    }
  },
  "cells": [
    {
      "cell_type": "markdown",
      "metadata": {
        "id": "view-in-github",
        "colab_type": "text"
      },
      "source": [
        "<a href=\"https://colab.research.google.com/github/RoyElkabetz/Tensor-Networks-Simple-Update/blob/main/univeral_tensor_network_paper__reconstruction.ipynb\" target=\"_parent\"><img src=\"https://colab.research.google.com/assets/colab-badge.svg\" alt=\"Open In Colab\"/></a>"
      ]
    },
    {
      "cell_type": "code",
      "metadata": {
        "colab": {
          "base_uri": "https://localhost:8080/"
        },
        "id": "2GDnnrh3an72",
        "outputId": "96ff58f5-14bf-403d-d035-a248095a0c46"
      },
      "source": [
        "## uncomment only if running from google.colab\n",
        "# clone the git reposetory\n",
        "!git clone https://github.com/RoyElkabetz/Tensor-Networks-Simple-Update\n",
        "# add path to .py files for import\n",
        "import sys\n",
        "sys.path.insert(1, \"/content/Tensor-Networks-Simple-Update/src\")"
      ],
      "execution_count": 1,
      "outputs": [
        {
          "output_type": "stream",
          "text": [
            "Cloning into 'Tensor-Networks-Simple-Update'...\n",
            "remote: Enumerating objects: 200, done.\u001b[K\n",
            "remote: Counting objects: 100% (200/200), done.\u001b[K\n",
            "remote: Compressing objects: 100% (143/143), done.\u001b[K\n",
            "remote: Total 200 (delta 111), reused 125 (delta 53), pack-reused 0\u001b[K\n",
            "Receiving objects: 100% (200/200), 85.58 KiB | 12.22 MiB/s, done.\n",
            "Resolving deltas: 100% (111/111), done.\n"
          ],
          "name": "stdout"
        }
      ]
    },
    {
      "cell_type": "code",
      "metadata": {
        "id": "x9gTThCjbrzm"
      },
      "source": [
        "import numpy as np\n",
        "import matplotlib.pyplot as plt\n",
        "from TensorNetwork import TensorNetwork\n",
        "import SimpleUpdate as su\n",
        "\n",
        "np.random.seed(216)"
      ],
      "execution_count": 26,
      "outputs": []
    },
    {
      "cell_type": "code",
      "metadata": {
        "id": "sjPbaccSkW94"
      },
      "source": [
        "# Pauli matrices\n",
        "pauli_x = np.array([[0, 1],\n",
        "                    [1, 0]])\n",
        "pauli_y = np.array([[0, -1j],\n",
        "                    [1j, 0]])\n",
        "pauli_z = np.array([[1, 0],\n",
        "                    [0, -1]])\n",
        "s_i = [pauli_x / 2., pauli_y / 2., pauli_z / 2.]\n",
        "s_j = [pauli_x / 2., pauli_y / 2., pauli_z / 2.]\n",
        "s_k = [pauli_x / 2.]"
      ],
      "execution_count": null,
      "outputs": []
    },
    {
      "cell_type": "code",
      "metadata": {
        "id": "IjgfQzq9iWbm",
        "outputId": "9422b03c-45bf-408e-fb49-b7474ee65781",
        "colab": {
          "base_uri": "https://localhost:8080/",
          "height": 528
        }
      },
      "source": [
        "# The Tensor Network structure matrix\n",
        "chain_structure_matrix = np.array([[1, 2],\n",
        "                                  [1, 2]])\n",
        "\n",
        "# Simple-Update parameters\n",
        "d_max_chain = [2, 3, 4, 5, 6, 7, 8, 9, 10, 20, 30, 40, 50, 60]\n",
        "error = 1e-6\n",
        "max_iterations = 200\n",
        "chain_energy = []\n",
        "j_ij_chain = [1., 1.]\n",
        "dts = [0.1, 0.01, 0.001, 0.0001, 0.00001]\n",
        "h_k = 0.\n",
        "\n",
        "\n",
        "# Run\n",
        "for d_max in d_max_chain:\n",
        "    chain = TensorNetwork(structure_matrix=chain_structure_matrix, virtual_size=2)\n",
        "    chain_su = su.SimpleUpdate(tensor_network=chain, \n",
        "                               dts=dts, \n",
        "                               j_ij=j_ij_chain, \n",
        "                               h_k=h_k, \n",
        "                               s_i=s_i, \n",
        "                               s_j=s_j, \n",
        "                               s_k=s_k, \n",
        "                               d_max=d_max, \n",
        "                               max_iterations=max_iterations, \n",
        "                               convergence_error=error, \n",
        "                               log_energy=True,\n",
        "                               print_process=False)\n",
        "    chain_su.run()\n",
        "    energy = chain_su.energy_per_site()\n",
        "    print(f'| D max: {d_max} | Chain Energy: {energy}\\n')\n",
        "    chain_energy.append(energy)"
      ],
      "execution_count": 30,
      "outputs": [
        {
          "output_type": "stream",
          "text": [
            "Simple Update converged. final error is 0.0000000037\n",
            "\n",
            "| D max: 2 | Chain Energy: -0.42788481552077\n",
            "\n",
            "Simple Update converged. final error is 0.0000000044\n",
            "\n",
            "| D max: 3 | Chain Energy: -0.4357550767762163\n",
            "\n"
          ],
          "name": "stdout"
        },
        {
          "output_type": "error",
          "ename": "KeyboardInterrupt",
          "evalue": "ignored",
          "traceback": [
            "\u001b[0;31m---------------------------------------------------------------------------\u001b[0m",
            "\u001b[0;31mKeyboardInterrupt\u001b[0m                         Traceback (most recent call last)",
            "\u001b[0;32m<ipython-input-30-843af1ec7082>\u001b[0m in \u001b[0;36m<module>\u001b[0;34m()\u001b[0m\n\u001b[1;32m     26\u001b[0m                                 \u001b[0mlog_energy\u001b[0m\u001b[0;34m=\u001b[0m\u001b[0;32mTrue\u001b[0m\u001b[0;34m,\u001b[0m\u001b[0;34m\u001b[0m\u001b[0;34m\u001b[0m\u001b[0m\n\u001b[1;32m     27\u001b[0m                                 print_process=False)\n\u001b[0;32m---> 28\u001b[0;31m     \u001b[0mchain_su\u001b[0m\u001b[0;34m.\u001b[0m\u001b[0mrun\u001b[0m\u001b[0;34m(\u001b[0m\u001b[0;34m)\u001b[0m\u001b[0;34m\u001b[0m\u001b[0;34m\u001b[0m\u001b[0m\n\u001b[0m\u001b[1;32m     29\u001b[0m     \u001b[0menergy\u001b[0m \u001b[0;34m=\u001b[0m \u001b[0mchain_su\u001b[0m\u001b[0;34m.\u001b[0m\u001b[0menergy_per_site\u001b[0m\u001b[0;34m(\u001b[0m\u001b[0;34m)\u001b[0m\u001b[0;34m\u001b[0m\u001b[0;34m\u001b[0m\u001b[0m\n\u001b[1;32m     30\u001b[0m     \u001b[0mprint\u001b[0m\u001b[0;34m(\u001b[0m\u001b[0;34mf'| D max: {d_max} | Chain Energy: {energy}\\n'\u001b[0m\u001b[0;34m)\u001b[0m\u001b[0;34m\u001b[0m\u001b[0;34m\u001b[0m\u001b[0m\n",
            "\u001b[0;32m/content/Tensor-Networks-Simple-Update/src/SimpleUpdate.py\u001b[0m in \u001b[0;36mrun\u001b[0;34m(self)\u001b[0m\n\u001b[1;32m     60\u001b[0m             \u001b[0;32mfor\u001b[0m \u001b[0mi\u001b[0m \u001b[0;32min\u001b[0m \u001b[0mrange\u001b[0m\u001b[0;34m(\u001b[0m\u001b[0mself\u001b[0m\u001b[0;34m.\u001b[0m\u001b[0mmax_iterations\u001b[0m\u001b[0;34m)\u001b[0m\u001b[0;34m:\u001b[0m\u001b[0;34m\u001b[0m\u001b[0;34m\u001b[0m\u001b[0m\n\u001b[1;32m     61\u001b[0m                 \u001b[0mself\u001b[0m\u001b[0;34m.\u001b[0m\u001b[0mold_weights\u001b[0m \u001b[0;34m=\u001b[0m \u001b[0mcp\u001b[0m\u001b[0;34m.\u001b[0m\u001b[0mdeepcopy\u001b[0m\u001b[0;34m(\u001b[0m\u001b[0mself\u001b[0m\u001b[0;34m.\u001b[0m\u001b[0mweights\u001b[0m\u001b[0;34m)\u001b[0m\u001b[0;34m\u001b[0m\u001b[0;34m\u001b[0m\u001b[0m\n\u001b[0;32m---> 62\u001b[0;31m                 \u001b[0mself\u001b[0m\u001b[0;34m.\u001b[0m\u001b[0msimple_update\u001b[0m\u001b[0;34m(\u001b[0m\u001b[0;34m)\u001b[0m\u001b[0;34m\u001b[0m\u001b[0;34m\u001b[0m\u001b[0m\n\u001b[0m\u001b[1;32m     63\u001b[0m                 \u001b[0;32mif\u001b[0m \u001b[0mi\u001b[0m \u001b[0;34m%\u001b[0m \u001b[0;36m20\u001b[0m \u001b[0;34m==\u001b[0m \u001b[0;36m0\u001b[0m \u001b[0;32mand\u001b[0m \u001b[0mi\u001b[0m \u001b[0;34m>\u001b[0m \u001b[0;36m0\u001b[0m\u001b[0;34m:\u001b[0m\u001b[0;34m\u001b[0m\u001b[0;34m\u001b[0m\u001b[0m\n\u001b[1;32m     64\u001b[0m                     \u001b[0merror\u001b[0m \u001b[0;34m=\u001b[0m \u001b[0mself\u001b[0m\u001b[0;34m.\u001b[0m\u001b[0mcheck_convergence\u001b[0m\u001b[0;34m(\u001b[0m\u001b[0;34m)\u001b[0m\u001b[0;34m\u001b[0m\u001b[0;34m\u001b[0m\u001b[0m\n",
            "\u001b[0;32m/content/Tensor-Networks-Simple-Update/src/SimpleUpdate.py\u001b[0m in \u001b[0;36msimple_update\u001b[0;34m(self)\u001b[0m\n\u001b[1;32m    138\u001b[0m             \u001b[0mi_neighbors\u001b[0m \u001b[0;34m=\u001b[0m \u001b[0mlen\u001b[0m\u001b[0;34m(\u001b[0m\u001b[0mi_edges_dims\u001b[0m\u001b[0;34m[\u001b[0m\u001b[0;34m'edges'\u001b[0m\u001b[0;34m]\u001b[0m\u001b[0;34m)\u001b[0m \u001b[0;34m+\u001b[0m \u001b[0;36m1\u001b[0m\u001b[0;34m\u001b[0m\u001b[0;34m\u001b[0m\u001b[0m\n\u001b[1;32m    139\u001b[0m             \u001b[0mj_neighbors\u001b[0m \u001b[0;34m=\u001b[0m \u001b[0mlen\u001b[0m\u001b[0;34m(\u001b[0m\u001b[0mj_edges_dims\u001b[0m\u001b[0;34m[\u001b[0m\u001b[0;34m'edges'\u001b[0m\u001b[0;34m]\u001b[0m\u001b[0;34m)\u001b[0m \u001b[0;34m+\u001b[0m \u001b[0;36m1\u001b[0m\u001b[0;34m\u001b[0m\u001b[0;34m\u001b[0m\u001b[0m\n\u001b[0;32m--> 140\u001b[0;31m             \u001b[0mtheta\u001b[0m \u001b[0;34m=\u001b[0m \u001b[0mself\u001b[0m\u001b[0;34m.\u001b[0m\u001b[0mtime_evolution\u001b[0m\u001b[0;34m(\u001b[0m\u001b[0mri\u001b[0m\u001b[0;34m,\u001b[0m \u001b[0mrj\u001b[0m\u001b[0;34m,\u001b[0m \u001b[0mi_neighbors\u001b[0m\u001b[0;34m,\u001b[0m \u001b[0mj_neighbors\u001b[0m\u001b[0;34m,\u001b[0m \u001b[0mlambda_k\u001b[0m\u001b[0;34m,\u001b[0m \u001b[0mek\u001b[0m\u001b[0;34m)\u001b[0m\u001b[0;34m\u001b[0m\u001b[0;34m\u001b[0m\u001b[0m\n\u001b[0m\u001b[1;32m    141\u001b[0m             \u001b[0;31m# theta.shape = (qi, i'_spin_dim, j'_spin_dim, qj)\u001b[0m\u001b[0;34m\u001b[0m\u001b[0;34m\u001b[0m\u001b[0;34m\u001b[0m\u001b[0m\n\u001b[1;32m    142\u001b[0m \u001b[0;34m\u001b[0m\u001b[0m\n",
            "\u001b[0;32m/content/Tensor-Networks-Simple-Update/src/SimpleUpdate.py\u001b[0m in \u001b[0;36mtime_evolution\u001b[0;34m(self, ri, rj, i_neighbors, j_neighbors, lambda_k, ek)\u001b[0m\n\u001b[1;32m    289\u001b[0m         \u001b[0mj_spin_dim\u001b[0m \u001b[0;34m=\u001b[0m \u001b[0mself\u001b[0m\u001b[0;34m.\u001b[0m\u001b[0ms_j\u001b[0m\u001b[0;34m[\u001b[0m\u001b[0;36m0\u001b[0m\u001b[0;34m]\u001b[0m\u001b[0;34m.\u001b[0m\u001b[0mshape\u001b[0m\u001b[0;34m[\u001b[0m\u001b[0;36m0\u001b[0m\u001b[0;34m]\u001b[0m\u001b[0;34m\u001b[0m\u001b[0;34m\u001b[0m\u001b[0m\n\u001b[1;32m    290\u001b[0m         \u001b[0mhamiltonian\u001b[0m \u001b[0;34m=\u001b[0m \u001b[0mself\u001b[0m\u001b[0;34m.\u001b[0m\u001b[0mget_hamiltonian\u001b[0m\u001b[0;34m(\u001b[0m\u001b[0mi_neighbors\u001b[0m\u001b[0;34m,\u001b[0m \u001b[0mj_neighbors\u001b[0m\u001b[0;34m,\u001b[0m \u001b[0mek\u001b[0m\u001b[0;34m)\u001b[0m\u001b[0;34m\u001b[0m\u001b[0;34m\u001b[0m\u001b[0m\n\u001b[0;32m--> 291\u001b[0;31m         \u001b[0munitary_gate\u001b[0m \u001b[0;34m=\u001b[0m \u001b[0mnp\u001b[0m\u001b[0;34m.\u001b[0m\u001b[0mreshape\u001b[0m\u001b[0;34m(\u001b[0m\u001b[0mlinalg\u001b[0m\u001b[0;34m.\u001b[0m\u001b[0mexpm\u001b[0m\u001b[0;34m(\u001b[0m\u001b[0;34m-\u001b[0m\u001b[0mself\u001b[0m\u001b[0;34m.\u001b[0m\u001b[0mdt\u001b[0m \u001b[0;34m*\u001b[0m \u001b[0mhamiltonian\u001b[0m\u001b[0;34m)\u001b[0m\u001b[0;34m,\u001b[0m \u001b[0;34m(\u001b[0m\u001b[0mi_spin_dim\u001b[0m\u001b[0;34m,\u001b[0m \u001b[0mj_spin_dim\u001b[0m\u001b[0;34m,\u001b[0m \u001b[0mi_spin_dim\u001b[0m\u001b[0;34m,\u001b[0m \u001b[0mj_spin_dim\u001b[0m\u001b[0;34m)\u001b[0m\u001b[0;34m)\u001b[0m\u001b[0;34m\u001b[0m\u001b[0;34m\u001b[0m\u001b[0m\n\u001b[0m\u001b[1;32m    292\u001b[0m         \u001b[0;31m# unitary.shape = (i_spin_dim, j_spin_dim, i'_spin_dim, j'_spin_dim)\u001b[0m\u001b[0;34m\u001b[0m\u001b[0;34m\u001b[0m\u001b[0;34m\u001b[0m\u001b[0m\n\u001b[1;32m    293\u001b[0m         \u001b[0mweight_matrix\u001b[0m \u001b[0;34m=\u001b[0m \u001b[0mnp\u001b[0m\u001b[0;34m.\u001b[0m\u001b[0mdiag\u001b[0m\u001b[0;34m(\u001b[0m\u001b[0mlambda_k\u001b[0m\u001b[0;34m)\u001b[0m\u001b[0;34m\u001b[0m\u001b[0;34m\u001b[0m\u001b[0m\n",
            "\u001b[0;32m/usr/local/lib/python3.7/dist-packages/scipy/linalg/matfuncs.py\u001b[0m in \u001b[0;36mexpm\u001b[0;34m(A)\u001b[0m\n\u001b[1;32m    254\u001b[0m     \u001b[0;31m# Input checking and conversion is provided by sparse.linalg.expm().\u001b[0m\u001b[0;34m\u001b[0m\u001b[0;34m\u001b[0m\u001b[0;34m\u001b[0m\u001b[0m\n\u001b[1;32m    255\u001b[0m     \u001b[0;32mimport\u001b[0m \u001b[0mscipy\u001b[0m\u001b[0;34m.\u001b[0m\u001b[0msparse\u001b[0m\u001b[0;34m.\u001b[0m\u001b[0mlinalg\u001b[0m\u001b[0;34m\u001b[0m\u001b[0;34m\u001b[0m\u001b[0m\n\u001b[0;32m--> 256\u001b[0;31m     \u001b[0;32mreturn\u001b[0m \u001b[0mscipy\u001b[0m\u001b[0;34m.\u001b[0m\u001b[0msparse\u001b[0m\u001b[0;34m.\u001b[0m\u001b[0mlinalg\u001b[0m\u001b[0;34m.\u001b[0m\u001b[0mexpm\u001b[0m\u001b[0;34m(\u001b[0m\u001b[0mA\u001b[0m\u001b[0;34m)\u001b[0m\u001b[0;34m\u001b[0m\u001b[0;34m\u001b[0m\u001b[0m\n\u001b[0m\u001b[1;32m    257\u001b[0m \u001b[0;34m\u001b[0m\u001b[0m\n\u001b[1;32m    258\u001b[0m \u001b[0;34m\u001b[0m\u001b[0m\n",
            "\u001b[0;32m/usr/local/lib/python3.7/dist-packages/scipy/sparse/linalg/matfuncs.py\u001b[0m in \u001b[0;36mexpm\u001b[0;34m(A)\u001b[0m\n\u001b[1;32m    593\u001b[0m             [  0.        ,   0.        ,  20.08553692]])\n\u001b[1;32m    594\u001b[0m     \"\"\"\n\u001b[0;32m--> 595\u001b[0;31m     \u001b[0;32mreturn\u001b[0m \u001b[0m_expm\u001b[0m\u001b[0;34m(\u001b[0m\u001b[0mA\u001b[0m\u001b[0;34m,\u001b[0m \u001b[0muse_exact_onenorm\u001b[0m\u001b[0;34m=\u001b[0m\u001b[0;34m'auto'\u001b[0m\u001b[0;34m)\u001b[0m\u001b[0;34m\u001b[0m\u001b[0;34m\u001b[0m\u001b[0m\n\u001b[0m\u001b[1;32m    596\u001b[0m \u001b[0;34m\u001b[0m\u001b[0m\n\u001b[1;32m    597\u001b[0m \u001b[0;34m\u001b[0m\u001b[0m\n",
            "\u001b[0;32m/usr/local/lib/python3.7/dist-packages/scipy/sparse/linalg/matfuncs.py\u001b[0m in \u001b[0;36m_expm\u001b[0;34m(A, use_exact_onenorm)\u001b[0m\n\u001b[1;32m    637\u001b[0m     \u001b[0;32mif\u001b[0m \u001b[0meta_1\u001b[0m \u001b[0;34m<\u001b[0m \u001b[0;36m1.495585217958292e-002\u001b[0m \u001b[0;32mand\u001b[0m \u001b[0m_ell\u001b[0m\u001b[0;34m(\u001b[0m\u001b[0mh\u001b[0m\u001b[0;34m.\u001b[0m\u001b[0mA\u001b[0m\u001b[0;34m,\u001b[0m \u001b[0;36m3\u001b[0m\u001b[0;34m)\u001b[0m \u001b[0;34m==\u001b[0m \u001b[0;36m0\u001b[0m\u001b[0;34m:\u001b[0m\u001b[0;34m\u001b[0m\u001b[0;34m\u001b[0m\u001b[0m\n\u001b[1;32m    638\u001b[0m         \u001b[0mU\u001b[0m\u001b[0;34m,\u001b[0m \u001b[0mV\u001b[0m \u001b[0;34m=\u001b[0m \u001b[0mh\u001b[0m\u001b[0;34m.\u001b[0m\u001b[0mpade3\u001b[0m\u001b[0;34m(\u001b[0m\u001b[0;34m)\u001b[0m\u001b[0;34m\u001b[0m\u001b[0;34m\u001b[0m\u001b[0m\n\u001b[0;32m--> 639\u001b[0;31m         \u001b[0;32mreturn\u001b[0m \u001b[0m_solve_P_Q\u001b[0m\u001b[0;34m(\u001b[0m\u001b[0mU\u001b[0m\u001b[0;34m,\u001b[0m \u001b[0mV\u001b[0m\u001b[0;34m,\u001b[0m \u001b[0mstructure\u001b[0m\u001b[0;34m=\u001b[0m\u001b[0mstructure\u001b[0m\u001b[0;34m)\u001b[0m\u001b[0;34m\u001b[0m\u001b[0;34m\u001b[0m\u001b[0m\n\u001b[0m\u001b[1;32m    640\u001b[0m \u001b[0;34m\u001b[0m\u001b[0m\n\u001b[1;32m    641\u001b[0m     \u001b[0;31m# Try Pade order 5.\u001b[0m\u001b[0;34m\u001b[0m\u001b[0;34m\u001b[0m\u001b[0;34m\u001b[0m\u001b[0m\n",
            "\u001b[0;32m/usr/local/lib/python3.7/dist-packages/scipy/sparse/linalg/matfuncs.py\u001b[0m in \u001b[0;36m_solve_P_Q\u001b[0;34m(U, V, structure)\u001b[0m\n\u001b[1;32m    703\u001b[0m         \u001b[0;32mreturn\u001b[0m \u001b[0mspsolve\u001b[0m\u001b[0;34m(\u001b[0m\u001b[0mQ\u001b[0m\u001b[0;34m,\u001b[0m \u001b[0mP\u001b[0m\u001b[0;34m)\u001b[0m\u001b[0;34m\u001b[0m\u001b[0;34m\u001b[0m\u001b[0m\n\u001b[1;32m    704\u001b[0m     \u001b[0;32melif\u001b[0m \u001b[0mstructure\u001b[0m \u001b[0;32mis\u001b[0m \u001b[0;32mNone\u001b[0m\u001b[0;34m:\u001b[0m\u001b[0;34m\u001b[0m\u001b[0;34m\u001b[0m\u001b[0m\n\u001b[0;32m--> 705\u001b[0;31m         \u001b[0;32mreturn\u001b[0m \u001b[0msolve\u001b[0m\u001b[0;34m(\u001b[0m\u001b[0mQ\u001b[0m\u001b[0;34m,\u001b[0m \u001b[0mP\u001b[0m\u001b[0;34m)\u001b[0m\u001b[0;34m\u001b[0m\u001b[0;34m\u001b[0m\u001b[0m\n\u001b[0m\u001b[1;32m    706\u001b[0m     \u001b[0;32melif\u001b[0m \u001b[0mstructure\u001b[0m \u001b[0;34m==\u001b[0m \u001b[0mUPPER_TRIANGULAR\u001b[0m\u001b[0;34m:\u001b[0m\u001b[0;34m\u001b[0m\u001b[0;34m\u001b[0m\u001b[0m\n\u001b[1;32m    707\u001b[0m         \u001b[0;32mreturn\u001b[0m \u001b[0msolve_triangular\u001b[0m\u001b[0;34m(\u001b[0m\u001b[0mQ\u001b[0m\u001b[0;34m,\u001b[0m \u001b[0mP\u001b[0m\u001b[0;34m)\u001b[0m\u001b[0;34m\u001b[0m\u001b[0;34m\u001b[0m\u001b[0m\n",
            "\u001b[0;32m/usr/local/lib/python3.7/dist-packages/scipy/linalg/basic.py\u001b[0m in \u001b[0;36msolve\u001b[0;34m(a, b, sym_pos, lower, overwrite_a, overwrite_b, debug, check_finite, assume_a, transposed)\u001b[0m\n\u001b[1;32m    216\u001b[0m         \u001b[0m_solve_check\u001b[0m\u001b[0;34m(\u001b[0m\u001b[0mn\u001b[0m\u001b[0;34m,\u001b[0m \u001b[0minfo\u001b[0m\u001b[0;34m)\u001b[0m\u001b[0;34m\u001b[0m\u001b[0;34m\u001b[0m\u001b[0m\n\u001b[1;32m    217\u001b[0m         x, info = getrs(lu, ipvt, b1,\n\u001b[0;32m--> 218\u001b[0;31m                         trans=trans, overwrite_b=overwrite_b)\n\u001b[0m\u001b[1;32m    219\u001b[0m         \u001b[0m_solve_check\u001b[0m\u001b[0;34m(\u001b[0m\u001b[0mn\u001b[0m\u001b[0;34m,\u001b[0m \u001b[0minfo\u001b[0m\u001b[0;34m)\u001b[0m\u001b[0;34m\u001b[0m\u001b[0;34m\u001b[0m\u001b[0m\n\u001b[1;32m    220\u001b[0m         \u001b[0mrcond\u001b[0m\u001b[0;34m,\u001b[0m \u001b[0minfo\u001b[0m \u001b[0;34m=\u001b[0m \u001b[0mgecon\u001b[0m\u001b[0;34m(\u001b[0m\u001b[0mlu\u001b[0m\u001b[0;34m,\u001b[0m \u001b[0manorm\u001b[0m\u001b[0;34m,\u001b[0m \u001b[0mnorm\u001b[0m\u001b[0;34m=\u001b[0m\u001b[0mnorm\u001b[0m\u001b[0;34m)\u001b[0m\u001b[0;34m\u001b[0m\u001b[0;34m\u001b[0m\u001b[0m\n",
            "\u001b[0;31mKeyboardInterrupt\u001b[0m: "
          ]
        }
      ]
    },
    {
      "cell_type": "code",
      "metadata": {
        "id": "bPU6-KuGg25z"
      },
      "source": [
        "# The Tensor Network structure matrix\n",
        "peps_structure_matrix = np.array([[1, 2, 3, 4, 0, 0, 0, 0],\n",
        "                                  [1, 2, 0, 0, 3, 4, 0, 0],\n",
        "                                  [0, 0, 1, 2, 0, 0, 3, 4,],\n",
        "                                  [0, 0, 0, 0, 1, 2, 3, 4]])\n",
        "# Simple-Update parameters\n",
        "d_max_peps = [2, 3, 4, 5, 6, 7, 8, 9, 10, 11, 12, 13, 14]\n",
        "error = 1e-6\n",
        "max_iterations = 200\n",
        "peps_energy = []\n",
        "j_ij_peps = [1.] * 8\n",
        "dts = [0.1, 0.01, 0.001, 0.0001, 0.00001]\n",
        "h_k = 0.\n",
        "\n",
        "\n",
        "# Run\n",
        "for d_max in d_max_peps:\n",
        "    peps = TensorNetwork(structure_matrix=peps_structure_matrix, virtual_size=2)\n",
        "    peps_su = su.SimpleUpdate(tensor_network=peps, \n",
        "                              dts=dts, \n",
        "                              j_ij=j_ij_peps, \n",
        "                              h_k=h_k, \n",
        "                              s_i=s_i, \n",
        "                              s_j=s_j, \n",
        "                              s_k=s_k, \n",
        "                              d_max=d_max, \n",
        "                              max_iterations=max_iterations, \n",
        "                              convergence_error=error, \n",
        "                              log_energy=True,\n",
        "                              print_process=False)\n",
        "    peps_su.run()\n",
        "    energy = peps_su.energy_per_site()\n",
        "    print(f'| D max: {d_max} | PEPS Energy: {energy}\\n')\n",
        "    peps_energy.append(energy)"
      ],
      "execution_count": null,
      "outputs": []
    },
    {
      "cell_type": "code",
      "metadata": {
        "id": "1cALJVJti8zU"
      },
      "source": [
        "# The Tensor Network structure matrix\n",
        "star_structure_matrix = np.array([[1, 2, 3, 0, 0, 0, 0, 0, 0],\n",
        "                                  [1, 0, 0, 2, 3, 0, 0, 0, 0],\n",
        "                                  [0, 1, 0, 2, 0, 3, 0, 0, 0],\n",
        "                                  [0, 0, 0, 0, 0, 1, 2, 3, 0],\n",
        "                                  [0, 0, 0, 0, 1, 0, 2, 0, 3],\n",
        "                                  [0, 0, 1, 0, 0, 0, 0, 2, 3]])\n",
        "# Simple-Update parameters\n",
        "d_max_star = [2, 3, 4, 5, 6, 7, 8, 9, 10, 20, 30, 40, 50, 60]\n",
        "error = 1e-6\n",
        "max_iterations = 200\n",
        "star_energy = []\n",
        "j_ij_star = [1, 1, 0.05, 1, 0.05, 0.05, 1, 1, 1]\n",
        "dts = [0.1, 0.01, 0.001, 0.0001, 0.00001]\n",
        "h_k = 0.\n",
        "\n",
        "\n",
        "# Run\n",
        "for d_max in d_max_star:\n",
        "    star = TensorNetwork(structure_matrix=star_structure_matrix, virtual_size=2)\n",
        "    star_su = su.SimpleUpdate(tensor_network=star, \n",
        "                              dts=dts, \n",
        "                              j_ij=j_ij_star, \n",
        "                              h_k=h_k, \n",
        "                              s_i=s_i, \n",
        "                              s_j=s_j, \n",
        "                              s_k=s_k, \n",
        "                              d_max=d_max, \n",
        "                              max_iterations=max_iterations, \n",
        "                              convergence_error=error, \n",
        "                              log_energy=True,\n",
        "                              print_process=False)\n",
        "    star_su.run()\n",
        "    energy = star_su.energy_per_site()\n",
        "    print(f'| D max: {d_max} | Star Energy: {energy}\\n')\n",
        "    star_energy.append(energy)"
      ],
      "execution_count": null,
      "outputs": []
    },
    {
      "cell_type": "code",
      "metadata": {
        "id": "QuZPbtRnjXCA"
      },
      "source": [
        "# The Tensor Network structure matrix\n",
        "cube_structure_matrix = np.array([[1, 2, 3, 4, 5, 6, 0, 0, 0, 0, 0, 0, 0, 0, 0, 0, 0, 0, 0, 0, 0, 0, 0, 0],\n",
        "                                  [1, 2, 0, 0, 0, 0, 3, 4, 5, 6, 0, 0, 0, 0, 0, 0, 0, 0, 0, 0, 0, 0, 0, 0],\n",
        "                                  [0, 0, 0, 0, 0, 0, 1, 2, 0, 0, 3, 4, 5, 6, 0, 0, 0, 0, 0, 0, 0, 0, 0, 0],\n",
        "                                  [0, 0, 1, 2, 0, 0, 0, 0, 0, 0, 3, 4, 0, 0, 5, 6, 0, 0, 0, 0, 0, 0, 0, 0],\n",
        "                                  [0, 0, 0, 0, 1, 2, 0, 0, 0, 0, 0, 0, 0, 0, 0, 0, 3, 4, 5, 6, 0, 0, 0, 0],\n",
        "                                  [0, 0, 0, 0, 0, 0, 0, 0, 1, 2, 0, 0, 0, 0, 0, 0, 3, 4, 0, 0, 5, 6, 0, 0],\n",
        "                                  [0, 0, 0, 0, 0, 0, 0, 0, 0, 0, 0, 0, 1, 2, 0, 0, 0, 0, 0, 0, 3, 4, 5, 6],\n",
        "                                  [0, 0, 0, 0, 0, 0, 0, 0, 0, 0, 0, 0, 0, 0, 1, 2, 0, 0, 3, 4, 0, 0, 5, 6]])\n",
        "\n",
        "# Simple-Update parameters\n",
        "d_max_cube = [2, 3, 4, 5, 6, 7, 8, 9, 10, 11, 12, 13, 14]\n",
        "error = 1e-6\n",
        "max_iterations = 200\n",
        "cube_energy = []\n",
        "j_ij_cube = [1.] * 23\n",
        "dts = [0.1, 0.01, 0.001, 0.0001, 0.00001]\n",
        "h_k = 0.\n",
        "\n",
        "\n",
        "# Run\n",
        "for d_max in d_max_cube:\n",
        "    cube = TensorNetwork(structure_matrix=cube_structure_matrix, virtual_size=2)\n",
        "    cube_su = su.SimpleUpdate(tensor_network=cube, \n",
        "                              dts=dts, \n",
        "                              j_ij=j_ij_cube, \n",
        "                              h_k=h_k, \n",
        "                              s_i=s_i, \n",
        "                              s_j=s_j, \n",
        "                              s_k=s_k, \n",
        "                              d_max=d_max, \n",
        "                              max_iterations=max_iterations, \n",
        "                              convergence_error=error, \n",
        "                              log_energy=True,\n",
        "                              print_process=False)\n",
        "    cube_su.run()\n",
        "    energy = cube_su.energy_per_site()\n",
        "    print(f'| D max: {d_max} | Cube Energy: {energy}\\n')\n",
        "    cube_energy.append(energy)"
      ],
      "execution_count": null,
      "outputs": []
    },
    {
      "cell_type": "code",
      "metadata": {
        "id": "PJqFGxy6Www7",
        "outputId": "460738b5-8428-47ca-a502-938e81b0fbee",
        "colab": {
          "base_uri": "https://localhost:8080/",
          "height": 292
        }
      },
      "source": [
        "fig, ax = plt.subplots(1, 1)\n",
        "ax.plot(1 / np.array(d_list), mps_energy, '-o', color='red')\n",
        "ax.set_xlabel(r'1/D')\n",
        "ax.set_ylabel(r'Energy per-site')\n",
        "ax.set_title('AFH chain ground-state energy')\n",
        "ax.tick_params(direction='in', axis='both')"
      ],
      "execution_count": 21,
      "outputs": [
        {
          "output_type": "display_data",
          "data": {
            "image/png": "[encoded data removed]",
            "text/plain": [
              "<Figure size 432x288 with 1 Axes>"
            ]
          },
          "metadata": {
            "tags": [],
            "needs_background": "light"
          }
        }
      ]
    },
    {
      "cell_type": "code",
      "metadata": {
        "id": "IBmAUg0hZi30"
      },
      "source": [
        ""
      ],
      "execution_count": null,
      "outputs": []
    }
  ]
}