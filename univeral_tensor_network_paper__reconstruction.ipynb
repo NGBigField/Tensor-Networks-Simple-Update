{
  "nbformat": 4,
  "nbformat_minor": 0,
  "metadata": {
    "colab": {
      "name": "univeral_tensor_network_paper_ reconstruction.ipynb",
      "provenance": [],
      "collapsed_sections": [],
      "authorship_tag": "ABX9TyO37YGogVGABPztmlxc8gva",
      "include_colab_link": true
    },
    "kernelspec": {
      "name": "python3",
      "display_name": "Python 3"
    },
    "language_info": {
      "name": "python"
    }
  },
  "cells": [
    {
      "cell_type": "markdown",
      "metadata": {
        "id": "view-in-github",
        "colab_type": "text"
      },
      "source": [
        "<a href=\"https://colab.research.google.com/github/RoyElkabetz/Tensor-Networks-Simple-Update/blob/main/univeral_tensor_network_paper__reconstruction.ipynb\" target=\"_parent\"><img src=\"https://colab.research.google.com/assets/colab-badge.svg\" alt=\"Open In Colab\"/></a>"
      ]
    },
    {
      "cell_type": "code",
      "metadata": {
        "colab": {
          "base_uri": "https://localhost:8080/"
        },
        "id": "2GDnnrh3an72",
        "outputId": "dfcf22e4-1fa4-4afc-b8f7-dc19ca064380"
      },
      "source": [
        "## uncomment only if running from google.colab\n",
        "# clone the git reposetory\n",
        "!git clone https://github.com/RoyElkabetz/Tensor-Networks-Simple-Update\n",
        "# add path to .py files for import\n",
        "import sys\n",
        "sys.path.insert(1, \"/content/Tensor-Networks-Simple-Update/src\")"
      ],
      "execution_count": 2,
      "outputs": [
        {
          "output_type": "stream",
          "text": [
            "fatal: destination path 'Tensor-Networks-Simple-Update' already exists and is not an empty directory.\n"
          ],
          "name": "stdout"
        }
      ]
    },
    {
      "cell_type": "code",
      "metadata": {
        "id": "x9gTThCjbrzm"
      },
      "source": [
        "import numpy as np\n",
        "import matplotlib.pyplot as plt\n",
        "from TensorNetwork import TensorNetwork\n",
        "import SimpleUpdate as su\n",
        "\n",
        "np.random.seed(216)"
      ],
      "execution_count": 3,
      "outputs": []
    },
    {
      "cell_type": "code",
      "metadata": {
        "id": "sjPbaccSkW94"
      },
      "source": [
        "# Pauli matrices\n",
        "pauli_x = np.array([[0, 1],\n",
        "                    [1, 0]])\n",
        "pauli_y = np.array([[0, -1j],\n",
        "                    [1j, 0]])\n",
        "pauli_z = np.array([[1, 0],\n",
        "                    [0, -1]])\n",
        "s_i = [pauli_x / 2., pauli_y / 2., pauli_z / 2.]\n",
        "s_j = [pauli_x / 2., pauli_y / 2., pauli_z / 2.]\n",
        "s_k = [pauli_x / 2.]"
      ],
      "execution_count": 4,
      "outputs": []
    },
    {
      "cell_type": "markdown",
      "metadata": {
        "id": "hgFBmf64oJ79"
      },
      "source": [
        "# Infinite Chain Tensor-Network Simple-Update Simulation"
      ]
    },
    {
      "cell_type": "code",
      "metadata": {
        "id": "IjgfQzq9iWbm",
        "colab": {
          "base_uri": "https://localhost:8080/"
        },
        "outputId": "81be05bb-8b6d-4d01-a6a0-493030ce61e7"
      },
      "source": [
        "# The Tensor Network structure matrix\n",
        "chain_structure_matrix = np.array([[1, 2],\n",
        "                                  [1, 2]])\n",
        "\n",
        "# Simple-Update parameters\n",
        "d_max_chain = [2, 3, 4, 5, 6, 7, 8, 9, 10, 20, 30, 40, 50, 60]\n",
        "error = 1e-6\n",
        "max_iterations = 200\n",
        "chain_energy = []\n",
        "j_ij_chain = [1., 1.]\n",
        "dts = [0.1, 0.01, 0.001, 0.0001, 0.00001]\n",
        "h_k = 0.\n",
        "\n",
        "\n",
        "# Run\n",
        "for d_max in d_max_chain:\n",
        "    chain = TensorNetwork(structure_matrix=chain_structure_matrix, virtual_size=2)\n",
        "    chain_su = su.SimpleUpdate(tensor_network=chain, \n",
        "                               dts=dts, \n",
        "                               j_ij=j_ij_chain, \n",
        "                               h_k=h_k, \n",
        "                               s_i=s_i, \n",
        "                               s_j=s_j, \n",
        "                               s_k=s_k, \n",
        "                               d_max=d_max, \n",
        "                               max_iterations=max_iterations, \n",
        "                               convergence_error=error, \n",
        "                               log_energy=True,\n",
        "                               print_process=False)\n",
        "    chain_su.run()\n",
        "    energy = chain_su.energy_per_site()\n",
        "    print(f'| D max: {d_max} | Chain Energy: {energy}\\n')\n",
        "    chain_energy.append(energy)"
      ],
      "execution_count": 5,
      "outputs": [
        {
          "output_type": "stream",
          "text": [
            "Simple Update converged. final error is 0.0000000375\n",
            "\n",
            "| D max: 2 | Chain Energy: -0.4278841718306421\n",
            "\n",
            "Simple Update converged. final error is 0.0000001064\n",
            "\n",
            "| D max: 3 | Chain Energy: -0.3406594961217396\n",
            "\n",
            "Simple Update converged. final error is 0.0000000281\n",
            "\n",
            "| D max: 4 | Chain Energy: -0.44103661802110183\n",
            "\n",
            "Simple Update converged. final error is 0.0000000348\n",
            "\n",
            "| D max: 5 | Chain Energy: -0.43121505975684027\n",
            "\n",
            "Simple Update converged. final error is 0.0000000283\n",
            "\n",
            "| D max: 6 | Chain Energy: -0.4424532493015172\n",
            "\n",
            "Simple Update converged. final error is 0.0000000503\n",
            "\n",
            "| D max: 7 | Chain Energy: -0.43784994592428106\n",
            "\n",
            "Simple Update converged. final error is 0.0000000261\n",
            "\n",
            "| D max: 8 | Chain Energy: -0.44273077383784887\n",
            "\n",
            "Simple Update converged. final error is 0.0000000201\n",
            "\n",
            "| D max: 9 | Chain Energy: -0.44146245156917496\n",
            "\n",
            "Simple Update converged. final error is 0.0000000364\n",
            "\n",
            "| D max: 10 | Chain Energy: -0.44285475081279935\n",
            "\n",
            "Simple Update converged. final error is 0.0000000955\n",
            "\n",
            "| D max: 20 | Chain Energy: -0.44280574552239116\n",
            "\n",
            "Simple Update converged. final error is 0.0000003143\n",
            "\n",
            "| D max: 30 | Chain Energy: -0.44290914556770833\n",
            "\n",
            "Simple Update converged. final error is 0.0000002489\n",
            "\n",
            "| D max: 40 | Chain Energy: -0.44285191992036904\n",
            "\n",
            "Simple Update converged. final error is 0.0000000530\n",
            "\n",
            "| D max: 50 | Chain Energy: -0.44302398998859954\n",
            "\n",
            "Simple Update converged. final error is 0.0000001541\n",
            "\n",
            "| D max: 60 | Chain Energy: -0.44298646027421085\n",
            "\n"
          ],
          "name": "stdout"
        }
      ]
    },
    {
      "cell_type": "markdown",
      "metadata": {
        "id": "_x38iPx8oYvc"
      },
      "source": [
        "# Infinite PEPS Tensor-Network Simple-Update Simulation"
      ]
    },
    {
      "cell_type": "code",
      "metadata": {
        "colab": {
          "base_uri": "https://localhost:8080/"
        },
        "id": "bPU6-KuGg25z",
        "outputId": "7535d9d5-a774-402f-9dcb-b175e0205a07"
      },
      "source": [
        "# The Tensor Network structure matrix\n",
        "peps_structure_matrix = np.array([[1, 2, 3, 4, 0, 0, 0, 0],\n",
        "                                  [1, 2, 0, 0, 3, 4, 0, 0],\n",
        "                                  [0, 0, 1, 2, 0, 0, 3, 4,],\n",
        "                                  [0, 0, 0, 0, 1, 2, 3, 4]])\n",
        "# Simple-Update parameters\n",
        "d_max_peps = [2, 3, 4, 5, 6]\n",
        "error = 1e-6\n",
        "max_iterations = 200\n",
        "peps_energy = []\n",
        "j_ij_peps = [1.] * 8\n",
        "dts = [0.1, 0.01, 0.001, 0.0001, 0.00001]\n",
        "h_k = 0.\n",
        "\n",
        "\n",
        "# Run\n",
        "for d_max in d_max_peps:\n",
        "    peps = TensorNetwork(structure_matrix=peps_structure_matrix, virtual_size=2)\n",
        "    peps_su = su.SimpleUpdate(tensor_network=peps, \n",
        "                              dts=dts, \n",
        "                              j_ij=j_ij_peps, \n",
        "                              h_k=h_k, \n",
        "                              s_i=s_i, \n",
        "                              s_j=s_j, \n",
        "                              s_k=s_k, \n",
        "                              d_max=d_max, \n",
        "                              max_iterations=max_iterations, \n",
        "                              convergence_error=error, \n",
        "                              log_energy=True,\n",
        "                              print_process=True)\n",
        "    peps_su.run()\n",
        "    energy = peps_su.energy_per_site()\n",
        "    print(f'| D max: {d_max} | PEPS Energy: {energy}\\n')\n",
        "    peps_energy.append(energy)"
      ],
      "execution_count": 8,
      "outputs": [
        {
          "output_type": "stream",
          "text": [
            "| dt 0.100000 |    20/  200 iteration | averaged error 0.0004757168 | energy per-site -0.628192 | time 0.34 sec\n",
            "| dt 0.100000 |    40/  200 iteration | averaged error 0.0000014968 | energy per-site -0.628548 | time 0.36 sec\n",
            "| dt 0.100000 |    60/  200 iteration | averaged error 0.0000000047 | energy per-site -0.628548 | time 0.34 sec\n",
            "| dt 0.010000 |    20/  200 iteration | averaged error 0.0001808926 | energy per-site -0.648125 | time 0.35 sec\n",
            "| dt 0.010000 |    40/  200 iteration | averaged error 0.0000923876 | energy per-site -0.648309 | time 0.33 sec\n",
            "| dt 0.010000 |    60/  200 iteration | averaged error 0.0000472957 | energy per-site -0.648364 | time 0.34 sec\n",
            "| dt 0.010000 |    80/  200 iteration | averaged error 0.0000244788 | energy per-site -0.648382 | time 0.33 sec\n",
            "| dt 0.010000 |   100/  200 iteration | averaged error 0.0000131272 | energy per-site -0.648388 | time 0.35 sec\n",
            "| dt 0.010000 |   120/  200 iteration | averaged error 0.0000070600 | energy per-site -0.648391 | time 0.34 sec\n",
            "| dt 0.010000 |   140/  200 iteration | averaged error 0.0000038079 | energy per-site -0.648392 | time 0.33 sec\n",
            "| dt 0.010000 |   160/  200 iteration | averaged error 0.0000020595 | energy per-site -0.648393 | time 0.34 sec\n",
            "| dt 0.010000 |   180/  200 iteration | averaged error 0.0000011168 | energy per-site -0.648393 | time 0.33 sec\n",
            "| dt 0.001000 |    20/  200 iteration | averaged error 0.0000034424 | energy per-site -0.650262 | time 0.36 sec\n",
            "| dt 0.001000 |    40/  200 iteration | averaged error 0.0000032162 | energy per-site -0.650263 | time 0.32 sec\n",
            "| dt 0.001000 |    60/  200 iteration | averaged error 0.0000030049 | energy per-site -0.650264 | time 0.33 sec\n",
            "| dt 0.001000 |    80/  200 iteration | averaged error 0.0000028076 | energy per-site -0.650265 | time 0.38 sec\n",
            "| dt 0.001000 |   100/  200 iteration | averaged error 0.0000026234 | energy per-site -0.650266 | time 0.32 sec\n",
            "| dt 0.001000 |   120/  200 iteration | averaged error 0.0000024513 | energy per-site -0.650267 | time 0.33 sec\n",
            "| dt 0.001000 |   140/  200 iteration | averaged error 0.0000022906 | energy per-site -0.650267 | time 0.39 sec\n",
            "| dt 0.001000 |   160/  200 iteration | averaged error 0.0000021404 | energy per-site -0.650268 | time 0.32 sec\n",
            "| dt 0.001000 |   180/  200 iteration | averaged error 0.0000020002 | energy per-site -0.650268 | time 0.32 sec\n",
            "| dt 0.000100 |    20/  200 iteration | averaged error 0.0000002220 | energy per-site -0.650454 | time 0.33 sec\n",
            "| dt 0.000010 |    20/  200 iteration | averaged error 0.0000000225 | energy per-site -0.650473 | time 0.34 sec\n",
            "Simple Update converged. final error is 0.0000000225\n",
            "\n",
            "| D max: 2 | PEPS Energy: -0.6504730101629441\n",
            "\n",
            "| dt 0.100000 |    20/  200 iteration | averaged error 0.0133536225 | energy per-site -0.565947 | time 0.49 sec\n",
            "| dt 0.100000 |    40/  200 iteration | averaged error 0.0005871432 | energy per-site -0.611935 | time 0.46 sec\n",
            "| dt 0.100000 |    60/  200 iteration | averaged error 0.0001184873 | energy per-site -0.612567 | time 0.47 sec\n",
            "| dt 0.100000 |    80/  200 iteration | averaged error 0.0000900431 | energy per-site -0.612597 | time 0.47 sec\n",
            "| dt 0.100000 |   100/  200 iteration | averaged error 0.0000733300 | energy per-site -0.612611 | time 0.48 sec\n",
            "| dt 0.100000 |   120/  200 iteration | averaged error 0.0000622620 | energy per-site -0.612619 | time 0.46 sec\n",
            "| dt 0.100000 |   140/  200 iteration | averaged error 0.0000549106 | energy per-site -0.612624 | time 0.47 sec\n",
            "| dt 0.100000 |   160/  200 iteration | averaged error 0.0000508281 | energy per-site -0.612628 | time 0.46 sec\n",
            "| dt 0.100000 |   180/  200 iteration | averaged error 0.0000504739 | energy per-site -0.612631 | time 0.48 sec\n",
            "| dt 0.010000 |    20/  200 iteration | averaged error 0.0005900298 | energy per-site -0.631234 | time 0.48 sec\n",
            "| dt 0.010000 |    40/  200 iteration | averaged error 0.0003835944 | energy per-site -0.631563 | time 0.46 sec\n",
            "| dt 0.010000 |    60/  200 iteration | averaged error 0.0003407064 | energy per-site -0.63146 | time 0.48 sec\n",
            "| dt 0.010000 |    80/  200 iteration | averaged error 0.0003045358 | energy per-site -0.631559 | time 0.45 sec\n",
            "| dt 0.010000 |   100/  200 iteration | averaged error 0.0002474490 | energy per-site -0.631508 | time 0.48 sec\n",
            "| dt 0.010000 |   120/  200 iteration | averaged error 0.0002274445 | energy per-site -0.631537 | time 0.46 sec\n",
            "| dt 0.010000 |   140/  200 iteration | averaged error 0.0001703396 | energy per-site -0.631528 | time 0.47 sec\n",
            "| dt 0.010000 |   160/  200 iteration | averaged error 0.0001573409 | energy per-site -0.631525 | time  0.5 sec\n",
            "| dt 0.010000 |   180/  200 iteration | averaged error 0.0001115036 | energy per-site -0.631538 | time 0.46 sec\n",
            "| dt 0.001000 |    20/  200 iteration | averaged error 0.0000982304 | energy per-site -0.63335 | time 0.48 sec\n",
            "| dt 0.001000 |    40/  200 iteration | averaged error 0.0000980465 | energy per-site -0.633349 | time 0.47 sec\n",
            "| dt 0.001000 |    60/  200 iteration | averaged error 0.0000688946 | energy per-site -0.633358 | time 0.47 sec\n",
            "| dt 0.001000 |    80/  200 iteration | averaged error 0.0000664792 | energy per-site -0.633346 | time 0.46 sec\n",
            "| dt 0.001000 |   100/  200 iteration | averaged error 0.0000626437 | energy per-site -0.633362 | time 0.45 sec\n",
            "| dt 0.001000 |   120/  200 iteration | averaged error 0.0000601126 | energy per-site -0.633346 | time 0.46 sec\n",
            "| dt 0.001000 |   140/  200 iteration | averaged error 0.0000562767 | energy per-site -0.633363 | time 0.47 sec\n",
            "| dt 0.001000 |   160/  200 iteration | averaged error 0.0000516654 | energy per-site -0.633347 | time 0.46 sec\n",
            "| dt 0.001000 |   180/  200 iteration | averaged error 0.0000472835 | energy per-site -0.633363 | time 0.46 sec\n",
            "| dt 0.000100 |    20/  200 iteration | averaged error 0.0000330627 | energy per-site -0.633542 | time 0.47 sec\n",
            "| dt 0.000100 |    40/  200 iteration | averaged error 0.0000304200 | energy per-site -0.633532 | time 0.45 sec\n",
            "| dt 0.000100 |    60/  200 iteration | averaged error 0.0000278324 | energy per-site -0.633542 | time 0.46 sec\n",
            "| dt 0.000100 |    80/  200 iteration | averaged error 0.0000250713 | energy per-site -0.633533 | time 0.47 sec\n",
            "| dt 0.000100 |   100/  200 iteration | averaged error 0.0000225341 | energy per-site -0.633541 | time 0.46 sec\n",
            "| dt 0.000100 |   120/  200 iteration | averaged error 0.0000200179 | energy per-site -0.633534 | time 0.46 sec\n",
            "| dt 0.000100 |   140/  200 iteration | averaged error 0.0000177699 | energy per-site -0.633541 | time 0.47 sec\n",
            "| dt 0.000100 |   160/  200 iteration | averaged error 0.0000156399 | energy per-site -0.633534 | time 0.47 sec\n",
            "| dt 0.000100 |   180/  200 iteration | averaged error 0.0000137595 | energy per-site -0.63354 | time 0.46 sec\n",
            "| dt 0.000010 |    20/  200 iteration | averaged error 0.0000100692 | energy per-site -0.633557 | time 0.49 sec\n",
            "| dt 0.000010 |    40/  200 iteration | averaged error 0.0000088608 | energy per-site -0.633554 | time 0.47 sec\n",
            "| dt 0.000010 |    60/  200 iteration | averaged error 0.0000078139 | energy per-site -0.633557 | time 0.46 sec\n",
            "| dt 0.000010 |    80/  200 iteration | averaged error 0.0000068380 | energy per-site -0.633554 | time 0.48 sec\n",
            "| dt 0.000010 |   100/  200 iteration | averaged error 0.0000059936 | energy per-site -0.633557 | time 0.46 sec\n",
            "| dt 0.000010 |   120/  200 iteration | averaged error 0.0000052234 | energy per-site -0.633555 | time 0.47 sec\n",
            "| dt 0.000010 |   140/  200 iteration | averaged error 0.0000045566 | energy per-site -0.633557 | time 0.46 sec\n",
            "| dt 0.000010 |   160/  200 iteration | averaged error 0.0000039591 | energy per-site -0.633555 | time 0.46 sec\n",
            "| dt 0.000010 |   180/  200 iteration | averaged error 0.0000034409 | energy per-site -0.633556 | time 0.45 sec\n",
            "Simple Update did not converged. final error is 0.0000034409\n",
            "\n",
            "| D max: 3 | PEPS Energy: -0.6335559510202905\n",
            "\n",
            "| dt 0.100000 |    20/  200 iteration | averaged error 0.0010540899 | energy per-site -0.630905 | time  1.5 sec\n",
            "| dt 0.100000 |    40/  200 iteration | averaged error 0.0000044646 | energy per-site -0.6313 | time  1.4 sec\n",
            "| dt 0.100000 |    60/  200 iteration | averaged error 0.0000000576 | energy per-site -0.631314 | time  1.4 sec\n",
            "| dt 0.010000 |    20/  200 iteration | averaged error 0.0001963423 | energy per-site -0.65063 | time  1.6 sec\n",
            "| dt 0.010000 |    40/  200 iteration | averaged error 0.0001012859 | energy per-site -0.650796 | time  1.4 sec\n",
            "| dt 0.010000 |    60/  200 iteration | averaged error 0.0000535124 | energy per-site -0.650842 | time  1.4 sec\n",
            "| dt 0.010000 |    80/  200 iteration | averaged error 0.0000287611 | energy per-site -0.650856 | time  1.4 sec\n",
            "| dt 0.010000 |   100/  200 iteration | averaged error 0.0000156641 | energy per-site -0.650861 | time  1.5 sec\n",
            "| dt 0.010000 |   120/  200 iteration | averaged error 0.0000086258 | energy per-site -0.650863 | time  1.4 sec\n",
            "| dt 0.010000 |   140/  200 iteration | averaged error 0.0000047965 | energy per-site -0.650863 | time  1.4 sec\n",
            "| dt 0.010000 |   160/  200 iteration | averaged error 0.0000026911 | energy per-site -0.650864 | time  1.5 sec\n",
            "| dt 0.010000 |   180/  200 iteration | averaged error 0.0000015224 | energy per-site -0.650864 | time  1.4 sec\n",
            "| dt 0.001000 |    20/  200 iteration | averaged error 0.0000037494 | energy per-site -0.65273 | time  1.5 sec\n",
            "| dt 0.001000 |    40/  200 iteration | averaged error 0.0000034934 | energy per-site -0.652731 | time  1.4 sec\n",
            "| dt 0.001000 |    60/  200 iteration | averaged error 0.0000032563 | energy per-site -0.652732 | time  1.4 sec\n",
            "| dt 0.001000 |    80/  200 iteration | averaged error 0.0000030367 | energy per-site -0.652733 | time  1.4 sec\n",
            "| dt 0.001000 |   100/  200 iteration | averaged error 0.0000028330 | energy per-site -0.652734 | time  1.5 sec\n",
            "| dt 0.001000 |   120/  200 iteration | averaged error 0.0000026440 | energy per-site -0.652734 | time  1.4 sec\n",
            "| dt 0.001000 |   140/  200 iteration | averaged error 0.0000024686 | energy per-site -0.652735 | time  1.4 sec\n",
            "| dt 0.001000 |   160/  200 iteration | averaged error 0.0000023057 | energy per-site -0.652735 | time  1.4 sec\n",
            "| dt 0.001000 |   180/  200 iteration | averaged error 0.0000021543 | energy per-site -0.652736 | time  1.4 sec\n",
            "| dt 0.000100 |    20/  200 iteration | averaged error 0.0000002392 | energy per-site -0.652922 | time  1.5 sec\n",
            "| dt 0.000010 |    20/  200 iteration | averaged error 0.0000000243 | energy per-site -0.65294 | time  1.5 sec\n",
            "Simple Update converged. final error is 0.0000000243\n",
            "\n",
            "| D max: 4 | PEPS Energy: -0.652940270996605\n",
            "\n",
            "| dt 0.100000 |    20/  200 iteration | averaged error 0.0033077663 | energy per-site -0.620766 | time  7.1 sec\n",
            "| dt 0.100000 |    40/  200 iteration | averaged error 0.0004474903 | energy per-site -0.62947 | time  6.7 sec\n",
            "| dt 0.100000 |    60/  200 iteration | averaged error 0.0002936462 | energy per-site -0.629628 | time  6.8 sec\n",
            "| dt 0.100000 |    80/  200 iteration | averaged error 0.0003068095 | energy per-site -0.629763 | time  6.7 sec\n",
            "| dt 0.100000 |   100/  200 iteration | averaged error 0.0001854373 | energy per-site -0.629873 | time  6.8 sec\n",
            "| dt 0.100000 |   120/  200 iteration | averaged error 0.0001532857 | energy per-site -0.629897 | time  6.8 sec\n",
            "| dt 0.100000 |   140/  200 iteration | averaged error 0.0001555267 | energy per-site -0.629972 | time  6.7 sec\n",
            "| dt 0.100000 |   160/  200 iteration | averaged error 0.0001086616 | energy per-site -0.630168 | time  6.8 sec\n",
            "| dt 0.100000 |   180/  200 iteration | averaged error 0.0000932438 | energy per-site -0.630177 | time  6.7 sec\n",
            "| dt 0.010000 |    20/  200 iteration | averaged error 0.0001521551 | energy per-site -0.649709 | time  7.1 sec\n",
            "| dt 0.010000 |    40/  200 iteration | averaged error 0.0000786730 | energy per-site -0.649877 | time  6.8 sec\n",
            "| dt 0.010000 |    60/  200 iteration | averaged error 0.0000420611 | energy per-site -0.649925 | time  6.8 sec\n",
            "| dt 0.010000 |    80/  200 iteration | averaged error 0.0000238415 | energy per-site -0.64994 | time  6.8 sec\n",
            "| dt 0.010000 |   100/  200 iteration | averaged error 0.0000150953 | energy per-site -0.649946 | time  6.7 sec\n",
            "| dt 0.010000 |   120/  200 iteration | averaged error 0.0000110561 | energy per-site -0.649948 | time  6.8 sec\n",
            "| dt 0.010000 |   140/  200 iteration | averaged error 0.0000092866 | energy per-site -0.649949 | time  6.8 sec\n",
            "| dt 0.010000 |   160/  200 iteration | averaged error 0.0000085415 | energy per-site -0.64995 | time  6.7 sec\n",
            "| dt 0.010000 |   180/  200 iteration | averaged error 0.0000082048 | energy per-site -0.649951 | time  6.8 sec\n",
            "| dt 0.001000 |    20/  200 iteration | averaged error 0.0000030608 | energy per-site -0.651831 | time  7.0 sec\n",
            "| dt 0.001000 |    40/  200 iteration | averaged error 0.0000028670 | energy per-site -0.651832 | time  6.8 sec\n",
            "| dt 0.001000 |    60/  200 iteration | averaged error 0.0000026927 | energy per-site -0.651833 | time  6.8 sec\n",
            "| dt 0.001000 |    80/  200 iteration | averaged error 0.0000025322 | energy per-site -0.651834 | time  6.7 sec\n",
            "| dt 0.001000 |   100/  200 iteration | averaged error 0.0000023844 | energy per-site -0.651835 | time  6.8 sec\n",
            "| dt 0.001000 |   120/  200 iteration | averaged error 0.0000022482 | energy per-site -0.651835 | time  6.8 sec\n",
            "| dt 0.001000 |   140/  200 iteration | averaged error 0.0000021229 | energy per-site -0.651836 | time  6.7 sec\n",
            "| dt 0.001000 |   160/  200 iteration | averaged error 0.0000020075 | energy per-site -0.651837 | time  6.8 sec\n",
            "| dt 0.001000 |   180/  200 iteration | averaged error 0.0000019014 | energy per-site -0.651837 | time  6.8 sec\n",
            "| dt 0.000100 |    20/  200 iteration | averaged error 0.0000002070 | energy per-site -0.652024 | time  7.1 sec\n",
            "| dt 0.000010 |    20/  200 iteration | averaged error 0.0000000210 | energy per-site -0.652043 | time  7.1 sec\n",
            "Simple Update converged. final error is 0.0000000210\n",
            "\n",
            "| D max: 5 | PEPS Energy: -0.6520431464724064\n",
            "\n",
            "| dt 0.100000 |    20/  200 iteration | averaged error 0.0024182600 | energy per-site -0.621423 | time 2.9e+01 sec\n",
            "| dt 0.100000 |    40/  200 iteration | averaged error 0.0003007463 | energy per-site -0.630344 | time 2.7e+01 sec\n",
            "| dt 0.100000 |    60/  200 iteration | averaged error 0.0002027706 | energy per-site -0.630496 | time 2.8e+01 sec\n",
            "| dt 0.100000 |    80/  200 iteration | averaged error 0.0001606397 | energy per-site -0.630525 | time 2.7e+01 sec\n",
            "| dt 0.100000 |   100/  200 iteration | averaged error 0.0001406969 | energy per-site -0.630546 | time 2.7e+01 sec\n",
            "| dt 0.100000 |   120/  200 iteration | averaged error 0.0001511540 | energy per-site -0.630593 | time 2.7e+01 sec\n",
            "| dt 0.100000 |   140/  200 iteration | averaged error 0.0001540326 | energy per-site -0.630641 | time 2.7e+01 sec\n",
            "| dt 0.100000 |   160/  200 iteration | averaged error 0.0001347626 | energy per-site -0.630666 | time 2.7e+01 sec\n",
            "| dt 0.100000 |   180/  200 iteration | averaged error 0.0001176841 | energy per-site -0.630686 | time 2.8e+01 sec\n",
            "| dt 0.010000 |    20/  200 iteration | averaged error 0.0001582268 | energy per-site -0.650085 | time 2.9e+01 sec\n",
            "| dt 0.010000 |    40/  200 iteration | averaged error 0.0000839007 | energy per-site -0.650252 | time 2.7e+01 sec\n",
            "| dt 0.010000 |    60/  200 iteration | averaged error 0.0000472621 | energy per-site -0.650301 | time 2.7e+01 sec\n",
            "| dt 0.010000 |    80/  200 iteration | averaged error 0.0000293243 | energy per-site -0.650319 | time 2.7e+01 sec\n",
            "| dt 0.010000 |   100/  200 iteration | averaged error 0.0000209064 | energy per-site -0.650329 | time 2.7e+01 sec\n",
            "| dt 0.010000 |   120/  200 iteration | averaged error 0.0000171388 | energy per-site -0.650339 | time 2.8e+01 sec\n",
            "| dt 0.010000 |   140/  200 iteration | averaged error 0.0000155024 | energy per-site -0.65035 | time 2.7e+01 sec\n",
            "| dt 0.010000 |   160/  200 iteration | averaged error 0.0000146635 | energy per-site -0.650364 | time 2.7e+01 sec\n",
            "| dt 0.010000 |   180/  200 iteration | averaged error 0.0000138426 | energy per-site -0.650381 | time 2.7e+01 sec\n",
            "| dt 0.001000 |    20/  200 iteration | averaged error 0.0000035930 | energy per-site -0.652263 | time 2.8e+01 sec\n",
            "| dt 0.001000 |    40/  200 iteration | averaged error 0.0000033969 | energy per-site -0.652265 | time 2.7e+01 sec\n",
            "| dt 0.001000 |    60/  200 iteration | averaged error 0.0000032157 | energy per-site -0.652268 | time 2.7e+01 sec\n",
            "| dt 0.001000 |    80/  200 iteration | averaged error 0.0000030481 | energy per-site -0.65227 | time 2.7e+01 sec\n",
            "| dt 0.001000 |   100/  200 iteration | averaged error 0.0000028931 | energy per-site -0.652272 | time 2.7e+01 sec\n",
            "| dt 0.001000 |   120/  200 iteration | averaged error 0.0000027497 | energy per-site -0.652274 | time 2.7e+01 sec\n",
            "| dt 0.001000 |   140/  200 iteration | averaged error 0.0000026171 | energy per-site -0.652276 | time 2.7e+01 sec\n",
            "| dt 0.001000 |   160/  200 iteration | averaged error 0.0000024943 | energy per-site -0.652278 | time 2.7e+01 sec\n",
            "| dt 0.001000 |   180/  200 iteration | averaged error 0.0000023807 | energy per-site -0.65228 | time 2.7e+01 sec\n",
            "| dt 0.000100 |    20/  200 iteration | averaged error 0.0000002538 | energy per-site -0.652467 | time 2.9e+01 sec\n",
            "| dt 0.000010 |    20/  200 iteration | averaged error 0.0000000256 | energy per-site -0.652485 | time 2.9e+01 sec\n",
            "Simple Update converged. final error is 0.0000000256\n",
            "\n",
            "| D max: 6 | PEPS Energy: -0.6524853277712884\n",
            "\n"
          ],
          "name": "stdout"
        }
      ]
    },
    {
      "cell_type": "markdown",
      "metadata": {
        "id": "LmEuvjChobyQ"
      },
      "source": [
        "# Infinite Star Tensor-Network Simple-Update Simulation"
      ]
    },
    {
      "cell_type": "code",
      "metadata": {
        "id": "1cALJVJti8zU"
      },
      "source": [
        "# The Tensor Network structure matrix\n",
        "star_structure_matrix = np.array([[1, 2, 3, 0, 0, 0, 0, 0, 0],\n",
        "                                  [1, 0, 0, 2, 3, 0, 0, 0, 0],\n",
        "                                  [0, 1, 0, 2, 0, 3, 0, 0, 0],\n",
        "                                  [0, 0, 0, 0, 0, 1, 2, 3, 0],\n",
        "                                  [0, 0, 0, 0, 1, 0, 2, 0, 3],\n",
        "                                  [0, 0, 1, 0, 0, 0, 0, 2, 3]])\n",
        "# Simple-Update parameters\n",
        "d_max_star = [2, 3, 4, 5, 6, 7, 8, 9, 10, 20, 30]\n",
        "error = 1e-6\n",
        "max_iterations = 200\n",
        "star_energy = []\n",
        "j_ij_star = [1, 1, 0.05, 1, 0.05, 0.05, 1, 1, 1]\n",
        "dts = [0.1, 0.01, 0.001, 0.0001, 0.00001]\n",
        "h_k = 0.\n",
        "\n",
        "\n",
        "# Run\n",
        "for d_max in d_max_star:\n",
        "    star = TensorNetwork(structure_matrix=star_structure_matrix, virtual_size=2)\n",
        "    star_su = su.SimpleUpdate(tensor_network=star, \n",
        "                              dts=dts, \n",
        "                              j_ij=j_ij_star, \n",
        "                              h_k=h_k, \n",
        "                              s_i=s_i, \n",
        "                              s_j=s_j, \n",
        "                              s_k=s_k, \n",
        "                              d_max=d_max, \n",
        "                              max_iterations=max_iterations, \n",
        "                              convergence_error=error, \n",
        "                              log_energy=True,\n",
        "                              print_process=True)\n",
        "    star_su.run()\n",
        "    energy = star_su.energy_per_site()\n",
        "    print(f'| D max: {d_max} | Star Energy: {energy}\\n')\n",
        "    star_energy.append(energy)"
      ],
      "execution_count": null,
      "outputs": []
    },
    {
      "cell_type": "markdown",
      "metadata": {
        "id": "2LtZPAmOoeE6"
      },
      "source": [
        "# Infinite Cube Tensor-Network Simple-Update Simulation"
      ]
    },
    {
      "cell_type": "code",
      "metadata": {
        "id": "QuZPbtRnjXCA"
      },
      "source": [
        "# The Tensor Network structure matrix\n",
        "cube_structure_matrix = np.array([[1, 2, 3, 4, 5, 6, 0, 0, 0, 0, 0, 0, 0, 0, 0, 0, 0, 0, 0, 0, 0, 0, 0, 0],\n",
        "                                  [1, 2, 0, 0, 0, 0, 3, 4, 5, 6, 0, 0, 0, 0, 0, 0, 0, 0, 0, 0, 0, 0, 0, 0],\n",
        "                                  [0, 0, 0, 0, 0, 0, 1, 2, 0, 0, 3, 4, 5, 6, 0, 0, 0, 0, 0, 0, 0, 0, 0, 0],\n",
        "                                  [0, 0, 1, 2, 0, 0, 0, 0, 0, 0, 3, 4, 0, 0, 5, 6, 0, 0, 0, 0, 0, 0, 0, 0],\n",
        "                                  [0, 0, 0, 0, 1, 2, 0, 0, 0, 0, 0, 0, 0, 0, 0, 0, 3, 4, 5, 6, 0, 0, 0, 0],\n",
        "                                  [0, 0, 0, 0, 0, 0, 0, 0, 1, 2, 0, 0, 0, 0, 0, 0, 3, 4, 0, 0, 5, 6, 0, 0],\n",
        "                                  [0, 0, 0, 0, 0, 0, 0, 0, 0, 0, 0, 0, 1, 2, 0, 0, 0, 0, 0, 0, 3, 4, 5, 6],\n",
        "                                  [0, 0, 0, 0, 0, 0, 0, 0, 0, 0, 0, 0, 0, 0, 1, 2, 0, 0, 3, 4, 0, 0, 5, 6]])\n",
        "\n",
        "# Simple-Update parameters\n",
        "d_max_cube = [2, 3, 4, 5]\n",
        "error = 1e-6\n",
        "max_iterations = 100\n",
        "cube_energy = []\n",
        "j_ij_cube = [1.] * 23\n",
        "dts = [0.1, 0.01, 0.001, 0.0001, 0.00001]\n",
        "h_k = 0.\n",
        "\n",
        "\n",
        "# Run\n",
        "for d_max in d_max_cube:\n",
        "    cube = TensorNetwork(structure_matrix=cube_structure_matrix, virtual_size=2)\n",
        "    cube_su = su.SimpleUpdate(tensor_network=cube, \n",
        "                              dts=dts, \n",
        "                              j_ij=j_ij_cube, \n",
        "                              h_k=h_k, \n",
        "                              s_i=s_i, \n",
        "                              s_j=s_j, \n",
        "                              s_k=s_k, \n",
        "                              d_max=d_max, \n",
        "                              max_iterations=max_iterations, \n",
        "                              convergence_error=error, \n",
        "                              log_energy=True,\n",
        "                              print_process=True)\n",
        "    cube_su.run()\n",
        "    energy = cube_su.energy_per_site()\n",
        "    print(f'| D max: {d_max} | Cube Energy: {energy}\\n')\n",
        "    cube_energy.append(energy)"
      ],
      "execution_count": null,
      "outputs": []
    },
    {
      "cell_type": "code",
      "metadata": {
        "colab": {
          "base_uri": "https://localhost:8080/",
          "height": 292
        },
        "id": "PJqFGxy6Www7",
        "outputId": "460738b5-8428-47ca-a502-938e81b0fbee"
      },
      "source": [
        "fig, axes = plt.subplots(2, 2, figsize=(20, 14))\n",
        "axes[0, 0].plot(1 / np.array(d_list_chain), chain_energy, '-o', color='tab:red')\n",
        "axes[0, 0].set_xlabel(r'1/D')\n",
        "axes[0, 0].set_ylabel(r'$\\epsilon_0$')\n",
        "axes[0, 0].set_title('AFH chain ground-state energy per-site')\n",
        "axes[0, 0].tick_params(direction='in', axis='both')\n",
        "\n",
        "axes[1, 0].plot(1 / np.array(d_list_peps), peps_energy, '-o', color='tab:green')\n",
        "axes[1, 0].set_xlabel(r'1/D')\n",
        "axes[1, 0].set_ylabel(r'$\\epsilon_0$')\n",
        "axes[1, 0].set_title('AFH PEPS ground-state energy per-site')\n",
        "axes[1, 0].tick_params(direction='in', axis='both')\n",
        "\n",
        "axes[0, 1].plot(1 / np.array(d_list_star), star_energy, '-o', color='tab:blue')\n",
        "axes[0, 1].set_xlabel(r'1/D')\n",
        "axes[0, 1].set_ylabel(r'$\\epsilon_0$')\n",
        "axes[0, 1].set_title(r'AFH ($J_e=1, J_t=0.05$) Star ground-state energy per-site')\n",
        "axes[0, 1].tick_params(direction='in', axis='both')\n",
        "\n",
        "axes[1, 1].plot(1 / np.array(d_list_cube), cube_energy, '-o', color='tab:orange')\n",
        "axes[1, 1].set_xlabel(r'1/D')\n",
        "axes[1, 1].set_ylabel(r'$\\epsilon_0$')\n",
        "axes[1, 1].set_title('AFH Cube ground-state energy per-site')\n",
        "axes[1, 1].tick_params(direction='in', axis='both')\n"
      ],
      "execution_count": 21,
      "outputs": [
        {
          "output_type": "display_data",
          "data": {
            "image/png": "[encoded data removed]",
            "text/plain": [
              "<Figure size 432x288 with 1 Axes>"
            ]
          },
          "metadata": {
            "tags": [],
            "needs_background": "light"
          }
        }
      ]
    },
    {
      "cell_type": "code",
      "metadata": {
        "id": "IBmAUg0hZi30"
      },
      "source": [
        ""
      ],
      "execution_count": null,
      "outputs": []
    }
  ]
}