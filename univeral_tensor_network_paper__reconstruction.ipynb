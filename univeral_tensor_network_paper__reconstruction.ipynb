{
  "nbformat": 4,
  "nbformat_minor": 0,
  "metadata": {
    "colab": {
      "name": "univeral_tensor_network_paper_ reconstruction.ipynb",
      "provenance": [],
      "collapsed_sections": [],
      "authorship_tag": "ABX9TyMFbBqxtjYGWpFZJOjrs0pt",
      "include_colab_link": true
    },
    "kernelspec": {
      "name": "python3",
      "display_name": "Python 3"
    },
    "language_info": {
      "name": "python"
    }
  },
  "cells": [
    {
      "cell_type": "markdown",
      "metadata": {
        "id": "view-in-github",
        "colab_type": "text"
      },
      "source": [
        "<a href=\"https://colab.research.google.com/github/RoyElkabetz/Tensor-Networks-Simple-Update/blob/main/univeral_tensor_network_paper__reconstruction.ipynb\" target=\"_parent\"><img src=\"https://colab.research.google.com/assets/colab-badge.svg\" alt=\"Open In Colab\"/></a>"
      ]
    },
    {
      "cell_type": "code",
      "metadata": {
        "colab": {
          "base_uri": "https://localhost:8080/"
        },
        "id": "2GDnnrh3an72",
        "outputId": "6f8bd792-6891-4fe7-c062-b996060253d8"
      },
      "source": [
        "## uncomment only if running from google.colab\n",
        "# clone the git reposetory\n",
        "!git clone https://github.com/RoyElkabetz/Tensor-Networks-Simple-Update\n",
        "# add path to .py files for import\n",
        "import sys\n",
        "sys.path.insert(1, \"/content/Tensor-Networks-Simple-Update/src\")"
      ],
      "execution_count": 2,
      "outputs": [
        {
          "output_type": "stream",
          "text": [
            "Cloning into 'Tensor-Networks-Simple-Update'...\n",
            "remote: Enumerating objects: 126, done.\u001b[K\n",
            "remote: Counting objects: 100% (126/126), done.\u001b[K\n",
            "remote: Compressing objects: 100% (87/87), done.\u001b[K\n",
            "remote: Total 126 (delta 61), reused 91 (delta 35), pack-reused 0\u001b[K\n",
            "Receiving objects: 100% (126/126), 56.00 KiB | 1.47 MiB/s, done.\n",
            "Resolving deltas: 100% (61/61), done.\n"
          ],
          "name": "stdout"
        }
      ]
    },
    {
      "cell_type": "code",
      "metadata": {
        "id": "BXXI0Rsxa6ka"
      },
      "source": [
        "import numpy as np\n",
        "from TensorNetwork import TensorNetwork\n",
        "import SimpleUpdate as su\n",
        "np.random.seed(216)\n",
        "\n",
        "\n",
        "# MPS Tensor Network\n",
        "mps_structure_matrix = np.array([[1, 2],\n",
        "                                 [1, 2]])\n",
        "# MPS Tensor Network\n",
        "peps_structure_matrix = np.array([[1, 2, 3, 4, 0, 0, 0, 0],\n",
        "                                  [1, 2, 0, 0, 3, 4, 0, 0],\n",
        "                                  [0, 0, 1, 2, 0, 0, 3, 4,],\n",
        "                                  [0, 0, 0, 0, 1, 2, 3, 4]])\n",
        "\n",
        "star_structure_matrix = np.array([[1, 2, 3, 0, 0, 0, 0, 0, 0],\n",
        "                                 [1, 0, 0, 2, 3, 0, 0, 0, 0],\n",
        "                                 [0, 1, 0, 2, 0, 3, 0, 0, 0],\n",
        "                                 [0, 0, 0, 0, 0, 1, 2, 3, 0],\n",
        "                                 [0, 0, 0, 0, 1, 0, 2, 0, 3],\n",
        "                                 [0, 0, 1, 0, 0, 0, 0, 2, 3]])\n",
        "\n",
        "cube_structure_matrix = np.array([[1, 2, 3, 4, 5, 6, 0, 0, 0, 0, 0, 0, 0, 0, 0, 0, 0, 0, 0, 0, 0, 0, 0, 0],\n",
        "                                 [1, 2, 0, 0, 0, 0, 3, 4, 5, 6, 0, 0, 0, 0, 0, 0, 0, 0, 0, 0, 0, 0, 0, 0],\n",
        "                                 [0, 0, 0, 0, 0, 0, 1, 2, 0, 0, 3, 4, 5, 6, 0, 0, 0, 0, 0, 0, 0, 0, 0, 0],\n",
        "                                 [0, 0, 1, 2, 0, 0, 0, 0, 0, 0, 3, 4, 0, 0, 5, 6, 0, 0, 0, 0, 0, 0, 0, 0],\n",
        "                                 [0, 0, 0, 0, 1, 2, 0, 0, 0, 0, 0, 0, 0, 0, 0, 0, 3, 4, 5, 6, 0, 0, 0, 0],\n",
        "                                 [0, 0, 0, 0, 0, 0, 0, 0, 1, 2, 0, 0, 0, 0, 0, 0, 3, 4, 0, 0, 5, 6, 0, 0],\n",
        "                                 [0, 0, 0, 0, 0, 0, 0, 0, 0, 0, 0, 0, 1, 2, 0, 0, 0, 0, 0, 0, 3, 4, 5, 6],\n",
        "                                 [0, 0, 0, 0, 0, 0, 0, 0, 0, 0, 0, 0, 0, 0, 1, 2, 0, 0, 3, 4, 0, 0, 5, 6]])\n",
        "\n",
        "\n",
        "\n",
        "\n"
      ],
      "execution_count": 3,
      "outputs": []
    },
    {
      "cell_type": "code",
      "metadata": {
        "id": "x9gTThCjbrzm"
      },
      "source": [
        "# prepare simple-update parameters\n",
        "pauli_x = np.array([[0, 1],\n",
        "                    [1, 0]])\n",
        "pauli_y = np.array([[0, -1j],\n",
        "                    [1j, 0]])\n",
        "pauli_z = np.array([[1, 0],\n",
        "                    [0, -1]])\n",
        "dts = [0.1, 0.01, 0.001, 0.0001, 0.00001]\n",
        "h_k = 0.\n",
        "s_i = [pauli_x / 2., pauli_y / 2., pauli_z / 2.]\n",
        "s_j = [pauli_x / 2., pauli_y / 2., pauli_z / 2.]\n",
        "s_k = [pauli_x / 2.]\n",
        "d_max = 2\n",
        "\n",
        "\n",
        "mps = TensorNetwork(structure_matrix=mps_structure_matrix, virtual_size=3)\n",
        "peps = TensorNetwork(structure_matrix=peps_structure_matrix, virtual_size=3)\n",
        "star = TensorNetwork(structure_matrix=star_structure_matrix, virtual_size=3)\n",
        "cube = TensorNetwork(structure_matrix=cube_structure_matrix, virtual_size=3)\n",
        "j_ij_mps = [-1.] * len(mps.weights)\n",
        "j_ij_peps = [-1.] * len(peps.weights)\n",
        "j_ij_star = [1.] * len(star.weights)\n",
        "j_ij_cube = [-1.] * len(cube.weights)"
      ],
      "execution_count": 8,
      "outputs": []
    },
    {
      "cell_type": "code",
      "metadata": {
        "colab": {
          "base_uri": "https://localhost:8080/"
        },
        "id": "8fmO0tH4bu8k",
        "outputId": "8b529cc6-52af-4d5a-ab89-efec15e9f94c"
      },
      "source": [
        "for dt in dts:\n",
        "    for _ in range(50):\n",
        "        su.simple_update(tensor_network=mps, dt=dt, j_ij=j_ij_mps, h_k=h_k, s_i=s_i, s_j=s_j, s_ik=s_k, s_jk=s_k, d_max=d_max)\n",
        "tensors = mps.tensors\n",
        "weights = mps.weights\n",
        "energy_mps = su.energy_per_site(tensors, weights, mps_structure_matrix, j_ij_mps, h_k, s_i, s_j, s_k, s_k)\n",
        "print(f'mps energy: {energy_mps}, paper: {-0.44304}')\n",
        "\n",
        "for dt in dts:\n",
        "    for _ in range(50):\n",
        "        su.simple_update(tensor_network=star, dt=dt, j_ij=j_ij_star, h_k=h_k, s_i=s_i, s_j=s_j, s_ik=s_k, s_jk=s_k, d_max=d_max)\n",
        "tensors = star.tensors\n",
        "weights = star.weights\n",
        "energy_star = su.energy_per_site(tensors, weights, star_structure_matrix, j_ij_star, h_k, s_i, s_j, s_k, s_k)\n",
        "print(f'star energy: {energy_star}, paper: {-0.37523}')\n",
        "\n",
        "for dt in dts:\n",
        "    for _ in range(50):\n",
        "        su.simple_update(tensor_network=cube, dt=dt, j_ij=j_ij_cube, h_k=h_k, s_i=s_i, s_j=s_j, s_ik=s_k, s_jk=s_k, d_max=d_max)\n",
        "tensors = cube.tensors\n",
        "weights = cube.weights\n",
        "energy_cube = su.energy_per_site(tensors, weights, cube_structure_matrix, j_ij_cube, h_k, s_i, s_j, s_k, s_k)\n",
        "print(f'cube energy: {energy_cube}, paper: {-0.89253}')"
      ],
      "execution_count": 9,
      "outputs": [
        {
          "output_type": "stream",
          "text": [
            "mps energy: (-0.42764890032369+0j), paper: -0.44304\n",
            "star energy: (-0.3749985308498954+0j), paper: -0.37523\n",
            "cube energy: (-0.8915746895610899+0j), paper: -0.89253\n"
          ],
          "name": "stdout"
        }
      ]
    },
    {
      "cell_type": "code",
      "metadata": {
        "id": "lsacYFIfbvok"
      },
      "source": [
        ""
      ],
      "execution_count": null,
      "outputs": []
    }
  ]
}