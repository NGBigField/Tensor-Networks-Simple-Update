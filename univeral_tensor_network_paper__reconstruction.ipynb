{
  "nbformat": 4,
  "nbformat_minor": 0,
  "metadata": {
    "colab": {
      "name": "univeral_tensor_network_paper_ reconstruction.ipynb",
      "provenance": [],
      "collapsed_sections": [],
      "authorship_tag": "ABX9TyPcbUR6BJYrSOSAEzlMf+n2",
      "include_colab_link": true
    },
    "kernelspec": {
      "name": "python3",
      "display_name": "Python 3"
    },
    "language_info": {
      "name": "python"
    }
  },
  "cells": [
    {
      "cell_type": "markdown",
      "metadata": {
        "id": "view-in-github",
        "colab_type": "text"
      },
      "source": [
        "<a href=\"https://colab.research.google.com/github/RoyElkabetz/Tensor-Networks-Simple-Update/blob/main/univeral_tensor_network_paper__reconstruction.ipynb\" target=\"_parent\"><img src=\"https://colab.research.google.com/assets/colab-badge.svg\" alt=\"Open In Colab\"/></a>"
      ]
    },
    {
      "cell_type": "code",
      "metadata": {
        "colab": {
          "base_uri": "https://localhost:8080/"
        },
        "id": "2GDnnrh3an72",
        "outputId": "730611ac-d2a9-42ca-8305-f8050f38f382"
      },
      "source": [
        "## uncomment only if running from google.colab\n",
        "# clone the git reposetory\n",
        "!git clone https://github.com/RoyElkabetz/Tensor-Networks-Simple-Update\n",
        "# add path to .py files for import\n",
        "import sys\n",
        "sys.path.insert(1, \"/content/Tensor-Networks-Simple-Update/src\")"
      ],
      "execution_count": 1,
      "outputs": [
        {
          "output_type": "stream",
          "text": [
            "Cloning into 'Tensor-Networks-Simple-Update'...\n",
            "remote: Enumerating objects: 161, done.\u001b[K\n",
            "remote: Counting objects: 100% (161/161), done.\u001b[K\n",
            "remote: Compressing objects: 100% (110/110), done.\u001b[K\n",
            "remote: Total 161 (delta 84), reused 114 (delta 47), pack-reused 0\u001b[K\n",
            "Receiving objects: 100% (161/161), 76.77 KiB | 4.26 MiB/s, done.\n",
            "Resolving deltas: 100% (84/84), done.\n"
          ],
          "name": "stdout"
        }
      ]
    },
    {
      "cell_type": "code",
      "metadata": {
        "id": "x9gTThCjbrzm"
      },
      "source": [
        "import numpy as np\n",
        "from TensorNetwork import TensorNetwork\n",
        "import SimpleUpdate as su\n",
        "\n",
        "\n",
        "mps_structure_matrix = np.array([[1, 2],\n",
        "                                 [1, 2]])\n",
        "\n",
        "peps_structure_matrix = np.array([[1, 2, 3, 4, 0, 0, 0, 0],\n",
        "                                  [1, 2, 0, 0, 3, 4, 0, 0],\n",
        "                                  [0, 0, 1, 2, 0, 0, 3, 4,],\n",
        "                                  [0, 0, 0, 0, 1, 2, 3, 4]])\n",
        "\n",
        "star_structure_matrix = np.array([[1, 2, 3, 0, 0, 0, 0, 0, 0],\n",
        "                                 [1, 0, 0, 2, 3, 0, 0, 0, 0],\n",
        "                                 [0, 1, 0, 2, 0, 3, 0, 0, 0],\n",
        "                                 [0, 0, 0, 0, 0, 1, 2, 3, 0],\n",
        "                                 [0, 0, 0, 0, 1, 0, 2, 0, 3],\n",
        "                                 [0, 0, 1, 0, 0, 0, 0, 2, 3]])\n",
        "\n",
        "cube_structure_matrix = np.array([[1, 2, 3, 4, 5, 6, 0, 0, 0, 0, 0, 0, 0, 0, 0, 0, 0, 0, 0, 0, 0, 0, 0, 0],\n",
        "                                 [1, 2, 0, 0, 0, 0, 3, 4, 5, 6, 0, 0, 0, 0, 0, 0, 0, 0, 0, 0, 0, 0, 0, 0],\n",
        "                                 [0, 0, 0, 0, 0, 0, 1, 2, 0, 0, 3, 4, 5, 6, 0, 0, 0, 0, 0, 0, 0, 0, 0, 0],\n",
        "                                 [0, 0, 1, 2, 0, 0, 0, 0, 0, 0, 3, 4, 0, 0, 5, 6, 0, 0, 0, 0, 0, 0, 0, 0],\n",
        "                                 [0, 0, 0, 0, 1, 2, 0, 0, 0, 0, 0, 0, 0, 0, 0, 0, 3, 4, 5, 6, 0, 0, 0, 0],\n",
        "                                 [0, 0, 0, 0, 0, 0, 0, 0, 1, 2, 0, 0, 0, 0, 0, 0, 3, 4, 0, 0, 5, 6, 0, 0],\n",
        "                                 [0, 0, 0, 0, 0, 0, 0, 0, 0, 0, 0, 0, 1, 2, 0, 0, 0, 0, 0, 0, 3, 4, 5, 6],\n",
        "                                 [0, 0, 0, 0, 0, 0, 0, 0, 0, 0, 0, 0, 0, 0, 1, 2, 0, 0, 3, 4, 0, 0, 5, 6]])\n",
        "\n",
        "\n",
        "n, m = mps_structure_matrix.shape\n",
        "tensors = []\n",
        "weights = []\n",
        "\n",
        "for i in range(n):\n",
        "    tensors.append(np.random.rand(2, 3, 3))\n",
        "for j in range(m):\n",
        "    weights.append(np.ones(3) / 3)\n",
        "\n",
        "# prepare simple-update parameters\n",
        "pauli_x = np.array([[0, 1],\n",
        "                    [1, 0]])\n",
        "pauli_y = np.array([[0, -1j],\n",
        "                    [1j, 0]])\n",
        "pauli_z = np.array([[1, 0],\n",
        "                    [0, -1]])\n",
        "dts = [0.1, 0.01, 0.001, 0.0001, 0.00001]\n",
        "h_k = 0.\n",
        "s_i = [pauli_x / 2., pauli_y / 2., pauli_z / 2.]\n",
        "s_j = [pauli_x / 2., pauli_y / 2., pauli_z / 2.]\n",
        "s_k = [pauli_x / 2.]\n",
        "d_max = 2\n",
        "\n",
        "\n",
        "mps = TensorNetwork(structure_matrix=mps_structure_matrix, weights=weights)\n",
        "peps = TensorNetwork(structure_matrix=peps_structure_matrix, virtual_size=2)\n",
        "star = TensorNetwork(structure_matrix=star_structure_matrix, virtual_size=2)\n",
        "cube = TensorNetwork(structure_matrix=cube_structure_matrix, virtual_size=2)\n",
        "j_ij_mps = [1.] * len(mps.weights)\n",
        "j_ij_peps = [1.] * len(peps.weights)\n",
        "j_ij_star = [1.] * len(star.weights)\n",
        "j_ij_cube = [1.] * len(cube.weights)"
      ],
      "execution_count": 10,
      "outputs": []
    },
    {
      "cell_type": "code",
      "metadata": {
        "id": "lsacYFIfbvok",
        "colab": {
          "base_uri": "https://localhost:8080/"
        },
        "outputId": "a652b78b-f727-4bde-b374-5f64f6421e1e"
      },
      "source": [
        "mps_su = su.SimpleUpdate(tensor_network=mps, \n",
        "                         dts=dts, \n",
        "                         j_ij=j_ij_mps, \n",
        "                         h_k=h_k, \n",
        "                         s_i=s_i, \n",
        "                         s_j=s_j, \n",
        "                         s_k=s_k, \n",
        "                         d_max=d_max, \n",
        "                         max_iterations=100, \n",
        "                         convergence_error=1e-6, \n",
        "                         log_energy=True)\n",
        "mps_su.run()\n",
        "energy_mps = mps_su.energy_per_site()\n",
        "print(f'mps energy: {energy_mps}, paper: {-0.44304}')"
      ],
      "execution_count": 11,
      "outputs": [
        {
          "output_type": "stream",
          "text": [
            "| dt 0.100000 |    20/  100 iteration | averaged error 0.0041124182 | energy per-site -0.416097 | time 0.07 sec\n",
            "| dt 0.100000 |    40/  100 iteration | averaged error 0.0002735466 | energy per-site -0.420512 | time 0.071 sec\n",
            "| dt 0.100000 |    60/  100 iteration | averaged error 0.0000251180 | energy per-site -0.420644 | time 0.073 sec\n",
            "| dt 0.100000 |    80/  100 iteration | averaged error 0.0000076627 | energy per-site -0.420648 | time 0.069 sec\n",
            "| dt 0.010000 |    20/  100 iteration | averaged error 0.0000923597 | energy per-site -0.427011 | time 0.093 sec\n",
            "| dt 0.010000 |    40/  100 iteration | averaged error 0.0000817960 | energy per-site -0.427049 | time 0.075 sec\n",
            "| dt 0.010000 |    60/  100 iteration | averaged error 0.0000723613 | energy per-site -0.427078 | time 0.065 sec\n",
            "| dt 0.010000 |    80/  100 iteration | averaged error 0.0000639591 | energy per-site -0.4271 | time 0.066 sec\n",
            "| dt 0.001000 |    20/  100 iteration | averaged error 0.0000066754 | energy per-site -0.427759 | time 0.079 sec\n",
            "| dt 0.001000 |    40/  100 iteration | averaged error 0.0000065928 | energy per-site -0.427761 | time 0.068 sec\n",
            "| dt 0.001000 |    60/  100 iteration | averaged error 0.0000065111 | energy per-site -0.427763 | time 0.075 sec\n",
            "| dt 0.001000 |    80/  100 iteration | averaged error 0.0000064304 | energy per-site -0.427765 | time 0.071 sec\n",
            "| dt 0.000100 |    20/  100 iteration | averaged error 0.0000006454 | energy per-site -0.427831 | time 0.069 sec\n",
            "| dt 0.000010 |    20/  100 iteration | averaged error 0.0000000646 | energy per-site -0.427837 | time 0.074 sec\n",
            "Simple Update converged. final error is 0.0000000646\n",
            "\n",
            "mps energy: -0.42783726833878755, paper: -0.44304\n"
          ],
          "name": "stdout"
        }
      ]
    },
    {
      "cell_type": "code",
      "metadata": {
        "colab": {
          "base_uri": "https://localhost:8080/"
        },
        "id": "Vco5DlKuiEER",
        "outputId": "1911177b-08d2-44fd-e89b-5f3d77e572b9"
      },
      "source": [
        "star_su = su.SimpleUpdate(tensor_network=star, \n",
        "                          dts=dts, \n",
        "                          j_ij=j_ij_star, \n",
        "                          h_k=h_k, \n",
        "                          s_i=s_i, \n",
        "                          s_j=s_j, \n",
        "                          s_k=s_k, \n",
        "                          d_max=d_max, \n",
        "                          max_iterations=100, \n",
        "                          convergence_error=1e-6, \n",
        "                          log_energy=True)\n",
        "star_su.run()\n",
        "energy_star = star_su.energy_per_site()\n",
        "print(f'star energy: {energy_star}, paper: {-0.37523}')"
      ],
      "execution_count": 12,
      "outputs": [
        {
          "output_type": "stream",
          "text": [
            "| dt 0.100000 |    20/  100 iteration | averaged error 0.0051444133 | energy per-site -0.344149 | time 0.39 sec\n",
            "| dt 0.100000 |    40/  100 iteration | averaged error 0.0036021148 | energy per-site -0.408686 | time 0.35 sec\n",
            "| dt 0.100000 |    60/  100 iteration | averaged error 0.0012370404 | energy per-site -0.43427 | time 0.35 sec\n",
            "| dt 0.100000 |    80/  100 iteration | averaged error 0.0003118884 | energy per-site -0.436903 | time 0.34 sec\n",
            "| dt 0.010000 |    20/  100 iteration | averaged error 0.0001081192 | energy per-site -0.444647 | time 0.37 sec\n",
            "| dt 0.010000 |    40/  100 iteration | averaged error 0.0000729772 | energy per-site -0.444746 | time 0.34 sec\n",
            "| dt 0.010000 |    60/  100 iteration | averaged error 0.0000505142 | energy per-site -0.444799 | time 0.34 sec\n",
            "| dt 0.010000 |    80/  100 iteration | averaged error 0.0000362069 | energy per-site -0.444832 | time 0.34 sec\n",
            "| dt 0.001000 |    20/  100 iteration | averaged error 0.0000042031 | energy per-site -0.445587 | time 0.37 sec\n",
            "| dt 0.001000 |    40/  100 iteration | averaged error 0.0000040715 | energy per-site -0.44559 | time 0.36 sec\n",
            "| dt 0.001000 |    60/  100 iteration | averaged error 0.0000039458 | energy per-site -0.445593 | time 0.34 sec\n",
            "| dt 0.001000 |    80/  100 iteration | averaged error 0.0000038260 | energy per-site -0.445596 | time 0.34 sec\n",
            "| dt 0.000100 |    20/  100 iteration | averaged error 0.0000003863 | energy per-site -0.445672 | time 0.35 sec\n",
            "| dt 0.000010 |    20/  100 iteration | averaged error 0.0000000388 | energy per-site -0.445679 | time 0.36 sec\n",
            "Simple Update converged. final error is 0.0000000388\n",
            "\n",
            "star energy: -0.4456792118006865, paper: -0.37523\n"
          ],
          "name": "stdout"
        }
      ]
    },
    {
      "cell_type": "code",
      "metadata": {
        "colab": {
          "base_uri": "https://localhost:8080/"
        },
        "id": "-T3XHZUciNmy",
        "outputId": "766cbb58-4e6f-4be4-ce8a-85a60ee62e11"
      },
      "source": [
        "cube_su = su.SimpleUpdate(tensor_network=cube, \n",
        "                          dts=dts, \n",
        "                          j_ij=j_ij_cube, \n",
        "                          h_k=h_k, \n",
        "                          s_i=s_i, \n",
        "                          s_j=s_j, \n",
        "                          s_k=s_k, \n",
        "                          d_max=d_max, \n",
        "                          max_iterations=100, \n",
        "                          convergence_error=1e-6, \n",
        "                          log_energy=True)\n",
        "cube_su.run()\n",
        "energy_cube = cube_su.energy_per_site()\n",
        "print(f'cube energy: {energy_cube}, paper: {-0.89253}')"
      ],
      "execution_count": 13,
      "outputs": [
        {
          "output_type": "stream",
          "text": [
            "| dt 0.100000 |    20/  100 iteration | averaged error 0.0109812135 | energy per-site -0.753022 | time  1.8 sec\n",
            "| dt 0.100000 |    40/  100 iteration | averaged error 0.0026574356 | energy per-site -0.825494 | time  1.7 sec\n",
            "| dt 0.100000 |    60/  100 iteration | averaged error 0.0065040216 | energy per-site -0.826695 | time  1.7 sec\n",
            "| dt 0.100000 |    80/  100 iteration | averaged error 0.0120827226 | energy per-site -0.826704 | time  1.7 sec\n",
            "| dt 0.010000 |    20/  100 iteration | averaged error 0.0335955035 | energy per-site -0.854061 | time  1.8 sec\n",
            "| dt 0.010000 |    40/  100 iteration | averaged error 0.0457224922 | energy per-site -0.854132 | time  1.7 sec\n",
            "| dt 0.010000 |    60/  100 iteration | averaged error 0.0510674165 | energy per-site -0.854138 | time  1.7 sec\n",
            "| dt 0.010000 |    80/  100 iteration | averaged error 0.0341643436 | energy per-site -0.854137 | time  1.7 sec\n",
            "| dt 0.001000 |    20/  100 iteration | averaged error 0.0385257749 | energy per-site -0.856657 | time  1.8 sec\n",
            "| dt 0.001000 |    40/  100 iteration | averaged error 0.0520102693 | energy per-site -0.856659 | time  1.7 sec\n",
            "| dt 0.001000 |    60/  100 iteration | averaged error 0.0362267068 | energy per-site -0.85666 | time  1.7 sec\n",
            "| dt 0.001000 |    80/  100 iteration | averaged error 0.0468183168 | energy per-site -0.856661 | time  1.7 sec\n",
            "| dt 0.000100 |    20/  100 iteration | averaged error 0.0555154537 | energy per-site -0.856911 | time  1.7 sec\n",
            "| dt 0.000100 |    40/  100 iteration | averaged error 0.0464818071 | energy per-site -0.856911 | time  1.7 sec\n",
            "| dt 0.000100 |    60/  100 iteration | averaged error 0.0385197684 | energy per-site -0.856911 | time  1.7 sec\n",
            "| dt 0.000100 |    80/  100 iteration | averaged error 0.0461206274 | energy per-site -0.856911 | time  1.7 sec\n",
            "| dt 0.000010 |    20/  100 iteration | averaged error 0.0541588548 | energy per-site -0.856936 | time  1.7 sec\n",
            "| dt 0.000010 |    40/  100 iteration | averaged error 0.0298672991 | energy per-site -0.856936 | time  1.7 sec\n",
            "| dt 0.000010 |    60/  100 iteration | averaged error 0.0493479875 | energy per-site -0.856936 | time  1.8 sec\n",
            "| dt 0.000010 |    80/  100 iteration | averaged error 0.0372123214 | energy per-site -0.856936 | time  1.7 sec\n",
            "Simple Update did not converged. final error is 0.0372123214\n",
            "\n",
            "cube energy: -0.8569363328131373, paper: -0.89253\n"
          ],
          "name": "stdout"
        }
      ]
    },
    {
      "cell_type": "code",
      "metadata": {
        "id": "IjgfQzq9iWbm"
      },
      "source": [
        ""
      ],
      "execution_count": null,
      "outputs": []
    }
  ]
}