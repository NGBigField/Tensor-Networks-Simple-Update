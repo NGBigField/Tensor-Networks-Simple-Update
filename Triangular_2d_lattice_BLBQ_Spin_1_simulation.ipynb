{
  "nbformat": 4,
  "nbformat_minor": 0,
  "metadata": {
    "colab": {
      "name": "Triangular_2d_lattice_BLBQ_Spin_1_simulation.ipynb",
      "provenance": [],
      "collapsed_sections": [],
      "authorship_tag": "ABX9TyON2uwYpNosqoFjDO7i4It2",
      "include_colab_link": true
    },
    "kernelspec": {
      "name": "python3",
      "display_name": "Python 3"
    },
    "language_info": {
      "name": "python"
    }
  },
  "cells": [
    {
      "cell_type": "markdown",
      "metadata": {
        "id": "view-in-github",
        "colab_type": "text"
      },
      "source": [
        "<a href=\"https://colab.research.google.com/github/RoyElkabetz/Tensor-Networks-Simple-Update/blob/main/Triangular_2d_lattice_BLBQ_Spin_1_simulation.ipynb\" target=\"_parent\"><img src=\"https://colab.research.google.com/assets/colab-badge.svg\" alt=\"Open In Colab\"/></a>"
      ]
    },
    {
      "cell_type": "code",
      "metadata": {
        "colab": {
          "base_uri": "https://localhost:8080/"
        },
        "id": "jYfpkKJ2nVKl",
        "outputId": "e22e4ce2-ce66-42da-f1e7-641a5ee05e32"
      },
      "source": [
        "## uncomment only if running from google.colab\n",
        "# clone the git reposetory\n",
        "!git clone https://github.com/RoyElkabetz/Tensor-Networks-Simple-Update\n",
        "# add path to .py files for import\n",
        "import sys\n",
        "sys.path.insert(1, \"/content/Tensor-Networks-Simple-Update/src\")"
      ],
      "execution_count": 1,
      "outputs": [
        {
          "output_type": "stream",
          "text": [
            "Cloning into 'Tensor-Networks-Simple-Update'...\n",
            "remote: Enumerating objects: 412, done.\u001b[K\n",
            "remote: Counting objects: 100% (412/412), done.\u001b[K\n",
            "remote: Compressing objects: 100% (345/345), done.\u001b[K\n",
            "remote: Total 412 (delta 237), reused 147 (delta 62), pack-reused 0\u001b[K\n",
            "Receiving objects: 100% (412/412), 1.09 MiB | 14.92 MiB/s, done.\n",
            "Resolving deltas: 100% (237/237), done.\n"
          ],
          "name": "stdout"
        }
      ]
    },
    {
      "cell_type": "code",
      "metadata": {
        "id": "JdFIyFknnXRB"
      },
      "source": [
        "import numpy as np\n",
        "import matplotlib.pyplot as plt\n",
        "from TensorNetwork import TensorNetwork\n",
        "import SimpleUpdate as su\n",
        "import structure_matrix_generator as stmg\n",
        "from tqdm.auto import tqdm\n",
        "\n",
        "\n",
        "np.random.seed(216)\n",
        "\n",
        "plt.rcParams.update({'font.size': 16, \n",
        "                     \"figure.facecolor\": 'white', \n",
        "                     \"axes.facecolor\": 'white', \n",
        "                     \"savefig.facecolor\": 'white', \n",
        "                     'savefig.edgecolor' : 'white', \n",
        "                     'figure.edgecolor' : 'white'})"
      ],
      "execution_count": 2,
      "outputs": []
    },
    {
      "cell_type": "markdown",
      "metadata": {
        "id": "lUusQq0PuwRz"
      },
      "source": [
        "# Spin-1 Simulation of a Bilinear-Biquadratic Heisenberg model on a triangular $2D$ lattice "
      ]
    },
    {
      "cell_type": "code",
      "metadata": {
        "colab": {
          "base_uri": "https://localhost:8080/"
        },
        "id": "1iVOte5inXUJ",
        "outputId": "2f5d8d44-7c7c-4c3d-9a81-681d1386fa22"
      },
      "source": [
        "# The Tensor Network structure matrix\n",
        "triangle_structure_matrix = stmg.infinite_structure_matrix_by_name('triangular')\n",
        "print('The triangular 2D lattice structure matrix:')\n",
        "print(triangle_structure_matrix)"
      ],
      "execution_count": 3,
      "outputs": [
        {
          "output_type": "stream",
          "text": [
            "The triangular 2D lattice structure matrix:\n",
            "[[1 2 3 4 5 6 0 0 0 0 0 0 0 0 0 0 0 0 0 0 0 0 0 0 0 0 0]\n",
            " [1 0 0 0 0 0 2 3 4 5 6 0 0 0 0 0 0 0 0 0 0 0 0 0 0 0 0]\n",
            " [0 1 0 0 0 0 2 0 0 0 0 3 4 5 6 0 0 0 0 0 0 0 0 0 0 0 0]\n",
            " [0 0 1 0 0 0 0 0 0 0 0 2 0 0 0 3 4 5 6 0 0 0 0 0 0 0 0]\n",
            " [0 0 0 1 0 0 0 2 0 0 0 0 0 0 0 3 0 0 0 4 5 6 0 0 0 0 0]\n",
            " [0 0 0 0 0 0 0 0 1 0 0 0 2 0 0 0 3 0 0 4 0 0 5 6 0 0 0]\n",
            " [0 0 0 0 1 0 0 0 0 2 0 0 0 0 0 0 0 3 0 0 0 0 4 0 5 6 0]\n",
            " [0 0 0 0 0 0 0 0 0 0 1 0 0 2 0 0 0 0 3 0 4 0 0 0 5 0 6]\n",
            " [0 0 0 0 0 1 0 0 0 0 0 0 0 0 2 0 0 0 0 0 0 3 0 4 0 5 6]]\n"
          ],
          "name": "stdout"
        }
      ]
    },
    {
      "cell_type": "code",
      "metadata": {
        "id": "v8XEzbv1rVwB"
      },
      "source": [
        "tri_tn = TensorNetwork(structure_matrix=triangle_structure_matrix, \n",
        "                       virtual_size=2)"
      ],
      "execution_count": 4,
      "outputs": []
    },
    {
      "cell_type": "code",
      "metadata": {
        "id": "1XFKv9MxtDPa"
      },
      "source": [
        "# spin-1 operators\n",
        "sx = np.array([[0., 1, 0],\n",
        "               [1, 0, 1],\n",
        "               [0, 1, 0]]) / np.sqrt(2)\n",
        "sy = np.array([[0., -1j, 0],\n",
        "               [1j, 0, -1j],\n",
        "               [0, 1j, 0]]) / np.sqrt(2)\n",
        "sz = np.array([[1., 0, 0],\n",
        "               [0, 0, 0],\n",
        "               [0, 0, -1]])\n",
        "\n",
        "s_i = [sx, sy, sz]\n",
        "s_j = [sx, sy, sz]\n",
        "s_k = []\n",
        "\n",
        "# get the spin-spin interaction term\n",
        "interaction_term = np.zeros((np.power(sx.shape[0], 2), np.power(sx.shape[0], 2)), dtype=np.complex)\n",
        "for s in s_i:\n",
        "    interaction_term += np.kron(s, s)\n",
        "\n",
        "# compute a list of hamiltonians for all angles\n",
        "theta = np.linspace(0, 2 * np.pi, 20)\n",
        "hamiltonian = []\n",
        "for angle in theta:\n",
        "    hamiltonian.append(np.cos(angle) * interaction_term + np.sin(angle) * np.power(interaction_term, 2))"
      ],
      "execution_count": 8,
      "outputs": []
    },
    {
      "cell_type": "markdown",
      "metadata": {
        "id": "3sEwB7JMtNQX"
      },
      "source": [
        "The BLBQ Hamiltonian is given by\n",
        "\n",
        "\\begin{align}\n",
        "    H = \\cos{\\left(\\theta\\right)}\\sum_{<i, j>} \\mathbf{S}_i\\cdot \\mathbf{S}_j + \\sin{\\left(\\theta\\right)}\\sum_{<i, j>} \\left(\\mathbf{S}_i\\cdot \\mathbf{S}_j\\right)^2\n",
        "\\end{align}"
      ]
    },
    {
      "cell_type": "code",
      "metadata": {
        "colab": {
          "base_uri": "https://localhost:8080/",
          "height": 426
        },
        "id": "m3lqKGZdq8I8",
        "outputId": "b6d6bd06-c994-43a9-91eb-f4e8f486c389"
      },
      "source": [
        "# Simple-Update parameters\n",
        "d_max_ising = [2]\n",
        "error = 1e-6\n",
        "max_iterations = 200\n",
        "energy = []\n",
        "j_ij = [-1.] * len(tri_tn.weights)\n",
        "dts = [0.1, 0.01, 0.001, 0.0001, 0.00001]\n",
        "\n",
        "# Run\n",
        "for d_max in d_max_ising:\n",
        "    for i, angle in enumerate(theta):\n",
        "        tri_tn = TensorNetwork(structure_matrix=triangle_structure_matrix, \n",
        "                          virtual_size=2)\n",
        "        tri_su = su.SimpleUpdate(tensor_network=tri_tn, \n",
        "                                  dts=dts, \n",
        "                                  j_ij=j_ij, \n",
        "                                  h_k=0, \n",
        "                                  s_i=s_i, \n",
        "                                  s_j=s_j, \n",
        "                                  s_k=s_k, \n",
        "                                  d_max=d_max, \n",
        "                                  max_iterations=max_iterations, \n",
        "                                  convergence_error=error, \n",
        "                                  log_energy=False,\n",
        "                                  print_process=False,\n",
        "                                  hamiltonian=hamiltonian[i])\n",
        "        tri_su.run()\n",
        "        energy = tri_su.energy_per_site()\n",
        "        print('| D max: {:3d} | Theta: {:2.6f} | Energy: {:3.10f} |'\n",
        "        .format(d_max, angle, energy))\n",
        "        tri_su.append(energy)\n",
        "    "
      ],
      "execution_count": 9,
      "outputs": [
        {
          "output_type": "error",
          "ename": "ValueError",
          "evalue": "ignored",
          "traceback": [
            "\u001b[0;31m---------------------------------------------------------------------------\u001b[0m",
            "\u001b[0;31mValueError\u001b[0m                                Traceback (most recent call last)",
            "\u001b[0;32m<ipython-input-9-45db1bb8b2ce>\u001b[0m in \u001b[0;36m<module>\u001b[0;34m()\u001b[0m\n\u001b[1;32m     25\u001b[0m                                   \u001b[0mprint_process\u001b[0m\u001b[0;34m=\u001b[0m\u001b[0;32mFalse\u001b[0m\u001b[0;34m,\u001b[0m\u001b[0;34m\u001b[0m\u001b[0;34m\u001b[0m\u001b[0m\n\u001b[1;32m     26\u001b[0m                                   hamiltonian=hamiltonian[i])\n\u001b[0;32m---> 27\u001b[0;31m         \u001b[0mtri_su\u001b[0m\u001b[0;34m.\u001b[0m\u001b[0mrun\u001b[0m\u001b[0;34m(\u001b[0m\u001b[0;34m)\u001b[0m\u001b[0;34m\u001b[0m\u001b[0;34m\u001b[0m\u001b[0m\n\u001b[0m\u001b[1;32m     28\u001b[0m         \u001b[0menergy\u001b[0m \u001b[0;34m=\u001b[0m \u001b[0mtri_su\u001b[0m\u001b[0;34m.\u001b[0m\u001b[0menergy_per_site\u001b[0m\u001b[0;34m(\u001b[0m\u001b[0;34m)\u001b[0m\u001b[0;34m\u001b[0m\u001b[0;34m\u001b[0m\u001b[0m\n\u001b[1;32m     29\u001b[0m         print('| D max: {:3d} | Theta: {:2.6f} | Energy: {:3.10f} |'\n",
            "\u001b[0;32m/content/Tensor-Networks-Simple-Update/src/SimpleUpdate.py\u001b[0m in \u001b[0;36mrun\u001b[0;34m(self)\u001b[0m\n\u001b[1;32m     57\u001b[0m \u001b[0;34m\u001b[0m\u001b[0m\n\u001b[1;32m     58\u001b[0m     \u001b[0;32mdef\u001b[0m \u001b[0mrun\u001b[0m\u001b[0;34m(\u001b[0m\u001b[0mself\u001b[0m\u001b[0;34m)\u001b[0m\u001b[0;34m:\u001b[0m\u001b[0;34m\u001b[0m\u001b[0;34m\u001b[0m\u001b[0m\n\u001b[0;32m---> 59\u001b[0;31m         \u001b[0mself\u001b[0m\u001b[0;34m.\u001b[0m\u001b[0msimple_update\u001b[0m\u001b[0;34m(\u001b[0m\u001b[0;34m)\u001b[0m\u001b[0;34m\u001b[0m\u001b[0;34m\u001b[0m\u001b[0m\n\u001b[0m\u001b[1;32m     60\u001b[0m         \u001b[0merror\u001b[0m \u001b[0;34m=\u001b[0m \u001b[0;32mNone\u001b[0m\u001b[0;34m\u001b[0m\u001b[0;34m\u001b[0m\u001b[0m\n\u001b[1;32m     61\u001b[0m         \u001b[0;32mfor\u001b[0m \u001b[0mdt\u001b[0m \u001b[0;32min\u001b[0m \u001b[0mself\u001b[0m\u001b[0;34m.\u001b[0m\u001b[0mdts\u001b[0m\u001b[0;34m:\u001b[0m\u001b[0;34m\u001b[0m\u001b[0;34m\u001b[0m\u001b[0m\n",
            "\u001b[0;32m/content/Tensor-Networks-Simple-Update/src/SimpleUpdate.py\u001b[0m in \u001b[0;36msimple_update\u001b[0;34m(self)\u001b[0m\n\u001b[1;32m    142\u001b[0m             \u001b[0mi_neighbors\u001b[0m \u001b[0;34m=\u001b[0m \u001b[0mlen\u001b[0m\u001b[0;34m(\u001b[0m\u001b[0mi_edges_dims\u001b[0m\u001b[0;34m[\u001b[0m\u001b[0;34m'edges'\u001b[0m\u001b[0;34m]\u001b[0m\u001b[0;34m)\u001b[0m \u001b[0;34m+\u001b[0m \u001b[0;36m1\u001b[0m\u001b[0;34m\u001b[0m\u001b[0;34m\u001b[0m\u001b[0m\n\u001b[1;32m    143\u001b[0m             \u001b[0mj_neighbors\u001b[0m \u001b[0;34m=\u001b[0m \u001b[0mlen\u001b[0m\u001b[0;34m(\u001b[0m\u001b[0mj_edges_dims\u001b[0m\u001b[0;34m[\u001b[0m\u001b[0;34m'edges'\u001b[0m\u001b[0;34m]\u001b[0m\u001b[0;34m)\u001b[0m \u001b[0;34m+\u001b[0m \u001b[0;36m1\u001b[0m\u001b[0;34m\u001b[0m\u001b[0;34m\u001b[0m\u001b[0m\n\u001b[0;32m--> 144\u001b[0;31m             \u001b[0mtheta\u001b[0m \u001b[0;34m=\u001b[0m \u001b[0mself\u001b[0m\u001b[0;34m.\u001b[0m\u001b[0mtime_evolution\u001b[0m\u001b[0;34m(\u001b[0m\u001b[0mri\u001b[0m\u001b[0;34m,\u001b[0m \u001b[0mrj\u001b[0m\u001b[0;34m,\u001b[0m \u001b[0mi_neighbors\u001b[0m\u001b[0;34m,\u001b[0m \u001b[0mj_neighbors\u001b[0m\u001b[0;34m,\u001b[0m \u001b[0mlambda_k\u001b[0m\u001b[0;34m,\u001b[0m \u001b[0mek\u001b[0m\u001b[0;34m)\u001b[0m\u001b[0;34m\u001b[0m\u001b[0;34m\u001b[0m\u001b[0m\n\u001b[0m\u001b[1;32m    145\u001b[0m             \u001b[0;31m# theta.shape = (qi, i'_spin_dim, j'_spin_dim, qj)\u001b[0m\u001b[0;34m\u001b[0m\u001b[0;34m\u001b[0m\u001b[0;34m\u001b[0m\u001b[0m\n\u001b[1;32m    146\u001b[0m \u001b[0;34m\u001b[0m\u001b[0m\n",
            "\u001b[0;32m/content/Tensor-Networks-Simple-Update/src/SimpleUpdate.py\u001b[0m in \u001b[0;36mtime_evolution\u001b[0;34m(self, ri, rj, i_neighbors, j_neighbors, lambda_k, ek)\u001b[0m\n\u001b[1;32m    302\u001b[0m         \u001b[0mtheta\u001b[0m \u001b[0;34m=\u001b[0m \u001b[0mnp\u001b[0m\u001b[0;34m.\u001b[0m\u001b[0meinsum\u001b[0m\u001b[0;34m(\u001b[0m\u001b[0mtheta\u001b[0m\u001b[0;34m,\u001b[0m \u001b[0;34m[\u001b[0m\u001b[0;36m0\u001b[0m\u001b[0;34m,\u001b[0m \u001b[0;36m1\u001b[0m\u001b[0;34m,\u001b[0m \u001b[0;36m2\u001b[0m\u001b[0;34m]\u001b[0m\u001b[0;34m,\u001b[0m \u001b[0mrj\u001b[0m\u001b[0;34m,\u001b[0m \u001b[0;34m[\u001b[0m\u001b[0;36m3\u001b[0m\u001b[0;34m,\u001b[0m \u001b[0;36m1\u001b[0m\u001b[0;34m,\u001b[0m \u001b[0;36m4\u001b[0m\u001b[0;34m]\u001b[0m\u001b[0;34m,\u001b[0m \u001b[0;34m[\u001b[0m\u001b[0;36m2\u001b[0m\u001b[0;34m,\u001b[0m \u001b[0;36m0\u001b[0m\u001b[0;34m,\u001b[0m \u001b[0;36m3\u001b[0m\u001b[0;34m,\u001b[0m \u001b[0;36m4\u001b[0m\u001b[0;34m]\u001b[0m\u001b[0;34m)\u001b[0m\u001b[0;34m\u001b[0m\u001b[0;34m\u001b[0m\u001b[0m\n\u001b[1;32m    303\u001b[0m         \u001b[0;31m# theta.shape = (qi, i_spin_dim, j_spin_dim, qj)\u001b[0m\u001b[0;34m\u001b[0m\u001b[0;34m\u001b[0m\u001b[0;34m\u001b[0m\u001b[0m\n\u001b[0;32m--> 304\u001b[0;31m         \u001b[0mtheta\u001b[0m \u001b[0;34m=\u001b[0m \u001b[0mnp\u001b[0m\u001b[0;34m.\u001b[0m\u001b[0meinsum\u001b[0m\u001b[0;34m(\u001b[0m\u001b[0mtheta\u001b[0m\u001b[0;34m,\u001b[0m \u001b[0;34m[\u001b[0m\u001b[0;36m0\u001b[0m\u001b[0;34m,\u001b[0m \u001b[0;36m1\u001b[0m\u001b[0;34m,\u001b[0m \u001b[0;36m2\u001b[0m\u001b[0;34m,\u001b[0m \u001b[0;36m3\u001b[0m\u001b[0;34m]\u001b[0m\u001b[0;34m,\u001b[0m \u001b[0munitary_gate\u001b[0m\u001b[0;34m,\u001b[0m \u001b[0;34m[\u001b[0m\u001b[0;36m1\u001b[0m\u001b[0;34m,\u001b[0m \u001b[0;36m2\u001b[0m\u001b[0;34m,\u001b[0m \u001b[0;36m4\u001b[0m\u001b[0;34m,\u001b[0m \u001b[0;36m5\u001b[0m\u001b[0;34m]\u001b[0m\u001b[0;34m,\u001b[0m \u001b[0;34m[\u001b[0m\u001b[0;36m0\u001b[0m\u001b[0;34m,\u001b[0m \u001b[0;36m4\u001b[0m\u001b[0;34m,\u001b[0m \u001b[0;36m5\u001b[0m\u001b[0;34m,\u001b[0m \u001b[0;36m3\u001b[0m\u001b[0;34m]\u001b[0m\u001b[0;34m)\u001b[0m\u001b[0;34m\u001b[0m\u001b[0;34m\u001b[0m\u001b[0m\n\u001b[0m\u001b[1;32m    305\u001b[0m         \u001b[0;31m# theta.shape = (qi, i'_spin_dim, j'_spin_dim, qj)\u001b[0m\u001b[0;34m\u001b[0m\u001b[0;34m\u001b[0m\u001b[0;34m\u001b[0m\u001b[0m\n\u001b[1;32m    306\u001b[0m         \u001b[0;32mreturn\u001b[0m \u001b[0mtheta\u001b[0m\u001b[0;34m\u001b[0m\u001b[0;34m\u001b[0m\u001b[0m\n",
            "\u001b[0;32m<__array_function__ internals>\u001b[0m in \u001b[0;36meinsum\u001b[0;34m(*args, **kwargs)\u001b[0m\n",
            "\u001b[0;32m/usr/local/lib/python3.7/dist-packages/numpy/core/einsumfunc.py\u001b[0m in \u001b[0;36meinsum\u001b[0;34m(out, optimize, *operands, **kwargs)\u001b[0m\n\u001b[1;32m   1348\u001b[0m         \u001b[0;32mif\u001b[0m \u001b[0mspecified_out\u001b[0m\u001b[0;34m:\u001b[0m\u001b[0;34m\u001b[0m\u001b[0;34m\u001b[0m\u001b[0m\n\u001b[1;32m   1349\u001b[0m             \u001b[0mkwargs\u001b[0m\u001b[0;34m[\u001b[0m\u001b[0;34m'out'\u001b[0m\u001b[0;34m]\u001b[0m \u001b[0;34m=\u001b[0m \u001b[0mout\u001b[0m\u001b[0;34m\u001b[0m\u001b[0;34m\u001b[0m\u001b[0m\n\u001b[0;32m-> 1350\u001b[0;31m         \u001b[0;32mreturn\u001b[0m \u001b[0mc_einsum\u001b[0m\u001b[0;34m(\u001b[0m\u001b[0;34m*\u001b[0m\u001b[0moperands\u001b[0m\u001b[0;34m,\u001b[0m \u001b[0;34m**\u001b[0m\u001b[0mkwargs\u001b[0m\u001b[0;34m)\u001b[0m\u001b[0;34m\u001b[0m\u001b[0;34m\u001b[0m\u001b[0m\n\u001b[0m\u001b[1;32m   1351\u001b[0m \u001b[0;34m\u001b[0m\u001b[0m\n\u001b[1;32m   1352\u001b[0m     \u001b[0;31m# Check the kwargs to avoid a more cryptic error later, without having to\u001b[0m\u001b[0;34m\u001b[0m\u001b[0;34m\u001b[0m\u001b[0;34m\u001b[0m\u001b[0m\n",
            "\u001b[0;31mValueError\u001b[0m: operands could not be broadcast together with remapped shapes [original->remapped]: (32,2,2,32)->(32,newaxis,newaxis,32,2,2) (3,3,3,3)->(3,3,newaxis,3,3) "
          ]
        }
      ]
    },
    {
      "cell_type": "code",
      "metadata": {
        "id": "FwMfhf8Mq8Lq"
      },
      "source": [
        ""
      ],
      "execution_count": null,
      "outputs": []
    },
    {
      "cell_type": "code",
      "metadata": {
        "id": "lrNV0vCOq8Og"
      },
      "source": [
        ""
      ],
      "execution_count": null,
      "outputs": []
    },
    {
      "cell_type": "code",
      "metadata": {
        "id": "5eA05ScbnXWq"
      },
      "source": [
        "fig, ax = plt.subplots(1, 2, figsize=(17, 6))\n",
        "ax[0].plot(-h_k, ising_energy, '--o', label=r'$\\epsilon_0$', color='tab:red', \n",
        "           markerfacecolor='none', linewidth=1, markersize=10)\n",
        "ax[0].set_xlabel(r'h')\n",
        "ax[0].set_ylabel(r'$\\epsilon_0$')\n",
        "ax[0].set_title('$2D$ Ising model ground-state energy per-site')\n",
        "ax[0].tick_params(direction='in', axis='both')\n",
        "ax[0].grid()\n",
        "ax[0].legend()\n",
        "\n",
        "ax[1].plot(-h_k, np.abs(np.array(ising_z_magnetizaton)), '--o', label=r'$M_z$', \n",
        "           color='tab:blue', markerfacecolor='none', linewidth=1, markersize=10)\n",
        "ax[1].plot(-h_k, ising_x_magnetizaton, '--o', label=r'$M_x$', color='tab:green', \n",
        "           markerfacecolor='none', linewidth=1, markersize=10)\n",
        "ax[1].set_xlabel(r'h')\n",
        "ax[1].set_ylabel(r'$M$')\n",
        "ax[1].set_title(r'$2D$ Ising model $\\hat{z}, \\hat{x}$ magnetizations per-site')\n",
        "ax[1].tick_params(direction='in', axis='both')\n",
        "ax[1].grid()\n",
        "ax[1].legend()"
      ],
      "execution_count": null,
      "outputs": []
    }
  ]
}