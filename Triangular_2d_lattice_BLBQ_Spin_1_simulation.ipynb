{
  "nbformat": 4,
  "nbformat_minor": 0,
  "metadata": {
    "colab": {
      "name": "Triangular_2d_lattice_BLBQ_Spin_1_simulation.ipynb",
      "provenance": [],
      "collapsed_sections": [],
      "authorship_tag": "ABX9TyP2VDr12ce1B8SR5hg0+U08",
      "include_colab_link": true
    },
    "kernelspec": {
      "name": "python3",
      "display_name": "Python 3"
    },
    "language_info": {
      "name": "python"
    },
    "widgets": {
      "application/vnd.jupyter.widget-state+json": {
        "322308915d8744fda16fc97077bf964a": {
          "model_module": "@jupyter-widgets/controls",
          "model_name": "HBoxModel",
          "state": {
            "_view_name": "HBoxView",
            "_dom_classes": [],
            "_model_name": "HBoxModel",
            "_view_module": "@jupyter-widgets/controls",
            "_model_module_version": "1.5.0",
            "_view_count": null,
            "_view_module_version": "1.5.0",
            "box_style": "",
            "layout": "IPY_MODEL_8f231797bfde410b8bd8767675d6df2c",
            "_model_module": "@jupyter-widgets/controls",
            "children": [
              "IPY_MODEL_b671cda086644ca897f5f7f4685c7234",
              "IPY_MODEL_9745649bc6d849b491de0e54b67bdc97"
            ]
          }
        },
        "8f231797bfde410b8bd8767675d6df2c": {
          "model_module": "@jupyter-widgets/base",
          "model_name": "LayoutModel",
          "state": {
            "_view_name": "LayoutView",
            "grid_template_rows": null,
            "right": null,
            "justify_content": null,
            "_view_module": "@jupyter-widgets/base",
            "overflow": null,
            "_model_module_version": "1.2.0",
            "_view_count": null,
            "flex_flow": null,
            "width": null,
            "min_width": null,
            "border": null,
            "align_items": null,
            "bottom": null,
            "_model_module": "@jupyter-widgets/base",
            "top": null,
            "grid_column": null,
            "overflow_y": null,
            "overflow_x": null,
            "grid_auto_flow": null,
            "grid_area": null,
            "grid_template_columns": null,
            "flex": null,
            "_model_name": "LayoutModel",
            "justify_items": null,
            "grid_row": null,
            "max_height": null,
            "align_content": null,
            "visibility": null,
            "align_self": null,
            "height": null,
            "min_height": null,
            "padding": null,
            "grid_auto_rows": null,
            "grid_gap": null,
            "max_width": null,
            "order": null,
            "_view_module_version": "1.2.0",
            "grid_template_areas": null,
            "object_position": null,
            "object_fit": null,
            "grid_auto_columns": null,
            "margin": null,
            "display": null,
            "left": null
          }
        },
        "b671cda086644ca897f5f7f4685c7234": {
          "model_module": "@jupyter-widgets/controls",
          "model_name": "FloatProgressModel",
          "state": {
            "_view_name": "ProgressView",
            "style": "IPY_MODEL_82eca005e1954cadb940bca6145efc69",
            "_dom_classes": [],
            "description": "  3%",
            "_model_name": "FloatProgressModel",
            "bar_style": "danger",
            "max": 100,
            "_view_module": "@jupyter-widgets/controls",
            "_model_module_version": "1.5.0",
            "value": 3,
            "_view_count": null,
            "_view_module_version": "1.5.0",
            "orientation": "horizontal",
            "min": 0,
            "description_tooltip": null,
            "_model_module": "@jupyter-widgets/controls",
            "layout": "IPY_MODEL_9c265dee8bf44b778d597b192d692392"
          }
        },
        "9745649bc6d849b491de0e54b67bdc97": {
          "model_module": "@jupyter-widgets/controls",
          "model_name": "HTMLModel",
          "state": {
            "_view_name": "HTMLView",
            "style": "IPY_MODEL_5ec8a93c13414adea6ff9c22a2aa7554",
            "_dom_classes": [],
            "description": "",
            "_model_name": "HTMLModel",
            "placeholder": "​",
            "_view_module": "@jupyter-widgets/controls",
            "_model_module_version": "1.5.0",
            "value": " 3/100 [00:05&lt;02:38,  1.63s/it]",
            "_view_count": null,
            "_view_module_version": "1.5.0",
            "description_tooltip": null,
            "_model_module": "@jupyter-widgets/controls",
            "layout": "IPY_MODEL_2f1a319cc5d3416f8c9fd3385ebfba10"
          }
        },
        "82eca005e1954cadb940bca6145efc69": {
          "model_module": "@jupyter-widgets/controls",
          "model_name": "ProgressStyleModel",
          "state": {
            "_view_name": "StyleView",
            "_model_name": "ProgressStyleModel",
            "description_width": "initial",
            "_view_module": "@jupyter-widgets/base",
            "_model_module_version": "1.5.0",
            "_view_count": null,
            "_view_module_version": "1.2.0",
            "bar_color": null,
            "_model_module": "@jupyter-widgets/controls"
          }
        },
        "9c265dee8bf44b778d597b192d692392": {
          "model_module": "@jupyter-widgets/base",
          "model_name": "LayoutModel",
          "state": {
            "_view_name": "LayoutView",
            "grid_template_rows": null,
            "right": null,
            "justify_content": null,
            "_view_module": "@jupyter-widgets/base",
            "overflow": null,
            "_model_module_version": "1.2.0",
            "_view_count": null,
            "flex_flow": null,
            "width": null,
            "min_width": null,
            "border": null,
            "align_items": null,
            "bottom": null,
            "_model_module": "@jupyter-widgets/base",
            "top": null,
            "grid_column": null,
            "overflow_y": null,
            "overflow_x": null,
            "grid_auto_flow": null,
            "grid_area": null,
            "grid_template_columns": null,
            "flex": null,
            "_model_name": "LayoutModel",
            "justify_items": null,
            "grid_row": null,
            "max_height": null,
            "align_content": null,
            "visibility": null,
            "align_self": null,
            "height": null,
            "min_height": null,
            "padding": null,
            "grid_auto_rows": null,
            "grid_gap": null,
            "max_width": null,
            "order": null,
            "_view_module_version": "1.2.0",
            "grid_template_areas": null,
            "object_position": null,
            "object_fit": null,
            "grid_auto_columns": null,
            "margin": null,
            "display": null,
            "left": null
          }
        },
        "5ec8a93c13414adea6ff9c22a2aa7554": {
          "model_module": "@jupyter-widgets/controls",
          "model_name": "DescriptionStyleModel",
          "state": {
            "_view_name": "StyleView",
            "_model_name": "DescriptionStyleModel",
            "description_width": "",
            "_view_module": "@jupyter-widgets/base",
            "_model_module_version": "1.5.0",
            "_view_count": null,
            "_view_module_version": "1.2.0",
            "_model_module": "@jupyter-widgets/controls"
          }
        },
        "2f1a319cc5d3416f8c9fd3385ebfba10": {
          "model_module": "@jupyter-widgets/base",
          "model_name": "LayoutModel",
          "state": {
            "_view_name": "LayoutView",
            "grid_template_rows": null,
            "right": null,
            "justify_content": null,
            "_view_module": "@jupyter-widgets/base",
            "overflow": null,
            "_model_module_version": "1.2.0",
            "_view_count": null,
            "flex_flow": null,
            "width": null,
            "min_width": null,
            "border": null,
            "align_items": null,
            "bottom": null,
            "_model_module": "@jupyter-widgets/base",
            "top": null,
            "grid_column": null,
            "overflow_y": null,
            "overflow_x": null,
            "grid_auto_flow": null,
            "grid_area": null,
            "grid_template_columns": null,
            "flex": null,
            "_model_name": "LayoutModel",
            "justify_items": null,
            "grid_row": null,
            "max_height": null,
            "align_content": null,
            "visibility": null,
            "align_self": null,
            "height": null,
            "min_height": null,
            "padding": null,
            "grid_auto_rows": null,
            "grid_gap": null,
            "max_width": null,
            "order": null,
            "_view_module_version": "1.2.0",
            "grid_template_areas": null,
            "object_position": null,
            "object_fit": null,
            "grid_auto_columns": null,
            "margin": null,
            "display": null,
            "left": null
          }
        }
      }
    }
  },
  "cells": [
    {
      "cell_type": "markdown",
      "metadata": {
        "id": "view-in-github",
        "colab_type": "text"
      },
      "source": [
        "<a href=\"https://colab.research.google.com/github/RoyElkabetz/Tensor-Networks-Simple-Update/blob/main/Triangular_2d_lattice_BLBQ_Spin_1_simulation.ipynb\" target=\"_parent\"><img src=\"https://colab.research.google.com/assets/colab-badge.svg\" alt=\"Open In Colab\"/></a>"
      ]
    },
    {
      "cell_type": "code",
      "metadata": {
        "colab": {
          "base_uri": "https://localhost:8080/"
        },
        "id": "jYfpkKJ2nVKl",
        "outputId": "01a01b82-c2cf-4600-cf22-149986b23e81"
      },
      "source": [
        "## uncomment only if running from google.colab\n",
        "# clone the git reposetory\n",
        "!git clone https://github.com/RoyElkabetz/Tensor-Networks-Simple-Update\n",
        "# add path to .py files for import\n",
        "import sys\n",
        "sys.path.insert(1, \"/content/Tensor-Networks-Simple-Update/src\")"
      ],
      "execution_count": 1,
      "outputs": [
        {
          "output_type": "stream",
          "text": [
            "Cloning into 'Tensor-Networks-Simple-Update'...\n",
            "remote: Enumerating objects: 505, done.\u001b[K\n",
            "remote: Counting objects: 100% (22/22), done.\u001b[K\n",
            "remote: Compressing objects: 100% (17/17), done.\u001b[K\n",
            "remote: Total 505 (delta 12), reused 7 (delta 5), pack-reused 483\u001b[K\n",
            "Receiving objects: 100% (505/505), 1.55 MiB | 4.86 MiB/s, done.\n",
            "Resolving deltas: 100% (293/293), done.\n"
          ],
          "name": "stdout"
        }
      ]
    },
    {
      "cell_type": "code",
      "metadata": {
        "id": "JdFIyFknnXRB"
      },
      "source": [
        "import numpy as np\n",
        "import matplotlib.pyplot as plt\n",
        "from TensorNetwork import TensorNetwork\n",
        "import SimpleUpdate as su\n",
        "import structure_matrix_generator as stmg\n",
        "from tqdm.auto import tqdm\n",
        "\n",
        "\n",
        "np.random.seed(216)\n",
        "\n",
        "plt.rcParams.update({'font.size': 16, \n",
        "                     \"figure.facecolor\": 'white', \n",
        "                     \"axes.facecolor\": 'white', \n",
        "                     \"savefig.facecolor\": 'white', \n",
        "                     'savefig.edgecolor' : 'white', \n",
        "                     'figure.edgecolor' : 'white'})"
      ],
      "execution_count": 2,
      "outputs": []
    },
    {
      "cell_type": "markdown",
      "metadata": {
        "id": "lUusQq0PuwRz"
      },
      "source": [
        "# Spin-1 Simulation of a Bilinear-Biquadratic Heisenberg model on a triangular $2D$ lattice "
      ]
    },
    {
      "cell_type": "code",
      "metadata": {
        "colab": {
          "base_uri": "https://localhost:8080/"
        },
        "id": "1iVOte5inXUJ",
        "outputId": "0410f025-12f0-48c2-dc94-7c49b42d940f"
      },
      "source": [
        "# The Tensor Network structure matrix\n",
        "triangle_structure_matrix = stmg.infinite_structure_matrix_by_name('star')\n",
        "print('The triangular 2D lattice structure matrix:')\n",
        "print(triangle_structure_matrix)"
      ],
      "execution_count": 11,
      "outputs": [
        {
          "output_type": "stream",
          "text": [
            "The triangular 2D lattice structure matrix:\n",
            "[[1 2 3 0 0 0 0 0 0]\n",
            " [1 0 0 2 3 0 0 0 0]\n",
            " [0 1 0 2 0 3 0 0 0]\n",
            " [0 0 0 0 0 1 2 3 0]\n",
            " [0 0 0 0 1 0 2 0 3]\n",
            " [0 0 1 0 0 0 0 2 3]]\n"
          ],
          "name": "stdout"
        }
      ]
    },
    {
      "cell_type": "code",
      "metadata": {
        "id": "v8XEzbv1rVwB"
      },
      "source": [
        "tri_tn = TensorNetwork(structure_matrix=triangle_structure_matrix, \n",
        "                       virtual_size=2, spin_dim=3)"
      ],
      "execution_count": 12,
      "outputs": []
    },
    {
      "cell_type": "code",
      "metadata": {
        "id": "1XFKv9MxtDPa"
      },
      "source": [
        "# spin-1 operators\n",
        "sx = np.array([[0., 1., 0.],\n",
        "               [1., 0., 1.],\n",
        "               [0., 1., 0.]]) / np.sqrt(2)\n",
        "sy = np.array([[0., -1j, 0.],\n",
        "               [1j, 0., -1j],\n",
        "               [0., 1j, 0.]]) / np.sqrt(2)\n",
        "sz = np.array([[1., 0., 0.],\n",
        "               [0., 0., 0.],\n",
        "               [0., 0., -1.]])\n",
        "\n",
        "s_linear_term = [sx, sy, sz]\n",
        "s_quad_term = [np.matmul(sx, sx), np.matmul(sy, sy), np.matmul(sz, sz),  \n",
        "               np.matmul(sx, sy), np.matmul(sy, sx), np.matmul(sx, sz), \n",
        "               np.matmul(sz, sx), np.matmul(sz, sy), np.matmul(sy, sz)]\n",
        "\n",
        "q0 = np.matmul(sx, sx) - np.matmul(sy, sy)\n",
        "q1 = (2 * np.matmul(sz, sz) - np.matmul(sx, sx) - np.matmul(sy, sy)) / np.sqrt(3)\n",
        "q2 = np.matmul(sx, sy) + np.matmul(sy, sx)\n",
        "q3 = np.matmul(sy, sz) + np.matmul(sz, sy)\n",
        "q4 = np.matmul(sz, sy) + np.matmul(sy, sz)\n",
        "q_operator = [q0, q1, q2, q3, q4]\n",
        "\n",
        "# get the spin-spin interaction terms\n",
        "interaction_linear_term = np.zeros((np.power(sx.shape[0], 2), np.power(sx.shape[0], 2)), dtype=np.complex)\n",
        "interaction_quad_term = np.zeros((np.power(sx.shape[0], 2), np.power(sx.shape[0], 2)), dtype=np.complex)\n",
        "for s in s_linear_term:\n",
        "    interaction_linear_term += np.kron(s, s)\n",
        "for s in s_quad_term:\n",
        "    interaction_quad_term += np.kron(s, s)    "
      ],
      "execution_count": 13,
      "outputs": []
    },
    {
      "cell_type": "markdown",
      "metadata": {
        "id": "3sEwB7JMtNQX"
      },
      "source": [
        "The BLBQ Hamiltonian is given by\n",
        "\n",
        "\\begin{align}\n",
        "    H = \\cos{\\left(\\theta\\right)}\\sum_{<i, j>} \\mathbf{S}_i\\cdot \\mathbf{S}_j + \\sin{\\left(\\theta\\right)}\\sum_{<i, j>} \\left(\\mathbf{S}_i\\cdot \\mathbf{S}_j\\right)^2\n",
        "\\end{align}"
      ]
    },
    {
      "cell_type": "code",
      "metadata": {
        "colab": {
          "base_uri": "https://localhost:8080/",
          "height": 1000,
          "referenced_widgets": [
            "322308915d8744fda16fc97077bf964a",
            "8f231797bfde410b8bd8767675d6df2c",
            "b671cda086644ca897f5f7f4685c7234",
            "9745649bc6d849b491de0e54b67bdc97",
            "82eca005e1954cadb940bca6145efc69",
            "9c265dee8bf44b778d597b192d692392",
            "5ec8a93c13414adea6ff9c22a2aa7554",
            "2f1a319cc5d3416f8c9fd3385ebfba10"
          ]
        },
        "id": "m3lqKGZdq8I8",
        "outputId": "89914ff6-8932-4526-f865-e4978792b605"
      },
      "source": [
        "# Simple-Update parameters\n",
        "d_max_tri = [1, 2, 3, 4, 5]\n",
        "error = 1e-6\n",
        "max_iterations = 200\n",
        "tri_energy = {}\n",
        "\n",
        "tri_magnetization = {}\n",
        "tri_quad = {}\n",
        "\n",
        "j_ij = [-1.] * len(tri_tn.weights)\n",
        "dts = [0.1, 0.01, 0.001, 0.0001, 0.00001]\n",
        "\n",
        "# set angle values in [0, 2pi]\n",
        "theta = np.linspace(0, 2 * np.pi, 100)\n",
        "partial_d_max = []\n",
        "\n",
        "# Run\n",
        "fig, ax = plt.subplots(3, 1, figsize=(17, 12))\n",
        "for d_max in d_max_tri:\n",
        "    partial_d_max.append(d_max)\n",
        "    tri_energy[d_max] = []\n",
        "    tri_magnetization[d_max] = []\n",
        "    tri_quad[d_max] = []\n",
        "    for i, angle in enumerate(tqdm(theta)):\n",
        "        hamiltonian = np.cos(angle) * interaction_linear_term + np.sin(angle) * interaction_quad_term\n",
        "        #tri_tn = TensorNetwork(structure_matrix=triangle_structure_matrix, \n",
        "        #                       virtual_size=2, spin_dim=3)\n",
        "        tri_su = su.SimpleUpdate(tensor_network=tri_tn, \n",
        "                                  dts=dts, \n",
        "                                  j_ij=[], \n",
        "                                  h_k=0, \n",
        "                                  s_i=s_linear_term, \n",
        "                                  s_j=s_linear_term, \n",
        "                                  s_k=[], \n",
        "                                  d_max=d_max, \n",
        "                                  max_iterations=max_iterations, \n",
        "                                  convergence_error=error, \n",
        "                                  log_energy=False,\n",
        "                                  print_process=False,\n",
        "                                  hamiltonian=hamiltonian)\n",
        "        tri_su.run()\n",
        "        energy = tri_su.energy_per_site()\n",
        "        magnetization = 0\n",
        "        quad = 0\n",
        "        for ten, _ in enumerate(tri_tn.tensors):\n",
        "            magn_x = np.power(np.real(tri_su.tensor_expectation(ten, sx)), 2)\n",
        "            magn_y = np.power(np.real(tri_su.tensor_expectation(ten, sy)), 2)\n",
        "            magn_z = np.power(np.real(tri_su.tensor_expectation(ten, sz)), 2)\n",
        "            magnetization += np.sqrt(magn_x + magn_y + magn_z)\n",
        "\n",
        "            local_q = []\n",
        "            for q in q_operator:\n",
        "                local_q.append(np.power(np.real(tri_su.tensor_expectation(ten, q)), 2))\n",
        "            quad += np.sqrt(np.sum(np.array(local_q)))\n",
        "\n",
        "        \n",
        "        magnetization /= len(tri_tn.tensors)\n",
        "        quad /= len(tri_tn.tensors)\n",
        "        print('| D max: {:3d} | Theta: {:2.6f} | Energy: {:3.10f} | Magnetization: {:3.10f} | quad: {:3.10f} |'\n",
        "        .format(d_max, angle, energy, magnetization, quad))\n",
        "        tri_energy[d_max].append(energy)\n",
        "        tri_magnetization[d_max].append(magnetization)\n",
        "        tri_quad[d_max].append(quad)\n",
        "\n",
        "    for pd_max in partial_d_max:\n",
        "        ax[0].plot(theta / np.pi, tri_energy[pd_max], '--o', label=f'D = {pd_max}', \n",
        "                  markerfacecolor='none', linewidth=1, markersize=10)\n",
        "        ax[0].set_xlabel('')\n",
        "        ax[0].set_xticklabels([])\n",
        "        ax[0].set_ylabel(r'$\\epsilon_0$')\n",
        "        ax[0].set_title('BLBQ model ground-state energy and magnetization per-site')\n",
        "        ax[0].tick_params(direction='in', axis='both')\n",
        "        ax[0].grid()\n",
        "        ax[0].legend(loc='upper right')\n",
        "        ax[0].grid(which='major', axis='x', linestyle='--')\n",
        "\n",
        "\n",
        "        ax[1].plot(theta / np.pi, tri_magnetization[pd_max], '--o', label=f'D = {pd_max}', \n",
        "                  markerfacecolor='none', linewidth=1, markersize=10)\n",
        "        ax[1].set_ylabel(r'$\\sqrt{\\mathbf{S}\\cdot\\mathbf{S}}$')\n",
        "        ax[1].set_xlabel('')\n",
        "        ax[1].set_xticklabels([])\n",
        "        ax[1].tick_params(direction='in', axis='both')\n",
        "        ax[1].grid()\n",
        "        ax[1].legend(loc='upper right')\n",
        "        ax[1].grid(which='major', axis='x', linestyle='--')\n",
        "\n",
        "\n",
        "        ax[2].plot(theta / np.pi, tri_quad[pd_max], '--o', label=f'D = {pd_max}', \n",
        "                  markerfacecolor='none', linewidth=1, markersize=10)\n",
        "        ax[2].set_xlabel(r'$\\theta / \\pi$')\n",
        "        ax[2].set_ylabel(r'$\\sqrt{\\mathbf{Q}\\cdot\\mathbf{Q}}$')\n",
        "        ax[2].tick_params(direction='in', axis='both')\n",
        "        ax[2].grid()\n",
        "        ax[2].legend(loc='upper right')\n",
        "        ax[2].grid(which='major', axis='x', linestyle='--')\n",
        "    plt.show()\n",
        "    "
      ],
      "execution_count": 14,
      "outputs": [
        {
          "output_type": "display_data",
          "data": {
            "application/vnd.jupyter.widget-view+json": {
              "model_id": "322308915d8744fda16fc97077bf964a",
              "version_minor": 0,
              "version_major": 2
            },
            "text/plain": [
              "HBox(children=(FloatProgress(value=0.0), HTML(value='')))"
            ]
          },
          "metadata": {
            "tags": []
          }
        },
        {
          "output_type": "stream",
          "text": [
            "| D max:   1 | Theta: 0.000000 | Energy: -0.9991778584 | Magnetization: 0.9999912504 | quad: 0.4558891132 |\n",
            "| D max:   1 | Theta: 0.063467 | Energy: -0.8354707711 | Magnetization: 0.9998749297 | quad: 0.4417136844 |\n",
            "| D max:   1 | Theta: 0.126933 | Energy: -0.6680006685 | Magnetization: 0.9996181286 | quad: 0.4378286427 |\n"
          ],
          "name": "stdout"
        },
        {
          "output_type": "error",
          "ename": "KeyboardInterrupt",
          "evalue": "ignored",
          "traceback": [
            "\u001b[0;31m---------------------------------------------------------------------------\u001b[0m",
            "\u001b[0;31mKeyboardInterrupt\u001b[0m                         Traceback (most recent call last)",
            "\u001b[0;32m<ipython-input-14-88400377144e>\u001b[0m in \u001b[0;36m<module>\u001b[0;34m()\u001b[0m\n\u001b[1;32m     39\u001b[0m                                   \u001b[0mprint_process\u001b[0m\u001b[0;34m=\u001b[0m\u001b[0;32mFalse\u001b[0m\u001b[0;34m,\u001b[0m\u001b[0;34m\u001b[0m\u001b[0;34m\u001b[0m\u001b[0m\n\u001b[1;32m     40\u001b[0m                                   hamiltonian=hamiltonian)\n\u001b[0;32m---> 41\u001b[0;31m         \u001b[0mtri_su\u001b[0m\u001b[0;34m.\u001b[0m\u001b[0mrun\u001b[0m\u001b[0;34m(\u001b[0m\u001b[0;34m)\u001b[0m\u001b[0;34m\u001b[0m\u001b[0;34m\u001b[0m\u001b[0m\n\u001b[0m\u001b[1;32m     42\u001b[0m         \u001b[0menergy\u001b[0m \u001b[0;34m=\u001b[0m \u001b[0mtri_su\u001b[0m\u001b[0;34m.\u001b[0m\u001b[0menergy_per_site\u001b[0m\u001b[0;34m(\u001b[0m\u001b[0;34m)\u001b[0m\u001b[0;34m\u001b[0m\u001b[0;34m\u001b[0m\u001b[0m\n\u001b[1;32m     43\u001b[0m         \u001b[0mmagnetization\u001b[0m \u001b[0;34m=\u001b[0m \u001b[0;36m0\u001b[0m\u001b[0;34m\u001b[0m\u001b[0;34m\u001b[0m\u001b[0m\n",
            "\u001b[0;32m/content/Tensor-Networks-Simple-Update/src/SimpleUpdate.py\u001b[0m in \u001b[0;36mrun\u001b[0;34m(self)\u001b[0m\n\u001b[1;32m     64\u001b[0m             \u001b[0;32mfor\u001b[0m \u001b[0mi\u001b[0m \u001b[0;32min\u001b[0m \u001b[0mrange\u001b[0m\u001b[0;34m(\u001b[0m\u001b[0mself\u001b[0m\u001b[0;34m.\u001b[0m\u001b[0mmax_iterations\u001b[0m\u001b[0;34m)\u001b[0m\u001b[0;34m:\u001b[0m\u001b[0;34m\u001b[0m\u001b[0;34m\u001b[0m\u001b[0m\n\u001b[1;32m     65\u001b[0m                 \u001b[0mself\u001b[0m\u001b[0;34m.\u001b[0m\u001b[0mold_weights\u001b[0m \u001b[0;34m=\u001b[0m \u001b[0mcp\u001b[0m\u001b[0;34m.\u001b[0m\u001b[0mdeepcopy\u001b[0m\u001b[0;34m(\u001b[0m\u001b[0mself\u001b[0m\u001b[0;34m.\u001b[0m\u001b[0mweights\u001b[0m\u001b[0;34m)\u001b[0m\u001b[0;34m\u001b[0m\u001b[0;34m\u001b[0m\u001b[0m\n\u001b[0;32m---> 66\u001b[0;31m                 \u001b[0mself\u001b[0m\u001b[0;34m.\u001b[0m\u001b[0msimple_update\u001b[0m\u001b[0;34m(\u001b[0m\u001b[0;34m)\u001b[0m\u001b[0;34m\u001b[0m\u001b[0;34m\u001b[0m\u001b[0m\n\u001b[0m\u001b[1;32m     67\u001b[0m                 \u001b[0;32mif\u001b[0m \u001b[0mi\u001b[0m \u001b[0;34m%\u001b[0m \u001b[0;36m20\u001b[0m \u001b[0;34m==\u001b[0m \u001b[0;36m0\u001b[0m \u001b[0;32mand\u001b[0m \u001b[0mi\u001b[0m \u001b[0;34m>\u001b[0m \u001b[0;36m0\u001b[0m\u001b[0;34m:\u001b[0m\u001b[0;34m\u001b[0m\u001b[0;34m\u001b[0m\u001b[0m\n\u001b[1;32m     68\u001b[0m                     \u001b[0merror\u001b[0m \u001b[0;34m=\u001b[0m \u001b[0mself\u001b[0m\u001b[0;34m.\u001b[0m\u001b[0mcheck_convergence\u001b[0m\u001b[0;34m(\u001b[0m\u001b[0;34m)\u001b[0m\u001b[0;34m\u001b[0m\u001b[0;34m\u001b[0m\u001b[0m\n",
            "\u001b[0;32m/content/Tensor-Networks-Simple-Update/src/SimpleUpdate.py\u001b[0m in \u001b[0;36msimple_update\u001b[0;34m(self)\u001b[0m\n\u001b[1;32m    142\u001b[0m             \u001b[0mi_neighbors\u001b[0m \u001b[0;34m=\u001b[0m \u001b[0mlen\u001b[0m\u001b[0;34m(\u001b[0m\u001b[0mi_edges_dims\u001b[0m\u001b[0;34m[\u001b[0m\u001b[0;34m'edges'\u001b[0m\u001b[0;34m]\u001b[0m\u001b[0;34m)\u001b[0m \u001b[0;34m+\u001b[0m \u001b[0;36m1\u001b[0m\u001b[0;34m\u001b[0m\u001b[0;34m\u001b[0m\u001b[0m\n\u001b[1;32m    143\u001b[0m             \u001b[0mj_neighbors\u001b[0m \u001b[0;34m=\u001b[0m \u001b[0mlen\u001b[0m\u001b[0;34m(\u001b[0m\u001b[0mj_edges_dims\u001b[0m\u001b[0;34m[\u001b[0m\u001b[0;34m'edges'\u001b[0m\u001b[0;34m]\u001b[0m\u001b[0;34m)\u001b[0m \u001b[0;34m+\u001b[0m \u001b[0;36m1\u001b[0m\u001b[0;34m\u001b[0m\u001b[0;34m\u001b[0m\u001b[0m\n\u001b[0;32m--> 144\u001b[0;31m             \u001b[0mtheta\u001b[0m \u001b[0;34m=\u001b[0m \u001b[0mself\u001b[0m\u001b[0;34m.\u001b[0m\u001b[0mtime_evolution\u001b[0m\u001b[0;34m(\u001b[0m\u001b[0mri\u001b[0m\u001b[0;34m,\u001b[0m \u001b[0mrj\u001b[0m\u001b[0;34m,\u001b[0m \u001b[0mi_neighbors\u001b[0m\u001b[0;34m,\u001b[0m \u001b[0mj_neighbors\u001b[0m\u001b[0;34m,\u001b[0m \u001b[0mlambda_k\u001b[0m\u001b[0;34m,\u001b[0m \u001b[0mek\u001b[0m\u001b[0;34m)\u001b[0m\u001b[0;34m\u001b[0m\u001b[0;34m\u001b[0m\u001b[0m\n\u001b[0m\u001b[1;32m    145\u001b[0m             \u001b[0;31m# theta.shape = (qi, i'_spin_dim, j'_spin_dim, qj)\u001b[0m\u001b[0;34m\u001b[0m\u001b[0;34m\u001b[0m\u001b[0;34m\u001b[0m\u001b[0m\n\u001b[1;32m    146\u001b[0m \u001b[0;34m\u001b[0m\u001b[0m\n",
            "\u001b[0;32m/content/Tensor-Networks-Simple-Update/src/SimpleUpdate.py\u001b[0m in \u001b[0;36mtime_evolution\u001b[0;34m(self, ri, rj, i_neighbors, j_neighbors, lambda_k, ek)\u001b[0m\n\u001b[1;32m    295\u001b[0m         \u001b[0mj_spin_dim\u001b[0m \u001b[0;34m=\u001b[0m \u001b[0mself\u001b[0m\u001b[0;34m.\u001b[0m\u001b[0ms_j\u001b[0m\u001b[0;34m[\u001b[0m\u001b[0;36m0\u001b[0m\u001b[0;34m]\u001b[0m\u001b[0;34m.\u001b[0m\u001b[0mshape\u001b[0m\u001b[0;34m[\u001b[0m\u001b[0;36m0\u001b[0m\u001b[0;34m]\u001b[0m\u001b[0;34m\u001b[0m\u001b[0;34m\u001b[0m\u001b[0m\n\u001b[1;32m    296\u001b[0m         \u001b[0mhamiltonian\u001b[0m \u001b[0;34m=\u001b[0m \u001b[0mself\u001b[0m\u001b[0;34m.\u001b[0m\u001b[0mget_hamiltonian\u001b[0m\u001b[0;34m(\u001b[0m\u001b[0mi_neighbors\u001b[0m\u001b[0;34m,\u001b[0m \u001b[0mj_neighbors\u001b[0m\u001b[0;34m,\u001b[0m \u001b[0mek\u001b[0m\u001b[0;34m)\u001b[0m\u001b[0;34m\u001b[0m\u001b[0;34m\u001b[0m\u001b[0m\n\u001b[0;32m--> 297\u001b[0;31m         \u001b[0munitary_gate\u001b[0m \u001b[0;34m=\u001b[0m \u001b[0mnp\u001b[0m\u001b[0;34m.\u001b[0m\u001b[0mreshape\u001b[0m\u001b[0;34m(\u001b[0m\u001b[0mlinalg\u001b[0m\u001b[0;34m.\u001b[0m\u001b[0mexpm\u001b[0m\u001b[0;34m(\u001b[0m\u001b[0;34m-\u001b[0m\u001b[0mself\u001b[0m\u001b[0;34m.\u001b[0m\u001b[0mdt\u001b[0m \u001b[0;34m*\u001b[0m \u001b[0mhamiltonian\u001b[0m\u001b[0;34m)\u001b[0m\u001b[0;34m,\u001b[0m \u001b[0;34m(\u001b[0m\u001b[0mi_spin_dim\u001b[0m\u001b[0;34m,\u001b[0m \u001b[0mj_spin_dim\u001b[0m\u001b[0;34m,\u001b[0m \u001b[0mi_spin_dim\u001b[0m\u001b[0;34m,\u001b[0m \u001b[0mj_spin_dim\u001b[0m\u001b[0;34m)\u001b[0m\u001b[0;34m)\u001b[0m\u001b[0;34m\u001b[0m\u001b[0;34m\u001b[0m\u001b[0m\n\u001b[0m\u001b[1;32m    298\u001b[0m         \u001b[0;31m# unitary.shape = (i_spin_dim, j_spin_dim, i'_spin_dim, j'_spin_dim)\u001b[0m\u001b[0;34m\u001b[0m\u001b[0;34m\u001b[0m\u001b[0;34m\u001b[0m\u001b[0m\n\u001b[1;32m    299\u001b[0m         \u001b[0mweight_matrix\u001b[0m \u001b[0;34m=\u001b[0m \u001b[0mnp\u001b[0m\u001b[0;34m.\u001b[0m\u001b[0mdiag\u001b[0m\u001b[0;34m(\u001b[0m\u001b[0mlambda_k\u001b[0m\u001b[0;34m)\u001b[0m\u001b[0;34m\u001b[0m\u001b[0;34m\u001b[0m\u001b[0m\n",
            "\u001b[0;32m/usr/local/lib/python3.7/dist-packages/scipy/linalg/matfuncs.py\u001b[0m in \u001b[0;36mexpm\u001b[0;34m(A)\u001b[0m\n\u001b[1;32m    254\u001b[0m     \u001b[0;31m# Input checking and conversion is provided by sparse.linalg.expm().\u001b[0m\u001b[0;34m\u001b[0m\u001b[0;34m\u001b[0m\u001b[0;34m\u001b[0m\u001b[0m\n\u001b[1;32m    255\u001b[0m     \u001b[0;32mimport\u001b[0m \u001b[0mscipy\u001b[0m\u001b[0;34m.\u001b[0m\u001b[0msparse\u001b[0m\u001b[0;34m.\u001b[0m\u001b[0mlinalg\u001b[0m\u001b[0;34m\u001b[0m\u001b[0;34m\u001b[0m\u001b[0m\n\u001b[0;32m--> 256\u001b[0;31m     \u001b[0;32mreturn\u001b[0m \u001b[0mscipy\u001b[0m\u001b[0;34m.\u001b[0m\u001b[0msparse\u001b[0m\u001b[0;34m.\u001b[0m\u001b[0mlinalg\u001b[0m\u001b[0;34m.\u001b[0m\u001b[0mexpm\u001b[0m\u001b[0;34m(\u001b[0m\u001b[0mA\u001b[0m\u001b[0;34m)\u001b[0m\u001b[0;34m\u001b[0m\u001b[0;34m\u001b[0m\u001b[0m\n\u001b[0m\u001b[1;32m    257\u001b[0m \u001b[0;34m\u001b[0m\u001b[0m\n\u001b[1;32m    258\u001b[0m \u001b[0;34m\u001b[0m\u001b[0m\n",
            "\u001b[0;32m/usr/local/lib/python3.7/dist-packages/scipy/sparse/linalg/matfuncs.py\u001b[0m in \u001b[0;36mexpm\u001b[0;34m(A)\u001b[0m\n\u001b[1;32m    593\u001b[0m             [  0.        ,   0.        ,  20.08553692]])\n\u001b[1;32m    594\u001b[0m     \"\"\"\n\u001b[0;32m--> 595\u001b[0;31m     \u001b[0;32mreturn\u001b[0m \u001b[0m_expm\u001b[0m\u001b[0;34m(\u001b[0m\u001b[0mA\u001b[0m\u001b[0;34m,\u001b[0m \u001b[0muse_exact_onenorm\u001b[0m\u001b[0;34m=\u001b[0m\u001b[0;34m'auto'\u001b[0m\u001b[0;34m)\u001b[0m\u001b[0;34m\u001b[0m\u001b[0;34m\u001b[0m\u001b[0m\n\u001b[0m\u001b[1;32m    596\u001b[0m \u001b[0;34m\u001b[0m\u001b[0m\n\u001b[1;32m    597\u001b[0m \u001b[0;34m\u001b[0m\u001b[0m\n",
            "\u001b[0;32m/usr/local/lib/python3.7/dist-packages/scipy/sparse/linalg/matfuncs.py\u001b[0m in \u001b[0;36m_expm\u001b[0;34m(A, use_exact_onenorm)\u001b[0m\n\u001b[1;32m    637\u001b[0m     \u001b[0;32mif\u001b[0m \u001b[0meta_1\u001b[0m \u001b[0;34m<\u001b[0m \u001b[0;36m1.495585217958292e-002\u001b[0m \u001b[0;32mand\u001b[0m \u001b[0m_ell\u001b[0m\u001b[0;34m(\u001b[0m\u001b[0mh\u001b[0m\u001b[0;34m.\u001b[0m\u001b[0mA\u001b[0m\u001b[0;34m,\u001b[0m \u001b[0;36m3\u001b[0m\u001b[0;34m)\u001b[0m \u001b[0;34m==\u001b[0m \u001b[0;36m0\u001b[0m\u001b[0;34m:\u001b[0m\u001b[0;34m\u001b[0m\u001b[0;34m\u001b[0m\u001b[0m\n\u001b[1;32m    638\u001b[0m         \u001b[0mU\u001b[0m\u001b[0;34m,\u001b[0m \u001b[0mV\u001b[0m \u001b[0;34m=\u001b[0m \u001b[0mh\u001b[0m\u001b[0;34m.\u001b[0m\u001b[0mpade3\u001b[0m\u001b[0;34m(\u001b[0m\u001b[0;34m)\u001b[0m\u001b[0;34m\u001b[0m\u001b[0;34m\u001b[0m\u001b[0m\n\u001b[0;32m--> 639\u001b[0;31m         \u001b[0;32mreturn\u001b[0m \u001b[0m_solve_P_Q\u001b[0m\u001b[0;34m(\u001b[0m\u001b[0mU\u001b[0m\u001b[0;34m,\u001b[0m \u001b[0mV\u001b[0m\u001b[0;34m,\u001b[0m \u001b[0mstructure\u001b[0m\u001b[0;34m=\u001b[0m\u001b[0mstructure\u001b[0m\u001b[0;34m)\u001b[0m\u001b[0;34m\u001b[0m\u001b[0;34m\u001b[0m\u001b[0m\n\u001b[0m\u001b[1;32m    640\u001b[0m \u001b[0;34m\u001b[0m\u001b[0m\n\u001b[1;32m    641\u001b[0m     \u001b[0;31m# Try Pade order 5.\u001b[0m\u001b[0;34m\u001b[0m\u001b[0;34m\u001b[0m\u001b[0;34m\u001b[0m\u001b[0m\n",
            "\u001b[0;32m/usr/local/lib/python3.7/dist-packages/scipy/sparse/linalg/matfuncs.py\u001b[0m in \u001b[0;36m_solve_P_Q\u001b[0;34m(U, V, structure)\u001b[0m\n\u001b[1;32m    703\u001b[0m         \u001b[0;32mreturn\u001b[0m \u001b[0mspsolve\u001b[0m\u001b[0;34m(\u001b[0m\u001b[0mQ\u001b[0m\u001b[0;34m,\u001b[0m \u001b[0mP\u001b[0m\u001b[0;34m)\u001b[0m\u001b[0;34m\u001b[0m\u001b[0;34m\u001b[0m\u001b[0m\n\u001b[1;32m    704\u001b[0m     \u001b[0;32melif\u001b[0m \u001b[0mstructure\u001b[0m \u001b[0;32mis\u001b[0m \u001b[0;32mNone\u001b[0m\u001b[0;34m:\u001b[0m\u001b[0;34m\u001b[0m\u001b[0;34m\u001b[0m\u001b[0m\n\u001b[0;32m--> 705\u001b[0;31m         \u001b[0;32mreturn\u001b[0m \u001b[0msolve\u001b[0m\u001b[0;34m(\u001b[0m\u001b[0mQ\u001b[0m\u001b[0;34m,\u001b[0m \u001b[0mP\u001b[0m\u001b[0;34m)\u001b[0m\u001b[0;34m\u001b[0m\u001b[0;34m\u001b[0m\u001b[0m\n\u001b[0m\u001b[1;32m    706\u001b[0m     \u001b[0;32melif\u001b[0m \u001b[0mstructure\u001b[0m \u001b[0;34m==\u001b[0m \u001b[0mUPPER_TRIANGULAR\u001b[0m\u001b[0;34m:\u001b[0m\u001b[0;34m\u001b[0m\u001b[0;34m\u001b[0m\u001b[0m\n\u001b[1;32m    707\u001b[0m         \u001b[0;32mreturn\u001b[0m \u001b[0msolve_triangular\u001b[0m\u001b[0;34m(\u001b[0m\u001b[0mQ\u001b[0m\u001b[0;34m,\u001b[0m \u001b[0mP\u001b[0m\u001b[0;34m)\u001b[0m\u001b[0;34m\u001b[0m\u001b[0;34m\u001b[0m\u001b[0m\n",
            "\u001b[0;32m/usr/local/lib/python3.7/dist-packages/scipy/linalg/basic.py\u001b[0m in \u001b[0;36msolve\u001b[0;34m(a, b, sym_pos, lower, overwrite_a, overwrite_b, debug, check_finite, assume_a, transposed)\u001b[0m\n\u001b[1;32m    213\u001b[0m         gecon, getrf, getrs = get_lapack_funcs(('gecon', 'getrf', 'getrs'),\n\u001b[1;32m    214\u001b[0m                                                (a1, b1))\n\u001b[0;32m--> 215\u001b[0;31m         \u001b[0mlu\u001b[0m\u001b[0;34m,\u001b[0m \u001b[0mipvt\u001b[0m\u001b[0;34m,\u001b[0m \u001b[0minfo\u001b[0m \u001b[0;34m=\u001b[0m \u001b[0mgetrf\u001b[0m\u001b[0;34m(\u001b[0m\u001b[0ma1\u001b[0m\u001b[0;34m,\u001b[0m \u001b[0moverwrite_a\u001b[0m\u001b[0;34m=\u001b[0m\u001b[0moverwrite_a\u001b[0m\u001b[0;34m)\u001b[0m\u001b[0;34m\u001b[0m\u001b[0;34m\u001b[0m\u001b[0m\n\u001b[0m\u001b[1;32m    216\u001b[0m         \u001b[0m_solve_check\u001b[0m\u001b[0;34m(\u001b[0m\u001b[0mn\u001b[0m\u001b[0;34m,\u001b[0m \u001b[0minfo\u001b[0m\u001b[0;34m)\u001b[0m\u001b[0;34m\u001b[0m\u001b[0;34m\u001b[0m\u001b[0m\n\u001b[1;32m    217\u001b[0m         x, info = getrs(lu, ipvt, b1,\n",
            "\u001b[0;31mKeyboardInterrupt\u001b[0m: "
          ]
        },
        {
          "output_type": "display_data",
          "data": {
            "image/png": "[encoded data removed]",
            "text/plain": [
              "<Figure size 1224x864 with 3 Axes>"
            ]
          },
          "metadata": {
            "tags": []
          }
        }
      ]
    },
    {
      "cell_type": "code",
      "metadata": {
        "id": "5eA05ScbnXWq"
      },
      "source": [
        "# color='tab:red'\n",
        "\n",
        "fig, ax = plt.subplots(3, 1, figsize=(17, 12))\n",
        "for d_max in d_max_tri:\n",
        "    ax[0].plot(theta / np.pi, tri_energy[d_max], '--o', label=f'D = {d_max}', \n",
        "              markerfacecolor='none', linewidth=1, markersize=10)\n",
        "    ax[0].set_xlabel('')\n",
        "    ax[0].set_xticklabels([])\n",
        "    ax[0].set_ylabel(r'$\\epsilon_0$')\n",
        "    ax[0].set_title('BLBQ model ground-state energy and magnetization per-site')\n",
        "    ax[0].tick_params(direction='in', axis='both')\n",
        "    ax[0].grid()\n",
        "    ax[0].legend(loc='upper right')\n",
        "    ax[0].grid(which='major', axis='x', linestyle='--')\n",
        "\n",
        "\n",
        "    ax[1].plot(theta / np.pi, tri_magnetization[d_max], '--o', label=f'D = {d_max}', \n",
        "               markerfacecolor='none', linewidth=1, markersize=10)\n",
        "    ax[1].set_ylabel(r'$\\sqrt{\\mathbf{S}\\cdot\\mathbf{S}}$')\n",
        "    ax[1].set_xlabel('')\n",
        "    ax[1].set_xticklabels([])\n",
        "    ax[1].tick_params(direction='in', axis='both')\n",
        "    ax[1].grid()\n",
        "    ax[1].legend(loc='upper right')\n",
        "    ax[1].grid(which='major', axis='x', linestyle='--')\n",
        "\n",
        "\n",
        "    ax[2].plot(theta / np.pi, tri_quad[d_max], '--o', label=f'D = {d_max}', \n",
        "               markerfacecolor='none', linewidth=1, markersize=10)\n",
        "    ax[2].set_xlabel(r'$\\theta / \\pi$')\n",
        "    ax[2].set_ylabel(r'$\\sqrt{\\mathbf{Q}\\cdot\\mathbf{Q}}$')\n",
        "    ax[2].tick_params(direction='in', axis='both')\n",
        "    ax[2].grid()\n",
        "    ax[2].legend(loc='upper right')\n",
        "    ax[2].grid(which='major', axis='x', linestyle='--')\n"
      ],
      "execution_count": null,
      "outputs": []
    },
    {
      "cell_type": "code",
      "metadata": {
        "id": "73rfMwtaZl_q"
      },
      "source": [
        ""
      ],
      "execution_count": null,
      "outputs": []
    }
  ]
}