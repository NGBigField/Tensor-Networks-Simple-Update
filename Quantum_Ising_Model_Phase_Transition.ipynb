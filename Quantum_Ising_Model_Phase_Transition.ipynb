{
  "nbformat": 4,
  "nbformat_minor": 0,
  "metadata": {
    "colab": {
      "name": "Quantum_Ising_Model_Phase_Transition.ipynb",
      "provenance": [],
      "authorship_tag": "ABX9TyMg9OH6Gdx++KjeFJIsQIqO",
      "include_colab_link": true
    },
    "kernelspec": {
      "name": "python3",
      "display_name": "Python 3"
    },
    "language_info": {
      "name": "python"
    },
    "widgets": {
      "application/vnd.jupyter.widget-state+json": {
        "c3459cfa365748819f769a0a56ce5e35": {
          "model_module": "@jupyter-widgets/controls",
          "model_name": "HBoxModel",
          "state": {
            "_view_name": "HBoxView",
            "_dom_classes": [],
            "_model_name": "HBoxModel",
            "_view_module": "@jupyter-widgets/controls",
            "_model_module_version": "1.5.0",
            "_view_count": null,
            "_view_module_version": "1.5.0",
            "box_style": "",
            "layout": "IPY_MODEL_42572937b4f44b6583d1858b86a60205",
            "_model_module": "@jupyter-widgets/controls",
            "children": [
              "IPY_MODEL_9a18c1e737a340efaac39f706a112b27",
              "IPY_MODEL_78eaeef960dd481a94f1e22fe98f88cf"
            ]
          }
        },
        "42572937b4f44b6583d1858b86a60205": {
          "model_module": "@jupyter-widgets/base",
          "model_name": "LayoutModel",
          "state": {
            "_view_name": "LayoutView",
            "grid_template_rows": null,
            "right": null,
            "justify_content": null,
            "_view_module": "@jupyter-widgets/base",
            "overflow": null,
            "_model_module_version": "1.2.0",
            "_view_count": null,
            "flex_flow": null,
            "width": null,
            "min_width": null,
            "border": null,
            "align_items": null,
            "bottom": null,
            "_model_module": "@jupyter-widgets/base",
            "top": null,
            "grid_column": null,
            "overflow_y": null,
            "overflow_x": null,
            "grid_auto_flow": null,
            "grid_area": null,
            "grid_template_columns": null,
            "flex": null,
            "_model_name": "LayoutModel",
            "justify_items": null,
            "grid_row": null,
            "max_height": null,
            "align_content": null,
            "visibility": null,
            "align_self": null,
            "height": null,
            "min_height": null,
            "padding": null,
            "grid_auto_rows": null,
            "grid_gap": null,
            "max_width": null,
            "order": null,
            "_view_module_version": "1.2.0",
            "grid_template_areas": null,
            "object_position": null,
            "object_fit": null,
            "grid_auto_columns": null,
            "margin": null,
            "display": null,
            "left": null
          }
        },
        "9a18c1e737a340efaac39f706a112b27": {
          "model_module": "@jupyter-widgets/controls",
          "model_name": "FloatProgressModel",
          "state": {
            "_view_name": "ProgressView",
            "style": "IPY_MODEL_a0027bc389b7489d91cf94ccdbf9c291",
            "_dom_classes": [],
            "description": "100%",
            "_model_name": "FloatProgressModel",
            "bar_style": "success",
            "max": 60,
            "_view_module": "@jupyter-widgets/controls",
            "_model_module_version": "1.5.0",
            "value": 60,
            "_view_count": null,
            "_view_module_version": "1.5.0",
            "orientation": "horizontal",
            "min": 0,
            "description_tooltip": null,
            "_model_module": "@jupyter-widgets/controls",
            "layout": "IPY_MODEL_bf62e84e68234879b724349b333fadff"
          }
        },
        "78eaeef960dd481a94f1e22fe98f88cf": {
          "model_module": "@jupyter-widgets/controls",
          "model_name": "HTMLModel",
          "state": {
            "_view_name": "HTMLView",
            "style": "IPY_MODEL_d2f75953be0c4aa9a3dd328fb97bd25d",
            "_dom_classes": [],
            "description": "",
            "_model_name": "HTMLModel",
            "placeholder": "​",
            "_view_module": "@jupyter-widgets/controls",
            "_model_module_version": "1.5.0",
            "value": " 60/60 [07:27&lt;00:00,  7.46s/it]",
            "_view_count": null,
            "_view_module_version": "1.5.0",
            "description_tooltip": null,
            "_model_module": "@jupyter-widgets/controls",
            "layout": "IPY_MODEL_2ae0bcb18f6b4f0caddd91998dd5bea3"
          }
        },
        "a0027bc389b7489d91cf94ccdbf9c291": {
          "model_module": "@jupyter-widgets/controls",
          "model_name": "ProgressStyleModel",
          "state": {
            "_view_name": "StyleView",
            "_model_name": "ProgressStyleModel",
            "description_width": "initial",
            "_view_module": "@jupyter-widgets/base",
            "_model_module_version": "1.5.0",
            "_view_count": null,
            "_view_module_version": "1.2.0",
            "bar_color": null,
            "_model_module": "@jupyter-widgets/controls"
          }
        },
        "bf62e84e68234879b724349b333fadff": {
          "model_module": "@jupyter-widgets/base",
          "model_name": "LayoutModel",
          "state": {
            "_view_name": "LayoutView",
            "grid_template_rows": null,
            "right": null,
            "justify_content": null,
            "_view_module": "@jupyter-widgets/base",
            "overflow": null,
            "_model_module_version": "1.2.0",
            "_view_count": null,
            "flex_flow": null,
            "width": null,
            "min_width": null,
            "border": null,
            "align_items": null,
            "bottom": null,
            "_model_module": "@jupyter-widgets/base",
            "top": null,
            "grid_column": null,
            "overflow_y": null,
            "overflow_x": null,
            "grid_auto_flow": null,
            "grid_area": null,
            "grid_template_columns": null,
            "flex": null,
            "_model_name": "LayoutModel",
            "justify_items": null,
            "grid_row": null,
            "max_height": null,
            "align_content": null,
            "visibility": null,
            "align_self": null,
            "height": null,
            "min_height": null,
            "padding": null,
            "grid_auto_rows": null,
            "grid_gap": null,
            "max_width": null,
            "order": null,
            "_view_module_version": "1.2.0",
            "grid_template_areas": null,
            "object_position": null,
            "object_fit": null,
            "grid_auto_columns": null,
            "margin": null,
            "display": null,
            "left": null
          }
        },
        "d2f75953be0c4aa9a3dd328fb97bd25d": {
          "model_module": "@jupyter-widgets/controls",
          "model_name": "DescriptionStyleModel",
          "state": {
            "_view_name": "StyleView",
            "_model_name": "DescriptionStyleModel",
            "description_width": "",
            "_view_module": "@jupyter-widgets/base",
            "_model_module_version": "1.5.0",
            "_view_count": null,
            "_view_module_version": "1.2.0",
            "_model_module": "@jupyter-widgets/controls"
          }
        },
        "2ae0bcb18f6b4f0caddd91998dd5bea3": {
          "model_module": "@jupyter-widgets/base",
          "model_name": "LayoutModel",
          "state": {
            "_view_name": "LayoutView",
            "grid_template_rows": null,
            "right": null,
            "justify_content": null,
            "_view_module": "@jupyter-widgets/base",
            "overflow": null,
            "_model_module_version": "1.2.0",
            "_view_count": null,
            "flex_flow": null,
            "width": null,
            "min_width": null,
            "border": null,
            "align_items": null,
            "bottom": null,
            "_model_module": "@jupyter-widgets/base",
            "top": null,
            "grid_column": null,
            "overflow_y": null,
            "overflow_x": null,
            "grid_auto_flow": null,
            "grid_area": null,
            "grid_template_columns": null,
            "flex": null,
            "_model_name": "LayoutModel",
            "justify_items": null,
            "grid_row": null,
            "max_height": null,
            "align_content": null,
            "visibility": null,
            "align_self": null,
            "height": null,
            "min_height": null,
            "padding": null,
            "grid_auto_rows": null,
            "grid_gap": null,
            "max_width": null,
            "order": null,
            "_view_module_version": "1.2.0",
            "grid_template_areas": null,
            "object_position": null,
            "object_fit": null,
            "grid_auto_columns": null,
            "margin": null,
            "display": null,
            "left": null
          }
        }
      }
    }
  },
  "cells": [
    {
      "cell_type": "markdown",
      "metadata": {
        "id": "view-in-github",
        "colab_type": "text"
      },
      "source": [
        "<a href=\"https://colab.research.google.com/github/RoyElkabetz/Tensor-Networks-Simple-Update/blob/main/Quantum_Ising_Model_Phase_Transition.ipynb\" target=\"_parent\"><img src=\"https://colab.research.google.com/assets/colab-badge.svg\" alt=\"Open In Colab\"/></a>"
      ]
    },
    {
      "cell_type": "code",
      "metadata": {
        "colab": {
          "base_uri": "https://localhost:8080/"
        },
        "id": "Q7oPsCWpkslc",
        "outputId": "4dbd72b0-b87a-4f61-d5a8-ee4429699a10"
      },
      "source": [
        "## uncomment only if running from google.colab\n",
        "# clone the git reposetory\n",
        "!git clone https://github.com/RoyElkabetz/Tensor-Networks-Simple-Update\n",
        "# add path to .py files for import\n",
        "import sys\n",
        "sys.path.insert(1, \"/content/Tensor-Networks-Simple-Update/src\")"
      ],
      "execution_count": 1,
      "outputs": [
        {
          "output_type": "stream",
          "text": [
            "Cloning into 'Tensor-Networks-Simple-Update'...\n",
            "remote: Enumerating objects: 392, done.\u001b[K\n",
            "remote: Counting objects: 100% (392/392), done.\u001b[K\n",
            "remote: Compressing objects: 100% (327/327), done.\u001b[K\n",
            "remote: Total 392 (delta 224), reused 141 (delta 60), pack-reused 0\u001b[K\n",
            "Receiving objects: 100% (392/392), 1.02 MiB | 5.96 MiB/s, done.\n",
            "Resolving deltas: 100% (224/224), done.\n"
          ],
          "name": "stdout"
        }
      ]
    },
    {
      "cell_type": "code",
      "metadata": {
        "id": "Z0WLUhyGlAZj"
      },
      "source": [
        "import numpy as np\n",
        "import matplotlib.pyplot as plt\n",
        "from TensorNetwork import TensorNetwork\n",
        "import SimpleUpdate as su\n",
        "from tqdm.auto import tqdm\n",
        "\n",
        "\n",
        "np.random.seed(216)\n",
        "\n",
        "plt.rcParams.update({'font.size': 16, \n",
        "                     \"figure.facecolor\": 'white', \n",
        "                     \"axes.facecolor\": 'white', \n",
        "                     \"savefig.facecolor\": 'white', \n",
        "                     'savefig.edgecolor' : 'white', \n",
        "                     'figure.edgecolor' : 'white'})"
      ],
      "execution_count": 2,
      "outputs": []
    },
    {
      "cell_type": "markdown",
      "metadata": {
        "id": "dB_3Wdmql1Vu"
      },
      "source": [
        "# Simulating the Quantum Phase Transition of an Ising Transverse Field (ITF)Hamiltonian on an infinite $2D$ Lattice\n",
        "\n",
        "The ITF Hamiltonian is given by\n",
        "\n",
        "\\begin{align}\n",
        "    H = -J\\sum_{<i, j>}\\sigma_i^z \\cdot \\sigma_j^z - h\\sum_{i}\\sigma_i^x\n",
        "\\end{align}"
      ]
    },
    {
      "cell_type": "code",
      "metadata": {
        "colab": {
          "base_uri": "https://localhost:8080/",
          "height": 1000,
          "referenced_widgets": [
            "c3459cfa365748819f769a0a56ce5e35",
            "42572937b4f44b6583d1858b86a60205",
            "9a18c1e737a340efaac39f706a112b27",
            "78eaeef960dd481a94f1e22fe98f88cf",
            "a0027bc389b7489d91cf94ccdbf9c291",
            "bf62e84e68234879b724349b333fadff",
            "d2f75953be0c4aa9a3dd328fb97bd25d",
            "2ae0bcb18f6b4f0caddd91998dd5bea3"
          ]
        },
        "id": "xktZ755blDNm",
        "outputId": "00a8947c-167e-4dd5-c7ad-bb6f8b495db3"
      },
      "source": [
        "# The Tensor Network structure matrix\n",
        "ising_structure_matrix = np.array([[1, 2, 3, 4, 0, 0, 0, 0],\n",
        "                                   [1, 2, 0, 0, 3, 4, 0, 0],\n",
        "                                   [0, 0, 1, 2, 0, 0, 3, 4,],\n",
        "                                   [0, 0, 0, 0, 1, 2, 3, 4]])\n",
        "# Simple-Update parameters\n",
        "d_max_ising = [2]\n",
        "error = 1e-6\n",
        "max_iterations = 200\n",
        "ising_energy = []\n",
        "ising_z_magnetizaton = []\n",
        "ising_x_magnetizaton = []\n",
        "\n",
        "j_ij_ising = [-1.] * 8\n",
        "dts = [0.1, 0.01, 0.001, 0.0001, 0.00001]\n",
        "h_k = -np.linspace(0, 4, 60)\n",
        "\n",
        "# Pauli matrices\n",
        "pauli_x = np.array([[0, 1],\n",
        "                    [1, 0]])\n",
        "pauli_y = np.array([[0, -1j],\n",
        "                    [1j, 0]])\n",
        "pauli_z = np.array([[1, 0],\n",
        "                    [0, -1]])\n",
        "\n",
        "s_i = [pauli_z]\n",
        "s_j = [pauli_z]\n",
        "s_k = [pauli_x]\n",
        "\n",
        "\n",
        "# Run\n",
        "for d_max in d_max_ising:\n",
        "    for h in tqdm(h_k):\n",
        "        ising = TensorNetwork(structure_matrix=ising_structure_matrix, \n",
        "                              virtual_size=2)\n",
        "        ising_su = su.SimpleUpdate(tensor_network=ising, \n",
        "                                  dts=dts, \n",
        "                                  j_ij=j_ij_ising, \n",
        "                                  h_k=h, \n",
        "                                  s_i=s_i, \n",
        "                                  s_j=s_j, \n",
        "                                  s_k=s_k, \n",
        "                                  d_max=d_max, \n",
        "                                  max_iterations=max_iterations, \n",
        "                                  convergence_error=error, \n",
        "                                  log_energy=False,\n",
        "                                  print_process=False)\n",
        "        ising_su.run()\n",
        "        energy = ising_su.energy_per_site()\n",
        "        z_magnetization = ising_su.expectation_per_site(pauli_z)\n",
        "        x_magnetization = ising_su.expectation_per_site(pauli_x)\n",
        "        print('| D max: {:3d} | h: {:3.10f} | Energy: {:3.10f} | Mz: {:3.10f} | Mx: {:3.10f} |'\n",
        "        .format(d_max, h, energy, z_magnetization, x_magnetization))\n",
        "        ising_energy.append(energy)\n",
        "        ising_z_magnetizaton.append(z_magnetization)\n",
        "        ising_x_magnetizaton.append(x_magnetization)"
      ],
      "execution_count": 4,
      "outputs": [
        {
          "output_type": "display_data",
          "data": {
            "application/vnd.jupyter.widget-view+json": {
              "model_id": "c3459cfa365748819f769a0a56ce5e35",
              "version_minor": 0,
              "version_major": 2
            },
            "text/plain": [
              "HBox(children=(FloatProgress(value=0.0, max=60.0), HTML(value='')))"
            ]
          },
          "metadata": {
            "tags": []
          }
        },
        {
          "output_type": "stream",
          "text": [
            "| D max:   2 | h: -0.0000000000 | Energy: -2.0000000000 | Mz: 1.0000000000 | Mx: 0.0000000090 |\n",
            "| D max:   2 | h: -0.0677966102 | Energy: -2.0005745613 | Mz: -0.9998563340 | Mx: 0.0169499902 |\n",
            "| D max:   2 | h: -0.1355932203 | Energy: -2.0022984098 | Mz: -0.9994249884 | Mx: 0.0339049469 |\n",
            "| D max:   2 | h: -0.2033898305 | Energy: -2.0051720403 | Mz: -0.9987049166 | Mx: 0.0508698690 |\n",
            "| D max:   2 | h: -0.2711864407 | Energy: -2.0091962828 | Mz: -0.9976944259 | Mx: 0.0678489093 |\n",
            "| D max:   2 | h: -0.3389830508 | Energy: -2.0143722930 | Mz: 0.9963910106 | Mx: 0.0848480131 |\n",
            "| D max:   2 | h: -0.4067796610 | Energy: -2.0207015678 | Mz: 0.9947915057 | Mx: 0.1018718221 |\n",
            "| D max:   2 | h: -0.4745762712 | Energy: -2.0281859415 | Mz: 0.9928919708 | Mx: 0.1189254028 |\n",
            "| D max:   2 | h: -0.5423728814 | Energy: -2.0368275915 | Mz: -0.9906876793 | Mx: 0.1360138868 |\n",
            "| D max:   2 | h: -0.6101694915 | Energy: -2.0466290429 | Mz: -0.9881730808 | Mx: 0.1531424914 |\n",
            "| D max:   2 | h: -0.6779661017 | Energy: -2.0575931741 | Mz: -0.9853417571 | Mx: 0.1703165273 |\n",
            "| D max:   2 | h: -0.7457627119 | Energy: -2.0697232929 | Mz: 0.9821872254 | Mx: 0.1875371417 |\n",
            "| D max:   2 | h: -0.8135593220 | Energy: -2.0830228960 | Mz: 0.9786998501 | Mx: 0.2048170118 |\n",
            "| D max:   2 | h: -0.8813559322 | Energy: -2.0974960767 | Mz: -0.9748709920 | Mx: 0.2221581395 |\n",
            "| D max:   2 | h: -0.9491525424 | Energy: -2.1131471538 | Mz: 0.9706901124 | Mx: 0.2395666246 |\n",
            "| D max:   2 | h: -1.0169491525 | Energy: -2.1299808447 | Mz: 0.9661453588 | Mx: 0.2570489744 |\n",
            "| D max:   2 | h: -1.0847457627 | Energy: -2.1480024249 | Mz: -0.9612240533 | Mx: 0.2746101717 |\n",
            "| D max:   2 | h: -1.1525423729 | Energy: -2.1672173801 | Mz: 0.9559113160 | Mx: 0.2922578324 |\n",
            "| D max:   2 | h: -1.2203389831 | Energy: -2.1876318511 | Mz: -0.9501915782 | Mx: 0.3099969846 |\n",
            "| D max:   2 | h: -1.2881355932 | Energy: -2.2092521990 | Mz: -0.9440463871 | Mx: 0.3278361212 |\n",
            "| D max:   2 | h: -1.3559322034 | Energy: -2.2320854881 | Mz: -0.9374566642 | Mx: 0.3457803317 |\n",
            "| D max:   2 | h: -1.4237288136 | Energy: -2.2561390273 | Mz: -0.9303995129 | Mx: 0.3638391731 |\n",
            "| D max:   2 | h: -1.4915254237 | Energy: -2.2814208078 | Mz: 0.9228508030 | Mx: 0.3820193444 |\n",
            "| D max:   2 | h: -1.5593220339 | Energy: -2.3079393768 | Mz: 0.9147841242 | Mx: 0.4003270638 |\n",
            "| D max:   2 | h: -1.6271186441 | Energy: -2.3357036046 | Mz: 0.9061674298 | Mx: 0.4187741510 |\n",
            "| D max:   2 | h: -1.6949152542 | Energy: -2.3647232395 | Mz: -0.8969686194 | Mx: 0.4373656106 |\n",
            "| D max:   2 | h: -1.7627118644 | Energy: -2.3950083534 | Mz: -0.8871532227 | Mx: 0.4561045857 |\n",
            "| D max:   2 | h: -1.8305084746 | Energy: -2.4265698551 | Mz: -0.8766691012 | Mx: 0.4750175631 |\n",
            "| D max:   2 | h: -1.8983050847 | Energy: -2.4594193693 | Mz: -0.8654734795 | Mx: 0.4941047529 |\n",
            "| D max:   2 | h: -1.9661016949 | Energy: -2.4935689943 | Mz: -0.8535093573 | Mx: 0.5133804847 |\n",
            "| D max:   2 | h: -2.0338983051 | Energy: -2.5290318204 | Mz: 0.8407150034 | Mx: 0.5328551147 |\n",
            "| D max:   2 | h: -2.1016949153 | Energy: -2.5658216775 | Mz: -0.8270186316 | Mx: 0.5525413295 |\n",
            "| D max:   2 | h: -2.1694915254 | Energy: -2.6039532615 | Mz: -0.8123374659 | Mx: 0.5724527720 |\n",
            "| D max:   2 | h: -2.2372881356 | Energy: -2.6434422006 | Mz: -0.7965902316 | Mx: 0.5925871183 |\n",
            "| D max:   2 | h: -2.3050847458 | Energy: -2.6843050983 | Mz: 0.7796404326 | Mx: 0.6129893145 |\n",
            "| D max:   2 | h: -2.3728813559 | Energy: -2.7265596397 | Mz: -0.7613664376 | Mx: 0.6336633441 |\n",
            "| D max:   2 | h: -2.4406779661 | Energy: -2.7702246540 | Mz: 0.7416101772 | Mx: 0.6546279908 |\n",
            "| D max:   2 | h: -2.5084745763 | Energy: -2.8153202201 | Mz: -0.7202063843 | Mx: 0.6758812490 |\n",
            "| D max:   2 | h: -2.5762711864 | Energy: -2.8618677434 | Mz: 0.6968812381 | Mx: 0.6974831846 |\n",
            "| D max:   2 | h: -2.6440677966 | Energy: -2.9098901177 | Mz: -0.6713898621 | Mx: 0.7194208629 |\n",
            "| D max:   2 | h: -2.7118644068 | Energy: -2.9594118087 | Mz: 0.6433195051 | Mx: 0.7417572606 |\n",
            "| D max:   2 | h: -2.7796610169 | Energy: -3.0104590592 | Mz: -0.6122464761 | Mx: 0.7644836986 |\n",
            "| D max:   2 | h: -2.8474576271 | Energy: -3.0630600089 | Mz: -0.5775030869 | Mx: 0.7876541489 |\n",
            "| D max:   2 | h: -2.9152542373 | Energy: -3.1172449210 | Mz: -0.5381879427 | Mx: 0.8113090789 |\n",
            "| D max:   2 | h: -2.9830508475 | Energy: -3.1730463475 | Mz: -0.4928669154 | Mx: 0.8355406386 |\n",
            "| D max:   2 | h: -3.0508474576 | Energy: -3.2304992533 | Mz: -0.4391435677 | Mx: 0.8604856933 |\n",
            "| D max:   2 | h: -3.1186440678 | Energy: -3.2896393632 | Mz: -0.3714610725 | Mx: 0.8866708568 |\n",
            "| D max:   2 | h: -3.1864406780 | Energy: -3.3504462362 | Mz: 0.2615231303 | Mx: 0.9179839069 |\n",
            "| D max:   2 | h: -3.2542372881 | Energy: -3.4130309559 | Mz: -0.0144695676 | Mx: 0.9474764490 |\n",
            "| D max:   2 | h: -3.3220338983 | Energy: -3.4773512535 | Mz: -0.0058606406 | Mx: 0.9499175892 |\n",
            "| D max:   2 | h: -3.3898305085 | Energy: -3.5418298661 | Mz: 0.0018987071 | Mx: 0.9521372520 |\n",
            "| D max:   2 | h: -3.4576271186 | Energy: -3.6064526986 | Mz: 0.0005295477 | Mx: 0.9541964872 |\n",
            "| D max:   2 | h: -3.5254237288 | Energy: -3.6712100827 | Mz: 0.0012202279 | Mx: 0.9561181574 |\n",
            "| D max:   2 | h: -3.5932203390 | Energy: -3.7360937696 | Mz: -0.0000618051 | Mx: 0.9579174018 |\n",
            "| D max:   2 | h: -3.6610169492 | Energy: -3.8010953134 | Mz: 0.0005169110 | Mx: 0.9596032878 |\n",
            "| D max:   2 | h: -3.7288135593 | Energy: -3.8662076768 | Mz: 0.0000203642 | Mx: 0.9611863486 |\n",
            "| D max:   2 | h: -3.7966101695 | Energy: -3.9314240518 | Mz: 0.0000078277 | Mx: 0.9626748297 |\n",
            "| D max:   2 | h: -3.8644067797 | Energy: -3.9967383158 | Mz: -0.0002637818 | Mx: 0.9640765667 |\n",
            "| D max:   2 | h: -3.9322033898 | Energy: -4.0621448875 | Mz: 0.0000933133 | Mx: 0.9653982860 |\n",
            "| D max:   2 | h: -4.0000000000 | Energy: -4.1276385072 | Mz: 0.0000598811 | Mx: 0.9666462085 |\n",
            "\n"
          ],
          "name": "stdout"
        }
      ]
    },
    {
      "cell_type": "code",
      "metadata": {
        "colab": {
          "base_uri": "https://localhost:8080/",
          "height": 437
        },
        "id": "_SxZljU3lLgP",
        "outputId": "d78fcd23-6a79-4567-8269-c6daf9c07c60"
      },
      "source": [
        "fig, ax = plt.subplots(1, 2, figsize=(17, 6))\n",
        "ax[0].plot(-h_k, ising_energy, '--o', label=r'$\\epsilon_0$', color='tab:red', \n",
        "           markerfacecolor='none', linewidth=1, markersize=10)\n",
        "ax[0].set_xlabel(r'h')\n",
        "ax[0].set_ylabel(r'$\\epsilon_0$')\n",
        "ax[0].set_title('$2D$ Ising model ground-state energy per-site')\n",
        "ax[0].tick_params(direction='in', axis='both')\n",
        "ax[0].grid()\n",
        "ax[0].legend()\n",
        "\n",
        "ax[1].plot(-h_k, np.abs(np.array(ising_z_magnetizaton)), '--o', label=r'$M_z$', \n",
        "           color='tab:blue', markerfacecolor='none', linewidth=1, markersize=10)\n",
        "ax[1].plot(-h_k, ising_x_magnetizaton, '--o', label=r'$M_x$', color='tab:green', \n",
        "           markerfacecolor='none', linewidth=1, markersize=10)\n",
        "ax[1].set_xlabel(r'h')\n",
        "ax[1].set_ylabel(r'$M$')\n",
        "ax[1].set_title(r'$2D$ Ising model $\\hat{z}, \\hat{x}$ magnetizations per-site')\n",
        "ax[1].tick_params(direction='in', axis='both')\n",
        "ax[1].grid()\n",
        "ax[1].legend()"
      ],
      "execution_count": 7,
      "outputs": [
        {
          "output_type": "execute_result",
          "data": {
            "text/plain": [
              "<matplotlib.legend.Legend at 0x7fe1e682e0d0>"
            ]
          },
          "metadata": {
            "tags": []
          },
          "execution_count": 7
        },
        {
          "output_type": "display_data",
          "data": {
            "image/png": "[encoded data removed]",
            "text/plain": [
              "<Figure size 1224x432 with 2 Axes>"
            ]
          },
          "metadata": {
            "tags": []
          }
        }
      ]
    },
    {
      "cell_type": "code",
      "metadata": {
        "id": "t1h0dPgElmpX"
      },
      "source": [
        ""
      ],
      "execution_count": null,
      "outputs": []
    }
  ]
}