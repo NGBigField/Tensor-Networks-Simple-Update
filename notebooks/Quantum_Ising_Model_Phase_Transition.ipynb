{
 "cells": [
  {
   "cell_type": "markdown",
   "metadata": {
    "colab_type": "text",
    "id": "view-in-github"
   },
   "source": [
    "<a href=\"https://colab.research.google.com/github/RoyElkabetz/Tensor-Networks-Simple-Update/blob/main/Quantum_Ising_Model_Phase_Transition.ipynb\" target=\"_parent\"><img src=\"https://colab.research.google.com/assets/colab-badge.svg\" alt=\"Open In Colab\"/></a>"
   ]
  },
  {
   "cell_type": "code",
   "execution_count": 1,
   "metadata": {},
   "outputs": [],
   "source": [
    "# If running from google colab change to TRUE\n",
    "run_from_colab = False  # True if using google colab"
   ]
  },
  {
   "cell_type": "markdown",
   "metadata": {},
   "source": [
    "### Cloning the latest tnsu repo from github\n",
    "You can clone the latest `tnsu` repo from github or run \n",
    "```\n",
    "!pip install tnsu\n",
    "```"
   ]
  },
  {
   "cell_type": "code",
   "execution_count": 2,
   "metadata": {
    "colab": {
     "base_uri": "https://localhost:8080/"
    },
    "id": "Q7oPsCWpkslc",
    "outputId": "4dbd72b0-b87a-4f61-d5a8-ee4429699a10"
   },
   "outputs": [
    {
     "name": "stdout",
     "output_type": "stream",
     "text": [
      "fatal: destination path 'Tensor-Networks-Simple-Update' already exists and is not an empty directory.\r\n"
     ]
    }
   ],
   "source": [
    "import sys\n",
    "import os\n",
    "\n",
    "if run_from_colab:\n",
    "    # clone the git reposetory\n",
    "    !git clone https://github.com/RoyElkabetz/Tensor-Networks-Simple-Update\n",
    "\n",
    "    # add path to .py files for import\n",
    "    sys.path.insert(1, \"/content/Tensor-Networks-Simple-Update/src\")\n",
    "\n",
    "    # mount google drive\n",
    "    from google.colab import drive\n",
    "    drive.mount('/content/gdrive')\n",
    "    \n",
    "    # path for saving the networks\n",
    "    save_path = '/content/gdrive/MyDrive/tmp'\n",
    "else:\n",
    "    # clone the git reposetory\n",
    "    !git clone https://github.com/RoyElkabetz/Tensor-Networks-Simple-Update\n",
    "    \n",
    "    # add path to .py files for import\n",
    "    sys.path.insert(1, \"Tensor-Networks-Simple-Update/src\")\n",
    "    \n",
    "    # path for saving the networks\n",
    "    save_path = '../tmp/networks'\n",
    "    \n",
    "if not os.path.exists(save_path):\n",
    "    os.makedirs(save_path)"
   ]
  },
  {
   "cell_type": "code",
   "execution_count": 9,
   "metadata": {
    "id": "Z0WLUhyGlAZj"
   },
   "outputs": [],
   "source": [
    "import numpy as np\n",
    "import matplotlib.pyplot as plt\n",
    "from tnsu.tensor_network import TensorNetwork\n",
    "import tnsu.simple_update as su\n",
    "\n",
    "\n",
    "np.random.seed(216)\n",
    "\n",
    "plt.rcParams.update({'font.size': 16, \n",
    "                     \"figure.facecolor\": 'white', \n",
    "                     \"axes.facecolor\": 'white', \n",
    "                     \"savefig.facecolor\": 'white', \n",
    "                     'savefig.edgecolor' : 'white', \n",
    "                     'figure.edgecolor' : 'white'})"
   ]
  },
  {
   "cell_type": "markdown",
   "metadata": {
    "id": "dB_3Wdmql1Vu"
   },
   "source": [
    "# Simulating the Quantum Phase Transition of an Ising Transverse Field (ITF) Hamiltonian on an infinite $2D$ Lattice\n",
    "\n",
    "The ITF Hamiltonian is given by\n",
    "\n",
    "\\begin{align}\n",
    "    H = -J\\sum_{<i, j>}\\sigma_i^z \\cdot \\sigma_j^z - h\\sum_{i}\\sigma_i^x\n",
    "\\end{align}"
   ]
  },
  {
   "cell_type": "code",
   "execution_count": 10,
   "metadata": {
    "colab": {
     "base_uri": "https://localhost:8080/",
     "height": 1000,
     "referenced_widgets": [
      "c3459cfa365748819f769a0a56ce5e35",
      "42572937b4f44b6583d1858b86a60205",
      "9a18c1e737a340efaac39f706a112b27",
      "78eaeef960dd481a94f1e22fe98f88cf",
      "a0027bc389b7489d91cf94ccdbf9c291",
      "bf62e84e68234879b724349b333fadff",
      "d2f75953be0c4aa9a3dd328fb97bd25d",
      "2ae0bcb18f6b4f0caddd91998dd5bea3"
     ]
    },
    "id": "xktZ755blDNm",
    "outputId": "00a8947c-167e-4dd5-c7ad-bb6f8b495db3"
   },
   "outputs": [
    {
     "name": "stderr",
     "output_type": "stream",
     "text": [
      "Exception ignored in: <function tqdm.__del__ at 0x7f7df822b5e0>\n",
      "Traceback (most recent call last):\n",
      "  File \"/Library/Frameworks/Python.framework/Versions/3.8/lib/python3.8/site-packages/tqdm/std.py\", line 1145, in __del__\n",
      "    self.close()\n",
      "  File \"/Library/Frameworks/Python.framework/Versions/3.8/lib/python3.8/site-packages/tqdm/notebook.py\", line 283, in close\n",
      "    self.disp(bar_style='danger', check_delay=False)\n",
      "AttributeError: 'tqdm' object has no attribute 'disp'\n"
     ]
    },
    {
     "name": "stdout",
     "output_type": "stream",
     "text": [
      "==> Simple Update converged. final error is 0.0000000000 < 0.0000010000.\n",
      "| D max:   2 | h: -0.0000000000 | Energy: -1.9999999997 | Mz: 0.9999999999 | Mx: 0.0000120168 |\n",
      "==> Simple Update converged. final error is 0.0000000011 < 0.0000010000.\n",
      "| D max:   2 | h: -0.0677966102 | Energy: -2.0005745609 | Mz: -0.9998562105 | Mx: 0.0169572669 |\n",
      "==> Simple Update converged. final error is 0.0000000018 < 0.0000010000.\n",
      "| D max:   2 | h: -0.1355932203 | Energy: -2.0022984096 | Mz: -0.9994249695 | Mx: 0.0339055010 |\n",
      "==> Simple Update converged. final error is 0.0000000029 < 0.0000010000.\n",
      "| D max:   2 | h: -0.2033898305 | Energy: -2.0051720406 | Mz: -0.9987049077 | Mx: 0.0508700458 |\n",
      "==> Simple Update converged. final error is 0.0000000046 < 0.0000010000.\n",
      "| D max:   2 | h: -0.2711864407 | Energy: -2.0091962803 | Mz: -0.9976943962 | Mx: 0.0678493320 |\n",
      "==> Simple Update converged. final error is 0.0000000067 < 0.0000010000.\n",
      "| D max:   2 | h: -0.3389830508 | Energy: -2.0143722883 | Mz: 0.9963909671 | Mx: 0.0848485028 |\n",
      "==> Simple Update converged. final error is 0.0000000095 < 0.0000010000.\n",
      "| D max:   2 | h: -0.4067796610 | Energy: -2.0207015590 | Mz: 0.9947914672 | Mx: 0.1018721674 |\n",
      "==> Simple Update converged. final error is 0.0000000109 < 0.0000010000.\n",
      "| D max:   2 | h: -0.4745762712 | Energy: -2.0281859371 | Mz: 0.9928919761 | Mx: 0.1189253465 |\n",
      "==> Simple Update converged. final error is 0.0000000112 < 0.0000010000.\n",
      "| D max:   2 | h: -0.5423728814 | Energy: -2.0368276047 | Mz: -0.9906877745 | Mx: 0.1360132323 |\n",
      "==> Simple Update converged. final error is 0.0000000117 < 0.0000010000.\n",
      "| D max:   2 | h: -0.6101694915 | Energy: -2.0466290810 | Mz: -0.9881733257 | Mx: 0.1531410128 |\n",
      "==> Simple Update converged. final error is 0.0000000123 < 0.0000010000.\n",
      "| D max:   2 | h: -0.6779661017 | Energy: -2.0575932480 | Mz: -0.9853422367 | Mx: 0.1703139373 |\n",
      "==> Simple Update converged. final error is 0.0000000127 < 0.0000010000.\n",
      "| D max:   2 | h: -0.7457627119 | Energy: -2.0697233480 | Mz: 0.9821872055 | Mx: 0.1875373340 |\n",
      "==> Simple Update converged. final error is 0.0000000133 < 0.0000010000.\n",
      "| D max:   2 | h: -0.8135593220 | Energy: -2.0830229877 | Mz: 0.9786998844 | Mx: 0.2048169880 |\n",
      "==> Simple Update converged. final error is 0.0000000138 < 0.0000010000.\n",
      "| D max:   2 | h: -0.8813559322 | Energy: -2.0974961544 | Mz: -0.9748710528 | Mx: 0.2221579837 |\n",
      "==> Simple Update converged. final error is 0.0000000144 < 0.0000010000.\n",
      "| D max:   2 | h: -0.9491525424 | Energy: -2.1131472160 | Mz: 0.9706901963 | Mx: 0.2395663700 |\n",
      "==> Simple Update converged. final error is 0.0000000153 < 0.0000010000.\n",
      "| D max:   2 | h: -1.0169491525 | Energy: -2.1299809381 | Mz: 0.9661456323 | Mx: 0.2570480867 |\n",
      "==> Simple Update converged. final error is 0.0000000159 < 0.0000010000.\n",
      "| D max:   2 | h: -1.0847457627 | Energy: -2.1480024979 | Mz: -0.9612242914 | Mx: 0.2746094447 |\n",
      "==> Simple Update converged. final error is 0.0000000167 < 0.0000010000.\n",
      "| D max:   2 | h: -1.1525423729 | Energy: -2.1672174856 | Mz: 0.9559118547 | Mx: 0.2922562475 |\n",
      "==> Simple Update converged. final error is 0.0000000175 < 0.0000010000.\n",
      "| D max:   2 | h: -1.2203389831 | Energy: -2.1876319308 | Mz: -0.9501921915 | Mx: 0.3099952663 |\n",
      "==> Simple Update converged. final error is 0.0000000185 < 0.0000010000.\n",
      "| D max:   2 | h: -1.2881355932 | Energy: -2.2092523090 | Mz: -0.9440474448 | Mx: 0.3278333305 |\n",
      "==> Simple Update converged. final error is 0.0000000193 < 0.0000010000.\n",
      "| D max:   2 | h: -1.3559322034 | Energy: -2.2320855694 | Mz: -0.9374577057 | Mx: 0.3457777383 |\n",
      "==> Simple Update converged. final error is 0.0000000204 < 0.0000010000.\n",
      "| D max:   2 | h: -1.4237288136 | Energy: -2.2561391383 | Mz: -0.9304012220 | Mx: 0.3638351679 |\n",
      "==> Simple Update converged. final error is 0.0000000218 < 0.0000010000.\n",
      "| D max:   2 | h: -1.4915254237 | Energy: -2.2814209503 | Mz: 0.9228533553 | Mx: 0.3820137144 |\n",
      "==> Simple Update converged. final error is 0.0000000239 < 0.0000010000.\n",
      "| D max:   2 | h: -1.5593220339 | Energy: -2.3079394664 | Mz: 0.9147867891 | Mx: 0.4003215070 |\n",
      "==> Simple Update converged. final error is 0.0000000261 < 0.0000010000.\n",
      "| D max:   2 | h: -1.6271186441 | Energy: -2.3357037116 | Mz: 0.9061708967 | Mx: 0.4187673444 |\n",
      "==> Simple Update converged. final error is 0.0000000285 < 0.0000010000.\n",
      "| D max:   2 | h: -1.6949152542 | Energy: -2.3647232868 | Mz: -0.8969722399 | Mx: 0.4373588920 |\n",
      "==> Simple Update converged. final error is 0.0000000310 < 0.0000010000.\n",
      "| D max:   2 | h: -1.7627118644 | Energy: -2.3950084023 | Mz: -0.8871524235 | Mx: 0.4561059990 |\n",
      "==> Simple Update converged. final error is 0.0000000338 < 0.0000010000.\n",
      "| D max:   2 | h: -1.8305084746 | Energy: -2.4265699127 | Mz: -0.8766685544 | Mx: 0.4750184800 |\n",
      "==> Simple Update converged. final error is 0.0000000367 < 0.0000010000.\n",
      "| D max:   2 | h: -1.8983050847 | Energy: -2.4594193523 | Mz: -0.8654722035 | Mx: 0.4941067294 |\n",
      "==> Simple Update converged. final error is 0.0000000400 < 0.0000010000.\n",
      "| D max:   2 | h: -1.9661016949 | Energy: -2.4935689751 | Mz: -0.8535084653 | Mx: 0.5133817833 |\n",
      "==> Simple Update converged. final error is 0.0000000436 < 0.0000010000.\n",
      "| D max:   2 | h: -2.0338983051 | Energy: -2.5290317987 | Mz: 0.8407148004 | Mx: 0.5328553858 |\n",
      "==> Simple Update converged. final error is 0.0000000519 < 0.0000010000.\n",
      "| D max:   2 | h: -2.1016949153 | Energy: -2.5658216536 | Mz: -0.8270206581 | Mx: 0.5525386869 |\n",
      "==> Simple Update converged. final error is 0.0000000688 < 0.0000010000.\n",
      "| D max:   2 | h: -2.1694915254 | Energy: -2.6039532348 | Mz: -0.8123415800 | Mx: 0.5724477334 |\n",
      "==> Simple Update converged. final error is 0.0000000888 < 0.0000010000.\n",
      "| D max:   2 | h: -2.2372881356 | Energy: -2.6434421652 | Mz: -0.7965842192 | Mx: 0.5925940102 |\n",
      "==> Simple Update converged. final error is 0.0000001091 < 0.0000010000.\n",
      "| D max:   2 | h: -2.3050847458 | Energy: -2.6843050622 | Mz: 0.7796357163 | Mx: 0.6129943846 |\n",
      "==> Simple Update converged. final error is 0.0000001345 < 0.0000010000.\n",
      "| D max:   2 | h: -2.3728813559 | Energy: -2.7265595991 | Mz: -0.7613641023 | Mx: 0.6336656878 |\n",
      "==> Simple Update converged. final error is 0.0000001632 < 0.0000010000.\n",
      "| D max:   2 | h: -2.4406779661 | Energy: -2.7702246088 | Mz: 0.7416120989 | Mx: 0.6546261614 |\n",
      "==> Simple Update converged. final error is 0.0000001949 < 0.0000010000.\n",
      "| D max:   2 | h: -2.5084745763 | Energy: -2.8153201641 | Mz: -0.7201953193 | Mx: 0.6758909696 |\n",
      "==> Simple Update converged. final error is 0.0000002294 < 0.0000010000.\n",
      "| D max:   2 | h: -2.5762711864 | Energy: -2.8618676803 | Mz: 0.6968747640 | Mx: 0.6974884602 |\n",
      "==> Simple Update converged. final error is 0.0000002662 < 0.0000010000.\n",
      "| D max:   2 | h: -2.6440677966 | Energy: -2.9098900415 | Mz: -0.6713706611 | Mx: 0.7194353770 |\n",
      "==> Simple Update converged. final error is 0.0000003043 < 0.0000010000.\n",
      "| D max:   2 | h: -2.7118644068 | Energy: -2.9594117242 | Mz: 0.6433109922 | Mx: 0.7417631700 |\n",
      "==> Simple Update converged. final error is 0.0000003424 < 0.0000010000.\n",
      "| D max:   2 | h: -2.7796610169 | Energy: -3.0104589575 | Mz: -0.6122263293 | Mx: 0.7644965170 |\n",
      "==> Simple Update converged. final error is 0.0000003784 < 0.0000010000.\n",
      "| D max:   2 | h: -2.8474576271 | Energy: -3.0630598874 | Mz: -0.5774714847 | Mx: 0.7876723886 |\n",
      "==> Simple Update converged. final error is 0.0000004091 < 0.0000010000.\n",
      "| D max:   2 | h: -2.9152542373 | Energy: -3.1172447813 | Mz: -0.5381562763 | Mx: 0.8113254466 |\n",
      "==> Simple Update converged. final error is 0.0000004311 < 0.0000010000.\n",
      "| D max:   2 | h: -2.9830508475 | Energy: -3.1730462005 | Mz: -0.4928628913 | Mx: 0.8355424375 |\n",
      "==> Simple Update converged. final error is 0.0000004017 < 0.0000010000.\n",
      "| D max:   2 | h: -3.0508474576 | Energy: -3.2304991004 | Mz: -0.4391370362 | Mx: 0.8604882092 |\n",
      "==> Simple Update converged. final error is 0.0000003704 < 0.0000010000.\n",
      "| D max:   2 | h: -3.1186440678 | Energy: -3.2896391827 | Mz: -0.3714490838 | Mx: 0.8866746207 |\n",
      "==> Simple Update converged. final error is 0.0000002809 < 0.0000010000.\n",
      "| D max:   2 | h: -3.1864406780 | Energy: -3.3504475719 | Mz: 0.2617293979 | Mx: 0.9179402864 |\n",
      "==> Simple Update converged. final error is 0.0000001011 < 0.0000010000.\n",
      "| D max:   2 | h: -3.2542372881 | Energy: -3.4130312047 | Mz: -0.0157501399 | Mx: 0.9474613624 |\n"
     ]
    },
    {
     "name": "stdout",
     "output_type": "stream",
     "text": [
      "==> Simple Update converged. final error is 0.0000000995 < 0.0000010000.\n",
      "| D max:   2 | h: -3.3220338983 | Energy: -3.4773510383 | Mz: -0.0061220514 | Mx: 0.9499163307 |\n",
      "==> Simple Update converged. final error is 0.0000000996 < 0.0000010000.\n",
      "| D max:   2 | h: -3.3898305085 | Energy: -3.5418294421 | Mz: 0.0031098580 | Mx: 0.9521348522 |\n",
      "==> Simple Update converged. final error is 0.0000000998 < 0.0000010000.\n",
      "| D max:   2 | h: -3.4576271186 | Energy: -3.6064523146 | Mz: 0.0018442022 | Mx: 0.9541952569 |\n",
      "==> Simple Update converged. final error is 0.0000001000 < 0.0000010000.\n",
      "| D max:   2 | h: -3.5254237288 | Energy: -3.6712099285 | Mz: 0.0011625538 | Mx: 0.9561182326 |\n",
      "==> Simple Update converged. final error is 0.0000001002 < 0.0000010000.\n",
      "| D max:   2 | h: -3.5932203390 | Energy: -3.7360934829 | Mz: -0.0009802413 | Mx: 0.9579170474 |\n",
      "==> Simple Update converged. final error is 0.0000001004 < 0.0000010000.\n",
      "| D max:   2 | h: -3.6610169492 | Energy: -3.8010951146 | Mz: 0.0006927509 | Mx: 0.9596032237 |\n",
      "==> Simple Update converged. final error is 0.0000001007 < 0.0000010000.\n",
      "| D max:   2 | h: -3.7288135593 | Energy: -3.8662074842 | Mz: 0.0003816074 | Mx: 0.9611863173 |\n",
      "==> Simple Update converged. final error is 0.0000001010 < 0.0000010000.\n",
      "| D max:   2 | h: -3.7966101695 | Energy: -3.9314238638 | Mz: 0.0003206137 | Mx: 0.9626748199 |\n",
      "==> Simple Update converged. final error is 0.0000001013 < 0.0000010000.\n",
      "| D max:   2 | h: -3.8644067797 | Energy: -3.9967381540 | Mz: -0.0002894299 | Mx: 0.9640764964 |\n",
      "==> Simple Update converged. final error is 0.0000001016 < 0.0000010000.\n",
      "| D max:   2 | h: -3.9322033898 | Energy: -4.0621447229 | Mz: 0.0001679938 | Mx: 0.9653982247 |\n",
      "==> Simple Update converged. final error is 0.0000001019 < 0.0000010000.\n",
      "| D max:   2 | h: -4.0000000000 | Energy: -4.1276383352 | Mz: 0.0002015268 | Mx: 0.9666461585 |\n"
     ]
    }
   ],
   "source": [
    "# The Tensor Network structure matrix\n",
    "ising_structure_matrix = np.array([[1, 2, 3, 4, 0, 0, 0, 0],\n",
    "                                   [1, 2, 0, 0, 3, 4, 0, 0],\n",
    "                                   [0, 0, 1, 2, 0, 0, 3, 4,],\n",
    "                                   [0, 0, 0, 0, 1, 2, 3, 4]])\n",
    "# Simple-Update parameters\n",
    "d_max_ising = [2]\n",
    "error = 1e-6\n",
    "max_iterations = 200\n",
    "ising_energy = []\n",
    "ising_z_magnetizaton = []\n",
    "ising_x_magnetizaton = []\n",
    "\n",
    "j_ij_ising = [-1.] * 8\n",
    "dts = [0.1, 0.01, 0.001, 0.0001, 0.00001]\n",
    "h_k = -np.linspace(0, 4, 60)\n",
    "\n",
    "# Pauli matrices\n",
    "pauli_x = np.array([[0, 1],\n",
    "                    [1, 0]])\n",
    "pauli_y = np.array([[0, -1j],\n",
    "                    [1j, 0]])\n",
    "pauli_z = np.array([[1, 0],\n",
    "                    [0, -1]])\n",
    "\n",
    "s_i = [pauli_z]\n",
    "s_j = [pauli_z]\n",
    "s_k = [pauli_x]\n",
    "\n",
    "\n",
    "# Run\n",
    "for d_max in d_max_ising:\n",
    "    for h in h_k:\n",
    "        ising = TensorNetwork(structure_matrix=ising_structure_matrix, \n",
    "                              virtual_dim=d_max)\n",
    "        ising_su = su.SimpleUpdate(tensor_network=ising, \n",
    "                                  dts=dts, \n",
    "                                  j_ij=j_ij_ising, \n",
    "                                  h_k=h, \n",
    "                                  s_i=s_i, \n",
    "                                  s_j=s_j, \n",
    "                                  s_k=s_k, \n",
    "                                  d_max=d_max, \n",
    "                                  max_iterations=max_iterations, \n",
    "                                  convergence_error=error, \n",
    "                                  log_energy=False,\n",
    "                                  print_process=False)\n",
    "        ising_su.run()\n",
    "        energy = ising_su.energy_per_site()\n",
    "        z_magnetization = ising_su.expectation_per_site(pauli_z)\n",
    "        x_magnetization = ising_su.expectation_per_site(pauli_x)\n",
    "        print('| D max: {:3d} | h: {:3.10f} | Energy: {:3.10f} | Mz: {:3.10f} | Mx: {:3.10f} |'\n",
    "        .format(d_max, h, energy, z_magnetization, x_magnetization))\n",
    "        ising_energy.append(energy)\n",
    "        ising_z_magnetizaton.append(z_magnetization)\n",
    "        ising_x_magnetizaton.append(x_magnetization)"
   ]
  },
  {
   "cell_type": "markdown",
   "metadata": {},
   "source": [
    "### Plot Results"
   ]
  },
  {
   "cell_type": "code",
   "execution_count": 11,
   "metadata": {
    "colab": {
     "base_uri": "https://localhost:8080/",
     "height": 437
    },
    "id": "_SxZljU3lLgP",
    "outputId": "d78fcd23-6a79-4567-8269-c6daf9c07c60"
   },
   "outputs": [
    {
     "data": {
      "text/plain": [
       "<matplotlib.legend.Legend at 0x7f7df826bbb0>"
      ]
     },
     "execution_count": 11,
     "metadata": {},
     "output_type": "execute_result"
    },
    {
     "data": {
      "image/png": "[encoded data removed]",
      "text/plain": [
       "<Figure size 1224x432 with 2 Axes>"
      ]
     },
     "metadata": {},
     "output_type": "display_data"
    }
   ],
   "source": [
    "fig, ax = plt.subplots(1, 2, figsize=(17, 6))\n",
    "ax[0].plot(-h_k, ising_energy, '--o', label=r'$\\epsilon_0$', color='tab:red', \n",
    "           markerfacecolor='none', linewidth=1, markersize=10)\n",
    "ax[0].set_xlabel(r'h')\n",
    "ax[0].set_ylabel(r'$\\epsilon_0$')\n",
    "ax[0].set_title('$2D$ Ising model ground-state energy per-site')\n",
    "ax[0].tick_params(direction='in', axis='both')\n",
    "ax[0].grid()\n",
    "ax[0].legend()\n",
    "\n",
    "ax[1].plot(-h_k, np.abs(np.array(ising_z_magnetizaton)), '--o', label=r'$M_z$', \n",
    "           color='tab:blue', markerfacecolor='none', linewidth=1, markersize=10)\n",
    "ax[1].plot(-h_k, ising_x_magnetizaton, '--o', label=r'$M_x$', color='tab:green', \n",
    "           markerfacecolor='none', linewidth=1, markersize=10)\n",
    "ax[1].set_xlabel(r'h')\n",
    "ax[1].set_ylabel(r'$M$')\n",
    "ax[1].set_title(r'$2D$ Ising model $\\hat{z}, \\hat{x}$ magnetizations per-site')\n",
    "ax[1].tick_params(direction='in', axis='both')\n",
    "ax[1].grid()\n",
    "ax[1].legend()"
   ]
  },
  {
   "cell_type": "code",
   "execution_count": null,
   "metadata": {
    "id": "t1h0dPgElmpX"
   },
   "outputs": [],
   "source": []
  }
 ],
 "metadata": {
  "colab": {
   "authorship_tag": "ABX9TyPlspSDHXYhdTqnOjTe77Fh",
   "include_colab_link": true,
   "name": "Quantum_Ising_Model_Phase_Transition.ipynb",
   "provenance": []
  },
  "kernelspec": {
   "display_name": "Python 3",
   "language": "python",
   "name": "python3"
  },
  "language_info": {
   "codemirror_mode": {
    "name": "ipython",
    "version": 3
   },
   "file_extension": ".py",
   "mimetype": "text/x-python",
   "name": "python",
   "nbconvert_exporter": "python",
   "pygments_lexer": "ipython3",
   "version": "3.8.0"
  },
  "widgets": {
   "application/vnd.jupyter.widget-state+json": {
    "2ae0bcb18f6b4f0caddd91998dd5bea3": {
     "model_module": "@jupyter-widgets/base",
     "model_name": "LayoutModel",
     "state": {
      "_model_module": "@jupyter-widgets/base",
      "_model_module_version": "1.2.0",
      "_model_name": "LayoutModel",
      "_view_count": null,
      "_view_module": "@jupyter-widgets/base",
      "_view_module_version": "1.2.0",
      "_view_name": "LayoutView",
      "align_content": null,
      "align_items": null,
      "align_self": null,
      "border": null,
      "bottom": null,
      "display": null,
      "flex": null,
      "flex_flow": null,
      "grid_area": null,
      "grid_auto_columns": null,
      "grid_auto_flow": null,
      "grid_auto_rows": null,
      "grid_column": null,
      "grid_gap": null,
      "grid_row": null,
      "grid_template_areas": null,
      "grid_template_columns": null,
      "grid_template_rows": null,
      "height": null,
      "justify_content": null,
      "justify_items": null,
      "left": null,
      "margin": null,
      "max_height": null,
      "max_width": null,
      "min_height": null,
      "min_width": null,
      "object_fit": null,
      "object_position": null,
      "order": null,
      "overflow": null,
      "overflow_x": null,
      "overflow_y": null,
      "padding": null,
      "right": null,
      "top": null,
      "visibility": null,
      "width": null
     }
    },
    "42572937b4f44b6583d1858b86a60205": {
     "model_module": "@jupyter-widgets/base",
     "model_name": "LayoutModel",
     "state": {
      "_model_module": "@jupyter-widgets/base",
      "_model_module_version": "1.2.0",
      "_model_name": "LayoutModel",
      "_view_count": null,
      "_view_module": "@jupyter-widgets/base",
      "_view_module_version": "1.2.0",
      "_view_name": "LayoutView",
      "align_content": null,
      "align_items": null,
      "align_self": null,
      "border": null,
      "bottom": null,
      "display": null,
      "flex": null,
      "flex_flow": null,
      "grid_area": null,
      "grid_auto_columns": null,
      "grid_auto_flow": null,
      "grid_auto_rows": null,
      "grid_column": null,
      "grid_gap": null,
      "grid_row": null,
      "grid_template_areas": null,
      "grid_template_columns": null,
      "grid_template_rows": null,
      "height": null,
      "justify_content": null,
      "justify_items": null,
      "left": null,
      "margin": null,
      "max_height": null,
      "max_width": null,
      "min_height": null,
      "min_width": null,
      "object_fit": null,
      "object_position": null,
      "order": null,
      "overflow": null,
      "overflow_x": null,
      "overflow_y": null,
      "padding": null,
      "right": null,
      "top": null,
      "visibility": null,
      "width": null
     }
    },
    "78eaeef960dd481a94f1e22fe98f88cf": {
     "model_module": "@jupyter-widgets/controls",
     "model_name": "HTMLModel",
     "state": {
      "_dom_classes": [],
      "_model_module": "@jupyter-widgets/controls",
      "_model_module_version": "1.5.0",
      "_model_name": "HTMLModel",
      "_view_count": null,
      "_view_module": "@jupyter-widgets/controls",
      "_view_module_version": "1.5.0",
      "_view_name": "HTMLView",
      "description": "",
      "description_tooltip": null,
      "layout": "IPY_MODEL_2ae0bcb18f6b4f0caddd91998dd5bea3",
      "placeholder": "​",
      "style": "IPY_MODEL_d2f75953be0c4aa9a3dd328fb97bd25d",
      "value": " 60/60 [07:27&lt;00:00,  7.46s/it]"
     }
    },
    "9a18c1e737a340efaac39f706a112b27": {
     "model_module": "@jupyter-widgets/controls",
     "model_name": "FloatProgressModel",
     "state": {
      "_dom_classes": [],
      "_model_module": "@jupyter-widgets/controls",
      "_model_module_version": "1.5.0",
      "_model_name": "FloatProgressModel",
      "_view_count": null,
      "_view_module": "@jupyter-widgets/controls",
      "_view_module_version": "1.5.0",
      "_view_name": "ProgressView",
      "bar_style": "success",
      "description": "100%",
      "description_tooltip": null,
      "layout": "IPY_MODEL_bf62e84e68234879b724349b333fadff",
      "max": 60,
      "min": 0,
      "orientation": "horizontal",
      "style": "IPY_MODEL_a0027bc389b7489d91cf94ccdbf9c291",
      "value": 60
     }
    },
    "a0027bc389b7489d91cf94ccdbf9c291": {
     "model_module": "@jupyter-widgets/controls",
     "model_name": "ProgressStyleModel",
     "state": {
      "_model_module": "@jupyter-widgets/controls",
      "_model_module_version": "1.5.0",
      "_model_name": "ProgressStyleModel",
      "_view_count": null,
      "_view_module": "@jupyter-widgets/base",
      "_view_module_version": "1.2.0",
      "_view_name": "StyleView",
      "bar_color": null,
      "description_width": "initial"
     }
    },
    "bf62e84e68234879b724349b333fadff": {
     "model_module": "@jupyter-widgets/base",
     "model_name": "LayoutModel",
     "state": {
      "_model_module": "@jupyter-widgets/base",
      "_model_module_version": "1.2.0",
      "_model_name": "LayoutModel",
      "_view_count": null,
      "_view_module": "@jupyter-widgets/base",
      "_view_module_version": "1.2.0",
      "_view_name": "LayoutView",
      "align_content": null,
      "align_items": null,
      "align_self": null,
      "border": null,
      "bottom": null,
      "display": null,
      "flex": null,
      "flex_flow": null,
      "grid_area": null,
      "grid_auto_columns": null,
      "grid_auto_flow": null,
      "grid_auto_rows": null,
      "grid_column": null,
      "grid_gap": null,
      "grid_row": null,
      "grid_template_areas": null,
      "grid_template_columns": null,
      "grid_template_rows": null,
      "height": null,
      "justify_content": null,
      "justify_items": null,
      "left": null,
      "margin": null,
      "max_height": null,
      "max_width": null,
      "min_height": null,
      "min_width": null,
      "object_fit": null,
      "object_position": null,
      "order": null,
      "overflow": null,
      "overflow_x": null,
      "overflow_y": null,
      "padding": null,
      "right": null,
      "top": null,
      "visibility": null,
      "width": null
     }
    },
    "c3459cfa365748819f769a0a56ce5e35": {
     "model_module": "@jupyter-widgets/controls",
     "model_name": "HBoxModel",
     "state": {
      "_dom_classes": [],
      "_model_module": "@jupyter-widgets/controls",
      "_model_module_version": "1.5.0",
      "_model_name": "HBoxModel",
      "_view_count": null,
      "_view_module": "@jupyter-widgets/controls",
      "_view_module_version": "1.5.0",
      "_view_name": "HBoxView",
      "box_style": "",
      "children": [
       "IPY_MODEL_9a18c1e737a340efaac39f706a112b27",
       "IPY_MODEL_78eaeef960dd481a94f1e22fe98f88cf"
      ],
      "layout": "IPY_MODEL_42572937b4f44b6583d1858b86a60205"
     }
    },
    "d2f75953be0c4aa9a3dd328fb97bd25d": {
     "model_module": "@jupyter-widgets/controls",
     "model_name": "DescriptionStyleModel",
     "state": {
      "_model_module": "@jupyter-widgets/controls",
      "_model_module_version": "1.5.0",
      "_model_name": "DescriptionStyleModel",
      "_view_count": null,
      "_view_module": "@jupyter-widgets/base",
      "_view_module_version": "1.2.0",
      "_view_name": "StyleView",
      "description_width": ""
     }
    }
   }
  }
 },
 "nbformat": 4,
 "nbformat_minor": 1
}
